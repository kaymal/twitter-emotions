{
 "cells": [
  {
   "cell_type": "markdown",
   "metadata": {},
   "source": [
    "# Classifying Tweet Emotions"
   ]
  },
  {
   "cell_type": "code",
   "execution_count": 1,
   "metadata": {},
   "outputs": [],
   "source": [
    "# Import necessary modules\n",
    "import pandas as pd\n",
    "import numpy as np\n",
    "import re\n",
    "\n",
    "%matplotlib inline\n",
    "import matplotlib.pylab as plt\n",
    "import seaborn as sns\n",
    "\n",
    "# Import NLP modules\n",
    "import fasttext\n",
    "# from textblob import TextBlob\n",
    "# from langdetect import detect\n",
    "\n",
    "pd.set_option('display.max_colwidth', 160)"
   ]
  },
  {
   "cell_type": "markdown",
   "metadata": {},
   "source": [
    "## Data Preparation"
   ]
  },
  {
   "cell_type": "code",
   "execution_count": 2,
   "metadata": {},
   "outputs": [],
   "source": [
    "# Read data\n",
    "df = pd.read_csv('data/text_emotion.csv', usecols=list(range(1,4)))"
   ]
  },
  {
   "cell_type": "code",
   "execution_count": 3,
   "metadata": {},
   "outputs": [
    {
     "data": {
      "text/html": [
       "<div>\n",
       "<style scoped>\n",
       "    .dataframe tbody tr th:only-of-type {\n",
       "        vertical-align: middle;\n",
       "    }\n",
       "\n",
       "    .dataframe tbody tr th {\n",
       "        vertical-align: top;\n",
       "    }\n",
       "\n",
       "    .dataframe thead th {\n",
       "        text-align: right;\n",
       "    }\n",
       "</style>\n",
       "<table border=\"1\" class=\"dataframe\">\n",
       "  <thead>\n",
       "    <tr style=\"text-align: right;\">\n",
       "      <th></th>\n",
       "      <th>sentiment</th>\n",
       "      <th>author</th>\n",
       "      <th>content</th>\n",
       "    </tr>\n",
       "  </thead>\n",
       "  <tbody>\n",
       "    <tr>\n",
       "      <th>0</th>\n",
       "      <td>empty</td>\n",
       "      <td>xoshayzers</td>\n",
       "      <td>@tiffanylue i know  i was listenin to bad habit earlier and i started freakin at his part =[</td>\n",
       "    </tr>\n",
       "    <tr>\n",
       "      <th>1</th>\n",
       "      <td>sadness</td>\n",
       "      <td>wannamama</td>\n",
       "      <td>Layin n bed with a headache  ughhhh...waitin on your call...</td>\n",
       "    </tr>\n",
       "    <tr>\n",
       "      <th>2</th>\n",
       "      <td>sadness</td>\n",
       "      <td>coolfunky</td>\n",
       "      <td>Funeral ceremony...gloomy friday...</td>\n",
       "    </tr>\n",
       "    <tr>\n",
       "      <th>3</th>\n",
       "      <td>enthusiasm</td>\n",
       "      <td>czareaquino</td>\n",
       "      <td>wants to hang out with friends SOON!</td>\n",
       "    </tr>\n",
       "    <tr>\n",
       "      <th>4</th>\n",
       "      <td>neutral</td>\n",
       "      <td>xkilljoyx</td>\n",
       "      <td>@dannycastillo We want to trade with someone who has Houston tickets, but no one will.</td>\n",
       "    </tr>\n",
       "  </tbody>\n",
       "</table>\n",
       "</div>"
      ],
      "text/plain": [
       "    sentiment       author  \\\n",
       "0       empty   xoshayzers   \n",
       "1     sadness    wannamama   \n",
       "2     sadness    coolfunky   \n",
       "3  enthusiasm  czareaquino   \n",
       "4     neutral    xkilljoyx   \n",
       "\n",
       "                                                                                        content  \n",
       "0  @tiffanylue i know  i was listenin to bad habit earlier and i started freakin at his part =[  \n",
       "1                                  Layin n bed with a headache  ughhhh...waitin on your call...  \n",
       "2                                                           Funeral ceremony...gloomy friday...  \n",
       "3                                                          wants to hang out with friends SOON!  \n",
       "4        @dannycastillo We want to trade with someone who has Houston tickets, but no one will.  "
      ]
     },
     "execution_count": 3,
     "metadata": {},
     "output_type": "execute_result"
    }
   ],
   "source": [
    "# Print the head of the data\n",
    "df.head()"
   ]
  },
  {
   "cell_type": "code",
   "execution_count": 4,
   "metadata": {},
   "outputs": [
    {
     "name": "stdout",
     "output_type": "stream",
     "text": [
      "<class 'pandas.core.frame.DataFrame'>\n",
      "RangeIndex: 40000 entries, 0 to 39999\n",
      "Data columns (total 3 columns):\n",
      "sentiment    40000 non-null object\n",
      "author       40000 non-null object\n",
      "content      40000 non-null object\n",
      "dtypes: object(3)\n",
      "memory usage: 937.6+ KB\n"
     ]
    }
   ],
   "source": [
    "# Print the structure of the data\n",
    "df.info()"
   ]
  },
  {
   "cell_type": "code",
   "execution_count": 5,
   "metadata": {},
   "outputs": [
    {
     "data": {
      "text/html": [
       "<div>\n",
       "<style scoped>\n",
       "    .dataframe tbody tr th:only-of-type {\n",
       "        vertical-align: middle;\n",
       "    }\n",
       "\n",
       "    .dataframe tbody tr th {\n",
       "        vertical-align: top;\n",
       "    }\n",
       "\n",
       "    .dataframe thead th {\n",
       "        text-align: right;\n",
       "    }\n",
       "</style>\n",
       "<table border=\"1\" class=\"dataframe\">\n",
       "  <thead>\n",
       "    <tr style=\"text-align: right;\">\n",
       "      <th></th>\n",
       "      <th>sentiment</th>\n",
       "      <th>author</th>\n",
       "      <th>content</th>\n",
       "    </tr>\n",
       "  </thead>\n",
       "  <tbody>\n",
       "    <tr>\n",
       "      <th>count</th>\n",
       "      <td>40000</td>\n",
       "      <td>40000</td>\n",
       "      <td>40000</td>\n",
       "    </tr>\n",
       "    <tr>\n",
       "      <th>unique</th>\n",
       "      <td>13</td>\n",
       "      <td>33871</td>\n",
       "      <td>39827</td>\n",
       "    </tr>\n",
       "    <tr>\n",
       "      <th>top</th>\n",
       "      <td>neutral</td>\n",
       "      <td>MissxMarisa</td>\n",
       "      <td>I just received a mothers day card from my lovely daughter wishing my a happy mothers day  http://tr.im/kWK9</td>\n",
       "    </tr>\n",
       "    <tr>\n",
       "      <th>freq</th>\n",
       "      <td>8638</td>\n",
       "      <td>23</td>\n",
       "      <td>14</td>\n",
       "    </tr>\n",
       "  </tbody>\n",
       "</table>\n",
       "</div>"
      ],
      "text/plain": [
       "       sentiment       author  \\\n",
       "count      40000        40000   \n",
       "unique        13        33871   \n",
       "top      neutral  MissxMarisa   \n",
       "freq        8638           23   \n",
       "\n",
       "                                                                                                             content  \n",
       "count                                                                                                          40000  \n",
       "unique                                                                                                         39827  \n",
       "top     I just received a mothers day card from my lovely daughter wishing my a happy mothers day  http://tr.im/kWK9  \n",
       "freq                                                                                                              14  "
      ]
     },
     "execution_count": 5,
     "metadata": {},
     "output_type": "execute_result"
    }
   ],
   "source": [
    "# Describe the data\n",
    "df.describe()"
   ]
  },
  {
   "cell_type": "markdown",
   "metadata": {
    "toc-hr-collapsed": true
   },
   "source": [
    "#### Investigating Columns"
   ]
  },
  {
   "cell_type": "markdown",
   "metadata": {},
   "source": [
    "##### Sentiment"
   ]
  },
  {
   "cell_type": "code",
   "execution_count": 6,
   "metadata": {},
   "outputs": [
    {
     "data": {
      "text/html": [
       "<div>\n",
       "<style scoped>\n",
       "    .dataframe tbody tr th:only-of-type {\n",
       "        vertical-align: middle;\n",
       "    }\n",
       "\n",
       "    .dataframe tbody tr th {\n",
       "        vertical-align: top;\n",
       "    }\n",
       "\n",
       "    .dataframe thead th {\n",
       "        text-align: right;\n",
       "    }\n",
       "</style>\n",
       "<table border=\"1\" class=\"dataframe\">\n",
       "  <thead>\n",
       "    <tr style=\"text-align: right;\">\n",
       "      <th></th>\n",
       "      <th>sentiment</th>\n",
       "      <th>sentiment</th>\n",
       "    </tr>\n",
       "  </thead>\n",
       "  <tbody>\n",
       "    <tr>\n",
       "      <th>neutral</th>\n",
       "      <td>8638.0</td>\n",
       "      <td>0.215950</td>\n",
       "    </tr>\n",
       "    <tr>\n",
       "      <th>worry</th>\n",
       "      <td>8459.0</td>\n",
       "      <td>0.211475</td>\n",
       "    </tr>\n",
       "    <tr>\n",
       "      <th>happiness</th>\n",
       "      <td>5209.0</td>\n",
       "      <td>0.130225</td>\n",
       "    </tr>\n",
       "    <tr>\n",
       "      <th>sadness</th>\n",
       "      <td>5165.0</td>\n",
       "      <td>0.129125</td>\n",
       "    </tr>\n",
       "    <tr>\n",
       "      <th>love</th>\n",
       "      <td>3842.0</td>\n",
       "      <td>0.096050</td>\n",
       "    </tr>\n",
       "    <tr>\n",
       "      <th>surprise</th>\n",
       "      <td>2187.0</td>\n",
       "      <td>0.054675</td>\n",
       "    </tr>\n",
       "    <tr>\n",
       "      <th>fun</th>\n",
       "      <td>1776.0</td>\n",
       "      <td>0.044400</td>\n",
       "    </tr>\n",
       "    <tr>\n",
       "      <th>relief</th>\n",
       "      <td>1526.0</td>\n",
       "      <td>0.038150</td>\n",
       "    </tr>\n",
       "    <tr>\n",
       "      <th>hate</th>\n",
       "      <td>1323.0</td>\n",
       "      <td>0.033075</td>\n",
       "    </tr>\n",
       "    <tr>\n",
       "      <th>empty</th>\n",
       "      <td>827.0</td>\n",
       "      <td>0.020675</td>\n",
       "    </tr>\n",
       "    <tr>\n",
       "      <th>enthusiasm</th>\n",
       "      <td>759.0</td>\n",
       "      <td>0.018975</td>\n",
       "    </tr>\n",
       "    <tr>\n",
       "      <th>boredom</th>\n",
       "      <td>179.0</td>\n",
       "      <td>0.004475</td>\n",
       "    </tr>\n",
       "    <tr>\n",
       "      <th>anger</th>\n",
       "      <td>110.0</td>\n",
       "      <td>0.002750</td>\n",
       "    </tr>\n",
       "  </tbody>\n",
       "</table>\n",
       "</div>"
      ],
      "text/plain": [
       "            sentiment  sentiment\n",
       "neutral        8638.0   0.215950\n",
       "worry          8459.0   0.211475\n",
       "happiness      5209.0   0.130225\n",
       "sadness        5165.0   0.129125\n",
       "love           3842.0   0.096050\n",
       "surprise       2187.0   0.054675\n",
       "fun            1776.0   0.044400\n",
       "relief         1526.0   0.038150\n",
       "hate           1323.0   0.033075\n",
       "empty           827.0   0.020675\n",
       "enthusiasm      759.0   0.018975\n",
       "boredom         179.0   0.004475\n",
       "anger           110.0   0.002750"
      ]
     },
     "execution_count": 6,
     "metadata": {},
     "output_type": "execute_result"
    }
   ],
   "source": [
    "# Print the count and the ratio of the emotions\n",
    "pd.DataFrame([df.sentiment.value_counts(), df.sentiment.value_counts(normalize=True)]).T"
   ]
  },
  {
   "cell_type": "code",
   "execution_count": 8,
   "metadata": {},
   "outputs": [
    {
     "data": {
      "text/plain": [
       "Text(0.5, 1.0, 'Emotions Normalized')"
      ]
     },
     "execution_count": 8,
     "metadata": {},
     "output_type": "execute_result"
    },
    {
     "data": {
      "image/png": "[encoded data removed]",
      "text/plain": [
       "<Figure size 432x288 with 1 Axes>"
      ]
     },
     "metadata": {},
     "output_type": "display_data"
    }
   ],
   "source": [
    "# Use ggplot style\n",
    "plt.style.use('ggplot')\n",
    "\n",
    "# Plot the value counts of emotions\n",
    "df.sentiment.value_counts(normalize=True).sort_values(ascending=True).plot.barh()\n",
    "plt.title('Emotions Normalized')"
   ]
  },
  {
   "cell_type": "markdown",
   "metadata": {},
   "source": [
    "There is an emotion named \"empty\" in the data. I'd like to understand what it really means."
   ]
  },
  {
   "cell_type": "code",
   "execution_count": 17,
   "metadata": {},
   "outputs": [
    {
     "data": {
      "text/html": [
       "<div>\n",
       "<style scoped>\n",
       "    .dataframe tbody tr th:only-of-type {\n",
       "        vertical-align: middle;\n",
       "    }\n",
       "\n",
       "    .dataframe tbody tr th {\n",
       "        vertical-align: top;\n",
       "    }\n",
       "\n",
       "    .dataframe thead th {\n",
       "        text-align: right;\n",
       "    }\n",
       "</style>\n",
       "<table border=\"1\" class=\"dataframe\">\n",
       "  <thead>\n",
       "    <tr style=\"text-align: right;\">\n",
       "      <th></th>\n",
       "      <th>sentiment</th>\n",
       "      <th>author</th>\n",
       "      <th>content</th>\n",
       "      <th>polarity</th>\n",
       "    </tr>\n",
       "  </thead>\n",
       "  <tbody>\n",
       "    <tr>\n",
       "      <th>0</th>\n",
       "      <td>empty</td>\n",
       "      <td>xoshayzers</td>\n",
       "      <td>@tiffanylue i know  i was listenin to bad habit earlier and i started freakin at his part =[</td>\n",
       "      <td>neutral</td>\n",
       "    </tr>\n",
       "    <tr>\n",
       "      <th>44</th>\n",
       "      <td>empty</td>\n",
       "      <td>Aggie9</td>\n",
       "      <td>@creyes middle school and elem. High schools will remain open for those who need credits to graduate. Cali is broken</td>\n",
       "      <td>neutral</td>\n",
       "    </tr>\n",
       "    <tr>\n",
       "      <th>52</th>\n",
       "      <td>empty</td>\n",
       "      <td>Dreness023</td>\n",
       "      <td>@djmicdamn hey yu lil fucker i textd yu</td>\n",
       "      <td>neutral</td>\n",
       "    </tr>\n",
       "    <tr>\n",
       "      <th>141</th>\n",
       "      <td>empty</td>\n",
       "      <td>Gen22</td>\n",
       "      <td>@softtouchme just answered you- never learned how to write in French- just basic stuff-</td>\n",
       "      <td>neutral</td>\n",
       "    </tr>\n",
       "    <tr>\n",
       "      <th>180</th>\n",
       "      <td>empty</td>\n",
       "      <td>_SNO_</td>\n",
       "      <td>Have a headache  I'm going to bed. Goodnight!</td>\n",
       "      <td>neutral</td>\n",
       "    </tr>\n",
       "  </tbody>\n",
       "</table>\n",
       "</div>"
      ],
      "text/plain": [
       "    sentiment      author  \\\n",
       "0       empty  xoshayzers   \n",
       "44      empty      Aggie9   \n",
       "52      empty  Dreness023   \n",
       "141     empty       Gen22   \n",
       "180     empty       _SNO_   \n",
       "\n",
       "                                                                                                                  content  \\\n",
       "0                            @tiffanylue i know  i was listenin to bad habit earlier and i started freakin at his part =[   \n",
       "44   @creyes middle school and elem. High schools will remain open for those who need credits to graduate. Cali is broken   \n",
       "52                                                                                @djmicdamn hey yu lil fucker i textd yu   \n",
       "141                               @softtouchme just answered you- never learned how to write in French- just basic stuff-   \n",
       "180                                                                         Have a headache  I'm going to bed. Goodnight!   \n",
       "\n",
       "    polarity  \n",
       "0    neutral  \n",
       "44   neutral  \n",
       "52   neutral  \n",
       "141  neutral  \n",
       "180  neutral  "
      ]
     },
     "execution_count": 17,
     "metadata": {},
     "output_type": "execute_result"
    }
   ],
   "source": [
    "# Print head of the tweets with sentiment \"empty\"\n",
    "df[df.sentiment == 'empty'].head()"
   ]
  },
  {
   "cell_type": "code",
   "execution_count": 18,
   "metadata": {},
   "outputs": [
    {
     "data": {
      "text/html": [
       "<div>\n",
       "<style scoped>\n",
       "    .dataframe tbody tr th:only-of-type {\n",
       "        vertical-align: middle;\n",
       "    }\n",
       "\n",
       "    .dataframe tbody tr th {\n",
       "        vertical-align: top;\n",
       "    }\n",
       "\n",
       "    .dataframe thead th {\n",
       "        text-align: right;\n",
       "    }\n",
       "</style>\n",
       "<table border=\"1\" class=\"dataframe\">\n",
       "  <thead>\n",
       "    <tr style=\"text-align: right;\">\n",
       "      <th></th>\n",
       "      <th>sentiment</th>\n",
       "      <th>author</th>\n",
       "      <th>content</th>\n",
       "      <th>polarity</th>\n",
       "    </tr>\n",
       "  </thead>\n",
       "  <tbody>\n",
       "    <tr>\n",
       "      <th>13603</th>\n",
       "      <td>empty</td>\n",
       "      <td>MelissaP4484</td>\n",
       "      <td>Sooo the Children's Museum was closed for a fund raiser when we got there.  annoying</td>\n",
       "      <td>neutral</td>\n",
       "    </tr>\n",
       "    <tr>\n",
       "      <th>15884</th>\n",
       "      <td>empty</td>\n",
       "      <td>andreayoas</td>\n",
       "      <td>@marykeegin I've been here since 3 and i'm here for 8 more hours tomorrow</td>\n",
       "      <td>neutral</td>\n",
       "    </tr>\n",
       "    <tr>\n",
       "      <th>19479</th>\n",
       "      <td>empty</td>\n",
       "      <td>MeganToscano</td>\n",
       "      <td>lotsa water. it's already dark out</td>\n",
       "      <td>neutral</td>\n",
       "    </tr>\n",
       "    <tr>\n",
       "      <th>25529</th>\n",
       "      <td>empty</td>\n",
       "      <td>Natss09</td>\n",
       "      <td>is making a cuppa coffeee</td>\n",
       "      <td>neutral</td>\n",
       "    </tr>\n",
       "    <tr>\n",
       "      <th>17414</th>\n",
       "      <td>empty</td>\n",
       "      <td>polover</td>\n",
       "      <td>@cheerleaderlexy she interviewed us on books. I was gonna say something, but she was all &amp;quot;Wait, I have something to say!&amp;quot;</td>\n",
       "      <td>neutral</td>\n",
       "    </tr>\n",
       "    <tr>\n",
       "      <th>203</th>\n",
       "      <td>empty</td>\n",
       "      <td>SexyBeach</td>\n",
       "      <td>@DymeDiva23 Nite. Now I'm up n bored as opposed to almost sleep frm b 4</td>\n",
       "      <td>neutral</td>\n",
       "    </tr>\n",
       "    <tr>\n",
       "      <th>6677</th>\n",
       "      <td>empty</td>\n",
       "      <td>Fred1337</td>\n",
       "      <td>just get back home. the first exam was too long no time to finish it ...</td>\n",
       "      <td>neutral</td>\n",
       "    </tr>\n",
       "    <tr>\n",
       "      <th>10119</th>\n",
       "      <td>empty</td>\n",
       "      <td>Woaahhh</td>\n",
       "      <td>gor i am soo bored, man i don't think i could get any more bored</td>\n",
       "      <td>neutral</td>\n",
       "    </tr>\n",
       "    <tr>\n",
       "      <th>29456</th>\n",
       "      <td>empty</td>\n",
       "      <td>alyssa_XD</td>\n",
       "      <td>@theDebbyRyan i left you some messages  -alyssaBRUNO&amp;lt;3</td>\n",
       "      <td>neutral</td>\n",
       "    </tr>\n",
       "    <tr>\n",
       "      <th>27848</th>\n",
       "      <td>empty</td>\n",
       "      <td>JenBarbie</td>\n",
       "      <td>Maybe going apartment shopping with Ashley?</td>\n",
       "      <td>neutral</td>\n",
       "    </tr>\n",
       "  </tbody>\n",
       "</table>\n",
       "</div>"
      ],
      "text/plain": [
       "      sentiment        author  \\\n",
       "13603     empty  MelissaP4484   \n",
       "15884     empty    andreayoas   \n",
       "19479     empty  MeganToscano   \n",
       "25529     empty       Natss09   \n",
       "17414     empty       polover   \n",
       "203       empty     SexyBeach   \n",
       "6677      empty      Fred1337   \n",
       "10119     empty       Woaahhh   \n",
       "29456     empty     alyssa_XD   \n",
       "27848     empty     JenBarbie   \n",
       "\n",
       "                                                                                                                                   content  \\\n",
       "13603                                                 Sooo the Children's Museum was closed for a fund raiser when we got there.  annoying   \n",
       "15884                                                            @marykeegin I've been here since 3 and i'm here for 8 more hours tomorrow   \n",
       "19479                                                                                                   lotsa water. it's already dark out   \n",
       "25529                                                                                                            is making a cuppa coffeee   \n",
       "17414  @cheerleaderlexy she interviewed us on books. I was gonna say something, but she was all &quot;Wait, I have something to say!&quot;   \n",
       "203                                                                @DymeDiva23 Nite. Now I'm up n bored as opposed to almost sleep frm b 4   \n",
       "6677                                                              just get back home. the first exam was too long no time to finish it ...   \n",
       "10119                                                                     gor i am soo bored, man i don't think i could get any more bored   \n",
       "29456                                                                            @theDebbyRyan i left you some messages  -alyssaBRUNO&lt;3   \n",
       "27848                                                                                          Maybe going apartment shopping with Ashley?   \n",
       "\n",
       "      polarity  \n",
       "13603  neutral  \n",
       "15884  neutral  \n",
       "19479  neutral  \n",
       "25529  neutral  \n",
       "17414  neutral  \n",
       "203    neutral  \n",
       "6677   neutral  \n",
       "10119  neutral  \n",
       "29456  neutral  \n",
       "27848  neutral  "
      ]
     },
     "execution_count": 18,
     "metadata": {},
     "output_type": "execute_result"
    }
   ],
   "source": [
    "# Investigate empty\n",
    "df[df.sentiment == 'empty'].sample(10)"
   ]
  },
  {
   "cell_type": "code",
   "execution_count": 22,
   "metadata": {},
   "outputs": [
    {
     "data": {
      "text/plain": [
       "827"
      ]
     },
     "execution_count": 22,
     "metadata": {},
     "output_type": "execute_result"
    }
   ],
   "source": [
    "# Number of observations with \"empty\" sentiment\n",
    "df[df.sentiment == 'empty'].shape[0]"
   ]
  },
  {
   "cell_type": "markdown",
   "metadata": {},
   "source": [
    "I's clear from the contents that \"empty\" is not the same as \"neutral\". There are various emotions among these tweets. Although the number of \"empty\" sentiments is not significant, the rows labeled `empty` may be dropped from the dataset."
   ]
  },
  {
   "cell_type": "code",
   "execution_count": 23,
   "metadata": {},
   "outputs": [],
   "source": [
    "# Drop rows  with sentiment \"empty\"\n",
    "df = df[df.sentiment != 'empty']\n",
    "\n",
    "## UPDATE FEATURE SELECTION"
   ]
  },
  {
   "cell_type": "markdown",
   "metadata": {},
   "source": [
    "##### Author"
   ]
  },
  {
   "cell_type": "code",
   "execution_count": 9,
   "metadata": {},
   "outputs": [
    {
     "data": {
      "text/plain": [
       "MissxMarisa        23\n",
       "ChineseLearn       22\n",
       "erkagarcia         19\n",
       "MiDesfileNegro     19\n",
       "lost_dog           18\n",
       "tsarnick           17\n",
       "KimmiMcfly         15\n",
       "linnetwoods        15\n",
       "Dogbook            14\n",
       "twebbstack         14\n",
       "cece_newnew        14\n",
       "mrs_mcsupergirl    14\n",
       "Quimo              14\n",
       "divxdownloads      13\n",
       "jesssicababesss    13\n",
       "TraceyHewins       12\n",
       "lesley007          12\n",
       "lopezwilfred       12\n",
       "Tittch             11\n",
       "ComedyQueen        11\n",
       "beingnobody        11\n",
       "MandyPandy32       11\n",
       "HanaStephenson     10\n",
       "Samm_xo            10\n",
       "sweetdreamer       10\n",
       "violetbakes        10\n",
       "Gemmaboyle         10\n",
       "DawnofOURnight     10\n",
       "keza34             10\n",
       "BrandySanDiego     10\n",
       "                   ..\n",
       "magicboop           1\n",
       "JustinJesselli      1\n",
       "kimislolling        1\n",
       "renatolz            1\n",
       "mjrsuperstar        1\n",
       "hairymaclary        1\n",
       "Zombie_Plan         1\n",
       "team140             1\n",
       "SicknastyKaryn      1\n",
       "Jeffdc5             1\n",
       "sallismoney         1\n",
       "allisonwannng       1\n",
       "JESSABRAHAMS        1\n",
       "slimcode            1\n",
       "barnicles1          1\n",
       "janeschmidt         1\n",
       "Sabrinakay08        1\n",
       "cassynyleve         1\n",
       "dailytwitter        1\n",
       "RobMoss             1\n",
       "xxxxxxx             1\n",
       "LSI_Rob             1\n",
       "lauash              1\n",
       "fernandasymonds     1\n",
       "adammiya            1\n",
       "carolchyau          1\n",
       "Mommy2jesse         1\n",
       "shaylyndanae        1\n",
       "blcchirp            1\n",
       "afef                1\n",
       "Name: author, Length: 33871, dtype: int64"
      ]
     },
     "execution_count": 9,
     "metadata": {},
     "output_type": "execute_result"
    }
   ],
   "source": [
    "# Print value counts\n",
    "df.author.value_counts()"
   ]
  },
  {
   "cell_type": "code",
   "execution_count": 10,
   "metadata": {},
   "outputs": [
    {
     "data": {
      "text/html": [
       "<div>\n",
       "<style scoped>\n",
       "    .dataframe tbody tr th:only-of-type {\n",
       "        vertical-align: middle;\n",
       "    }\n",
       "\n",
       "    .dataframe tbody tr th {\n",
       "        vertical-align: top;\n",
       "    }\n",
       "\n",
       "    .dataframe thead th {\n",
       "        text-align: right;\n",
       "    }\n",
       "</style>\n",
       "<table border=\"1\" class=\"dataframe\">\n",
       "  <thead>\n",
       "    <tr style=\"text-align: right;\">\n",
       "      <th></th>\n",
       "      <th>sentiment</th>\n",
       "      <th>author</th>\n",
       "      <th>content</th>\n",
       "    </tr>\n",
       "  </thead>\n",
       "  <tbody>\n",
       "    <tr>\n",
       "      <th>260</th>\n",
       "      <td>surprise</td>\n",
       "      <td>MissxMarisa</td>\n",
       "      <td>@freshypanda Im sorry  I don't think I stick out, at least compared to what I used to look like.</td>\n",
       "    </tr>\n",
       "    <tr>\n",
       "      <th>333</th>\n",
       "      <td>hate</td>\n",
       "      <td>MissxMarisa</td>\n",
       "      <td>@meganmansyn Hahahaha! It's not horrible, if others were singing with I'm sure it could work. I wish I could afford my own drum set</td>\n",
       "    </tr>\n",
       "    <tr>\n",
       "      <th>1941</th>\n",
       "      <td>neutral</td>\n",
       "      <td>MissxMarisa</td>\n",
       "      <td>@tsarnick This year</td>\n",
       "    </tr>\n",
       "    <tr>\n",
       "      <th>2143</th>\n",
       "      <td>worry</td>\n",
       "      <td>MissxMarisa</td>\n",
       "      <td>@Zobi09 I'm concerned for that family</td>\n",
       "    </tr>\n",
       "    <tr>\n",
       "      <th>2298</th>\n",
       "      <td>neutral</td>\n",
       "      <td>MissxMarisa</td>\n",
       "      <td>@tsarnick Yeah, that was my thumb last night. Sorry</td>\n",
       "    </tr>\n",
       "    <tr>\n",
       "      <th>21267</th>\n",
       "      <td>love</td>\n",
       "      <td>MissxMarisa</td>\n",
       "      <td>@shortyyyy Thank you  I liked Joe's clothes' being ripped off and then Kevin screaming, &amp;quot;Who are you!?!&amp;quot; XD</td>\n",
       "    </tr>\n",
       "    <tr>\n",
       "      <th>21560</th>\n",
       "      <td>surprise</td>\n",
       "      <td>MissxMarisa</td>\n",
       "      <td>@Zanna85 Bill can take me to Fangtasia and hit this shot anytime! &amp;quot;Roads, where we're going we don't need roads.&amp;quot; LOVE that part!</td>\n",
       "    </tr>\n",
       "    <tr>\n",
       "      <th>22574</th>\n",
       "      <td>happiness</td>\n",
       "      <td>MissxMarisa</td>\n",
       "      <td>@Zobi09 The cast of True Blood was there</td>\n",
       "    </tr>\n",
       "    <tr>\n",
       "      <th>22773</th>\n",
       "      <td>sadness</td>\n",
       "      <td>MissxMarisa</td>\n",
       "      <td>@Zobi09 Haha yes I do  it's hard work, too! I didn't get home until 3:00 AM, not like I sleep haha.</td>\n",
       "    </tr>\n",
       "    <tr>\n",
       "      <th>23154</th>\n",
       "      <td>neutral</td>\n",
       "      <td>MissxMarisa</td>\n",
       "      <td>@TheLonely California</td>\n",
       "    </tr>\n",
       "    <tr>\n",
       "      <th>23513</th>\n",
       "      <td>neutral</td>\n",
       "      <td>MissxMarisa</td>\n",
       "      <td>@TheLonely Oh you do? I have the ability to teleport</td>\n",
       "    </tr>\n",
       "    <tr>\n",
       "      <th>23675</th>\n",
       "      <td>happiness</td>\n",
       "      <td>MissxMarisa</td>\n",
       "      <td>@TheLonely Aww how sweet</td>\n",
       "    </tr>\n",
       "    <tr>\n",
       "      <th>23822</th>\n",
       "      <td>love</td>\n",
       "      <td>MissxMarisa</td>\n",
       "      <td>@TheLonely How lovely</td>\n",
       "    </tr>\n",
       "    <tr>\n",
       "      <th>24296</th>\n",
       "      <td>surprise</td>\n",
       "      <td>MissxMarisa</td>\n",
       "      <td>@tsarnick Yeah, you better be sorry! I can't believe you, kiss my sass!!!</td>\n",
       "    </tr>\n",
       "    <tr>\n",
       "      <th>24937</th>\n",
       "      <td>fun</td>\n",
       "      <td>MissxMarisa</td>\n",
       "      <td>@shortyyyy Aww how cute! You'd love my bathroom  http://twitpic.com/4jez4</td>\n",
       "    </tr>\n",
       "    <tr>\n",
       "      <th>24955</th>\n",
       "      <td>happiness</td>\n",
       "      <td>MissxMarisa</td>\n",
       "      <td>@tsarnick I'm very passionate about my interests and go above and beyond  I mean, you've followed The Wiggles, right?</td>\n",
       "    </tr>\n",
       "    <tr>\n",
       "      <th>25124</th>\n",
       "      <td>happiness</td>\n",
       "      <td>MissxMarisa</td>\n",
       "      <td>@shortyyyy It was only $8.00 for the curtain and the two rugs  it makes bathing exciting hahaha!</td>\n",
       "    </tr>\n",
       "    <tr>\n",
       "      <th>25345</th>\n",
       "      <td>neutral</td>\n",
       "      <td>MissxMarisa</td>\n",
       "      <td>@tsarnick OH! Jonas Brother's 3D movie comes out next week in Kangaroo Land  I missed it when it was here.</td>\n",
       "    </tr>\n",
       "    <tr>\n",
       "      <th>26143</th>\n",
       "      <td>worry</td>\n",
       "      <td>MissxMarisa</td>\n",
       "      <td>@tsarnick Ohhhh I don't know ;) an older mature lady?</td>\n",
       "    </tr>\n",
       "    <tr>\n",
       "      <th>35820</th>\n",
       "      <td>worry</td>\n",
       "      <td>MissxMarisa</td>\n",
       "      <td>@Rayyychell They're for my mama  I always bake late and get worried that the mixer is gonna bother people.</td>\n",
       "    </tr>\n",
       "    <tr>\n",
       "      <th>36065</th>\n",
       "      <td>neutral</td>\n",
       "      <td>MissxMarisa</td>\n",
       "      <td>@MeMinty Yeah it's afireinside687</td>\n",
       "    </tr>\n",
       "    <tr>\n",
       "      <th>39333</th>\n",
       "      <td>love</td>\n",
       "      <td>MissxMarisa</td>\n",
       "      <td>@gh_rocks Aww how sweet you are</td>\n",
       "    </tr>\n",
       "    <tr>\n",
       "      <th>39413</th>\n",
       "      <td>worry</td>\n",
       "      <td>MissxMarisa</td>\n",
       "      <td>@freshypanda I work with drunk golfers, it can be exciting! It wasn't bad  Yours, sir?</td>\n",
       "    </tr>\n",
       "  </tbody>\n",
       "</table>\n",
       "</div>"
      ],
      "text/plain": [
       "       sentiment       author  \\\n",
       "260     surprise  MissxMarisa   \n",
       "333         hate  MissxMarisa   \n",
       "1941     neutral  MissxMarisa   \n",
       "2143       worry  MissxMarisa   \n",
       "2298     neutral  MissxMarisa   \n",
       "21267       love  MissxMarisa   \n",
       "21560   surprise  MissxMarisa   \n",
       "22574  happiness  MissxMarisa   \n",
       "22773    sadness  MissxMarisa   \n",
       "23154    neutral  MissxMarisa   \n",
       "23513    neutral  MissxMarisa   \n",
       "23675  happiness  MissxMarisa   \n",
       "23822       love  MissxMarisa   \n",
       "24296   surprise  MissxMarisa   \n",
       "24937        fun  MissxMarisa   \n",
       "24955  happiness  MissxMarisa   \n",
       "25124  happiness  MissxMarisa   \n",
       "25345    neutral  MissxMarisa   \n",
       "26143      worry  MissxMarisa   \n",
       "35820      worry  MissxMarisa   \n",
       "36065    neutral  MissxMarisa   \n",
       "39333       love  MissxMarisa   \n",
       "39413      worry  MissxMarisa   \n",
       "\n",
       "                                                                                                                                           content  \n",
       "260                                               @freshypanda Im sorry  I don't think I stick out, at least compared to what I used to look like.  \n",
       "333            @meganmansyn Hahahaha! It's not horrible, if others were singing with I'm sure it could work. I wish I could afford my own drum set  \n",
       "1941                                                                                                                           @tsarnick This year  \n",
       "2143                                                                                                         @Zobi09 I'm concerned for that family  \n",
       "2298                                                                                           @tsarnick Yeah, that was my thumb last night. Sorry  \n",
       "21267                        @shortyyyy Thank you  I liked Joe's clothes' being ripped off and then Kevin screaming, &quot;Who are you!?!&quot; XD  \n",
       "21560  @Zanna85 Bill can take me to Fangtasia and hit this shot anytime! &quot;Roads, where we're going we don't need roads.&quot; LOVE that part!  \n",
       "22574                                                                                                     @Zobi09 The cast of True Blood was there  \n",
       "22773                                          @Zobi09 Haha yes I do  it's hard work, too! I didn't get home until 3:00 AM, not like I sleep haha.  \n",
       "23154                                                                                                                        @TheLonely California  \n",
       "23513                                                                                         @TheLonely Oh you do? I have the ability to teleport  \n",
       "23675                                                                                                                     @TheLonely Aww how sweet  \n",
       "23822                                                                                                                        @TheLonely How lovely  \n",
       "24296                                                                    @tsarnick Yeah, you better be sorry! I can't believe you, kiss my sass!!!  \n",
       "24937                                                                    @shortyyyy Aww how cute! You'd love my bathroom  http://twitpic.com/4jez4  \n",
       "24955                        @tsarnick I'm very passionate about my interests and go above and beyond  I mean, you've followed The Wiggles, right?  \n",
       "25124                                             @shortyyyy It was only $8.00 for the curtain and the two rugs  it makes bathing exciting hahaha!  \n",
       "25345                                   @tsarnick OH! Jonas Brother's 3D movie comes out next week in Kangaroo Land  I missed it when it was here.  \n",
       "26143                                                                                        @tsarnick Ohhhh I don't know ;) an older mature lady?  \n",
       "35820                                   @Rayyychell They're for my mama  I always bake late and get worried that the mixer is gonna bother people.  \n",
       "36065                                                                                                            @MeMinty Yeah it's afireinside687  \n",
       "39333                                                                                                              @gh_rocks Aww how sweet you are  \n",
       "39413                                                       @freshypanda I work with drunk golfers, it can be exciting! It wasn't bad  Yours, sir?  "
      ]
     },
     "execution_count": 10,
     "metadata": {},
     "output_type": "execute_result"
    }
   ],
   "source": [
    "# Print the tweets of the author with highest number of tweets\n",
    "df[df.author=='MissxMarisa']"
   ]
  },
  {
   "cell_type": "markdown",
   "metadata": {},
   "source": [
    "##### Content"
   ]
  },
  {
   "cell_type": "code",
   "execution_count": 46,
   "metadata": {},
   "outputs": [
    {
     "data": {
      "text/plain": [
       "I just received a mothers day card from my lovely daughter wishing my a happy mothers day  http://tr.im/kWK9                     14\n",
       "FREE UNLIMITED RINGTONES!!! - http://tinyurl.com/freeringring - USA ONLY - Awesome 4 iphone                                      13\n",
       "Happy Mothers Day                                                                                                                10\n",
       "Happy Mother's Day!                                                                                                              10\n",
       "happy mother's day                                                                                                                8\n",
       "                                                                                                                                 ..\n",
       "@andyclemmensen have you seen the game on the website?! awesomness!!! go on msn                                                   2\n",
       "@thecompletes seen u a couple of times. Liked it                                                                                  2\n",
       "@RealHughJackman Wolverine is awesome.. love it! your such a great actor..                                                        2\n",
       "@JonathanRKnight BTW I STILL can't believe how Awesome the NEWJABBAKIDZ performance was...U in the masks..I screamed at my pc     2\n",
       "Just cleaned mii scrolly ball!                                                                                                    2\n",
       "Name: content, Length: 89, dtype: int64"
      ]
     },
     "execution_count": 46,
     "metadata": {},
     "output_type": "execute_result"
    }
   ],
   "source": [
    "# Print the tweets of the authors who has multiple tweets in the dataset\n",
    "df.content.value_counts()[df.content.value_counts()>1]"
   ]
  },
  {
   "cell_type": "markdown",
   "metadata": {},
   "source": [
    "Some tweets are tweeted multiple times by different users. These may also be Retweets. There is not any information about RTs in the dataset."
   ]
  },
  {
   "cell_type": "code",
   "execution_count": 50,
   "metadata": {},
   "outputs": [
    {
     "data": {
      "text/html": [
       "<div>\n",
       "<style scoped>\n",
       "    .dataframe tbody tr th:only-of-type {\n",
       "        vertical-align: middle;\n",
       "    }\n",
       "\n",
       "    .dataframe tbody tr th {\n",
       "        vertical-align: top;\n",
       "    }\n",
       "\n",
       "    .dataframe thead th {\n",
       "        text-align: right;\n",
       "    }\n",
       "</style>\n",
       "<table border=\"1\" class=\"dataframe\">\n",
       "  <thead>\n",
       "    <tr style=\"text-align: right;\">\n",
       "      <th></th>\n",
       "      <th>tweet_id</th>\n",
       "      <th>sentiment</th>\n",
       "      <th>author</th>\n",
       "      <th>content</th>\n",
       "    </tr>\n",
       "  </thead>\n",
       "  <tbody>\n",
       "    <tr>\n",
       "      <th>33496</th>\n",
       "      <td>1752619550</td>\n",
       "      <td>love</td>\n",
       "      <td>unifiedclock</td>\n",
       "      <td>I just received a mothers day card from my lov...</td>\n",
       "    </tr>\n",
       "    <tr>\n",
       "      <th>33693</th>\n",
       "      <td>1752674435</td>\n",
       "      <td>love</td>\n",
       "      <td>TheOrakill</td>\n",
       "      <td>I just received a mothers day card from my lov...</td>\n",
       "    </tr>\n",
       "    <tr>\n",
       "      <th>33874</th>\n",
       "      <td>1752725133</td>\n",
       "      <td>worry</td>\n",
       "      <td>charlesstinger</td>\n",
       "      <td>I just received a mothers day card from my lov...</td>\n",
       "    </tr>\n",
       "    <tr>\n",
       "      <th>34071</th>\n",
       "      <td>1752774341</td>\n",
       "      <td>love</td>\n",
       "      <td>jamesbankso</td>\n",
       "      <td>I just received a mothers day card from my lov...</td>\n",
       "    </tr>\n",
       "    <tr>\n",
       "      <th>34298</th>\n",
       "      <td>1752824798</td>\n",
       "      <td>love</td>\n",
       "      <td>sarahmarche</td>\n",
       "      <td>I just received a mothers day card from my lov...</td>\n",
       "    </tr>\n",
       "    <tr>\n",
       "      <th>34480</th>\n",
       "      <td>1752873814</td>\n",
       "      <td>love</td>\n",
       "      <td>xmanoxx</td>\n",
       "      <td>I just received a mothers day card from my lov...</td>\n",
       "    </tr>\n",
       "    <tr>\n",
       "      <th>34672</th>\n",
       "      <td>1752920582</td>\n",
       "      <td>love</td>\n",
       "      <td>oblongshmoblong</td>\n",
       "      <td>I just received a mothers day card from my lov...</td>\n",
       "    </tr>\n",
       "    <tr>\n",
       "      <th>34861</th>\n",
       "      <td>1752965288</td>\n",
       "      <td>love</td>\n",
       "      <td>lilpiggynose</td>\n",
       "      <td>I just received a mothers day card from my lov...</td>\n",
       "    </tr>\n",
       "    <tr>\n",
       "      <th>35051</th>\n",
       "      <td>1753009856</td>\n",
       "      <td>love</td>\n",
       "      <td>unitedstatesfre</td>\n",
       "      <td>I just received a mothers day card from my lov...</td>\n",
       "    </tr>\n",
       "    <tr>\n",
       "      <th>35232</th>\n",
       "      <td>1753052362</td>\n",
       "      <td>love</td>\n",
       "      <td>unifiedclock</td>\n",
       "      <td>I just received a mothers day card from my lov...</td>\n",
       "    </tr>\n",
       "    <tr>\n",
       "      <th>35420</th>\n",
       "      <td>1753096538</td>\n",
       "      <td>love</td>\n",
       "      <td>TheOrakill</td>\n",
       "      <td>I just received a mothers day card from my lov...</td>\n",
       "    </tr>\n",
       "    <tr>\n",
       "      <th>35609</th>\n",
       "      <td>1753138066</td>\n",
       "      <td>love</td>\n",
       "      <td>charlesstinger</td>\n",
       "      <td>I just received a mothers day card from my lov...</td>\n",
       "    </tr>\n",
       "    <tr>\n",
       "      <th>35792</th>\n",
       "      <td>1753177879</td>\n",
       "      <td>love</td>\n",
       "      <td>jamesbankso</td>\n",
       "      <td>I just received a mothers day card from my lov...</td>\n",
       "    </tr>\n",
       "    <tr>\n",
       "      <th>35994</th>\n",
       "      <td>1753218228</td>\n",
       "      <td>love</td>\n",
       "      <td>sarahmarche</td>\n",
       "      <td>I just received a mothers day card from my lov...</td>\n",
       "    </tr>\n",
       "  </tbody>\n",
       "</table>\n",
       "</div>"
      ],
      "text/plain": [
       "         tweet_id sentiment           author  \\\n",
       "33496  1752619550      love     unifiedclock   \n",
       "33693  1752674435      love       TheOrakill   \n",
       "33874  1752725133     worry   charlesstinger   \n",
       "34071  1752774341      love      jamesbankso   \n",
       "34298  1752824798      love      sarahmarche   \n",
       "34480  1752873814      love          xmanoxx   \n",
       "34672  1752920582      love  oblongshmoblong   \n",
       "34861  1752965288      love     lilpiggynose   \n",
       "35051  1753009856      love  unitedstatesfre   \n",
       "35232  1753052362      love     unifiedclock   \n",
       "35420  1753096538      love       TheOrakill   \n",
       "35609  1753138066      love   charlesstinger   \n",
       "35792  1753177879      love      jamesbankso   \n",
       "35994  1753218228      love      sarahmarche   \n",
       "\n",
       "                                                 content  \n",
       "33496  I just received a mothers day card from my lov...  \n",
       "33693  I just received a mothers day card from my lov...  \n",
       "33874  I just received a mothers day card from my lov...  \n",
       "34071  I just received a mothers day card from my lov...  \n",
       "34298  I just received a mothers day card from my lov...  \n",
       "34480  I just received a mothers day card from my lov...  \n",
       "34672  I just received a mothers day card from my lov...  \n",
       "34861  I just received a mothers day card from my lov...  \n",
       "35051  I just received a mothers day card from my lov...  \n",
       "35232  I just received a mothers day card from my lov...  \n",
       "35420  I just received a mothers day card from my lov...  \n",
       "35609  I just received a mothers day card from my lov...  \n",
       "35792  I just received a mothers day card from my lov...  \n",
       "35994  I just received a mothers day card from my lov...  "
      ]
     },
     "execution_count": 50,
     "metadata": {},
     "output_type": "execute_result"
    }
   ],
   "source": [
    "# Tweets with same content\n",
    "df[df.content=='I just received a mothers day card from my lovely daughter wishing my a happy mothers day  http://tr.im/kWK9']"
   ]
  },
  {
   "cell_type": "markdown",
   "metadata": {},
   "source": [
    "Interestingly, for the **same** tweet there are different sentiments in the target column. There may be other false labels in the dataset!"
   ]
  },
  {
   "cell_type": "markdown",
   "metadata": {},
   "source": [
    "#### Polarity"
   ]
  },
  {
   "cell_type": "code",
   "execution_count": 26,
   "metadata": {},
   "outputs": [
    {
     "data": {
      "text/plain": [
       "positive    15299\n",
       "negative    15236\n",
       "neutral      8638\n",
       "Name: polarity, dtype: int64"
      ]
     },
     "execution_count": 26,
     "metadata": {},
     "output_type": "execute_result"
    }
   ],
   "source": [
    "df.polarity.value_counts()"
   ]
  },
  {
   "cell_type": "code",
   "execution_count": 28,
   "metadata": {},
   "outputs": [
    {
     "data": {
      "text/plain": [
       "<matplotlib.axes._subplots.AxesSubplot at 0x1a200adda0>"
      ]
     },
     "execution_count": 28,
     "metadata": {},
     "output_type": "execute_result"
    },
    {
     "data": {
      "image/png": "[encoded data removed]",
      "text/plain": [
       "<Figure size 432x288 with 1 Axes>"
      ]
     },
     "metadata": {},
     "output_type": "display_data"
    }
   ],
   "source": [
    "df.polarity.value_counts().plot.bar()"
   ]
  },
  {
   "cell_type": "markdown",
   "metadata": {},
   "source": [
    "The frequencies of _sentiments_ appear to be more balanced when compared to that of the _emotions_."
   ]
  },
  {
   "cell_type": "code",
   "execution_count": 15,
   "metadata": {},
   "outputs": [],
   "source": [
    "# Create a sentiment dictionary to map EMOTIONS to POLARITY.\n",
    "sentiment_dict = {'boredom': 'negative',\n",
    "                  'hate': 'negative',\n",
    "                  'sadness': 'negative',\n",
    "                  'anger': 'negative',\n",
    "                  'worry': 'negative',\n",
    "                  'relief': 'positive',\n",
    "                  #'empty': 'neutral',\n",
    "                  'happiness': 'positive',\n",
    "                  'love': 'positive',\n",
    "                  'enthusiasm': 'positive',\n",
    "                  'neutral': 'neutral',\n",
    "                  'surprise':'positive',\n",
    "                  'fun': 'positive'\n",
    "                 }\n",
    "df['polarity'] = df.sentiment.map(sentiment_dict)\n",
    "\n",
    "#### UPDATE FEATURE ENGINEERING"
   ]
  },
  {
   "cell_type": "code",
   "execution_count": 16,
   "metadata": {},
   "outputs": [
    {
     "data": {
      "text/plain": [
       "polarity\n",
       "negative    0.415070\n",
       "positive    0.502124\n",
       "neutral     0.523085\n",
       "Name: content, dtype: float64"
      ]
     },
     "execution_count": 16,
     "metadata": {},
     "output_type": "execute_result"
    }
   ],
   "source": [
    "# Mentions by sentiment_new\n",
    "df.groupby('polarity').content.apply(lambda x: x.str.contains(\"@\\w+\").mean()).sort_values()"
   ]
  },
  {
   "cell_type": "markdown",
   "metadata": {},
   "source": [
    "#### Mentions"
   ]
  },
  {
   "cell_type": "code",
   "execution_count": 13,
   "metadata": {},
   "outputs": [
    {
     "data": {
      "text/plain": [
       "0.473925"
      ]
     },
     "execution_count": 13,
     "metadata": {},
     "output_type": "execute_result"
    }
   ],
   "source": [
    "# Average # of tweets that contain \"mentions\"\n",
    "df.content.str.contains(\"@\\w+\").mean()"
   ]
  },
  {
   "cell_type": "markdown",
   "metadata": {},
   "source": [
    "Almost half of the tweets contain mentions. This does not seem normal. Let's see the distribution of emotions through mentioned tweets."
   ]
  },
  {
   "cell_type": "code",
   "execution_count": 25,
   "metadata": {},
   "outputs": [
    {
     "data": {
      "text/plain": [
       "sentiment\n",
       "boredom       0.273743\n",
       "hate          0.375661\n",
       "sadness       0.400000\n",
       "anger         0.427273\n",
       "worry         0.433266\n",
       "relief        0.441678\n",
       "empty         0.488513\n",
       "happiness     0.491265\n",
       "love          0.504425\n",
       "enthusiasm    0.508564\n",
       "neutral       0.526395\n",
       "surprise      0.527663\n",
       "fun           0.546734\n",
       "Name: content, dtype: float64"
      ]
     },
     "execution_count": 25,
     "metadata": {},
     "output_type": "execute_result"
    }
   ],
   "source": [
    "# Distribution of @mentions among emotions\n",
    "df.groupby('sentiment').content.apply(lambda x: x.str.contains(\"@\\w+\").mean()).sort_values()"
   ]
  },
  {
   "cell_type": "markdown",
   "metadata": {},
   "source": [
    "It seems that people tend to mention more when they have a positive sentiment such as fun, whearas they tend to mention less when they express boredom or hate. Let's investigate this result further."
   ]
  },
  {
   "cell_type": "code",
   "execution_count": 56,
   "metadata": {},
   "outputs": [],
   "source": [
    "def count_mentions(text):\n",
    "    '''Returns number of mentions in a string.'''\n",
    "    \n",
    "    # Split the string into words\n",
    "    words = text.split()\n",
    "    \n",
    "    # Create a list of words that are mentions\n",
    "    mentions = [word for word in words if word.startswith(\"@\")]\n",
    "    \n",
    "    # Return number of mentions\n",
    "    return(len(mentions))"
   ]
  },
  {
   "cell_type": "code",
   "execution_count": 59,
   "metadata": {},
   "outputs": [
    {
     "data": {
      "image/png": "[encoded data removed]",
      "text/plain": [
       "<Figure size 432x288 with 1 Axes>"
      ]
     },
     "metadata": {},
     "output_type": "display_data"
    }
   ],
   "source": [
    "# Create a feature mention_count\n",
    "df['mention_count'] = df['content'].apply(count_mentions)\n",
    "\n",
    "# Plot the distribution\n",
    "df['mention_count'].hist()\n",
    "plt.title('Distribution of #Mentions')\n",
    "plt.show()"
   ]
  },
  {
   "cell_type": "code",
   "execution_count": 61,
   "metadata": {},
   "outputs": [
    {
     "data": {
      "text/plain": [
       "sentiment\n",
       "boredom       0.290503\n",
       "hate          0.397581\n",
       "sadness       0.429235\n",
       "anger         0.454545\n",
       "worry         0.460456\n",
       "relief        0.467890\n",
       "happiness     0.522365\n",
       "love          0.536960\n",
       "enthusiasm    0.540184\n",
       "surprise      0.561043\n",
       "neutral       0.565026\n",
       "fun           0.593468\n",
       "Name: mention_count, dtype: float64"
      ]
     },
     "execution_count": 61,
     "metadata": {},
     "output_type": "execute_result"
    }
   ],
   "source": [
    "df.groupby('sentiment').mention_count.mean().sort_values()"
   ]
  },
  {
   "cell_type": "markdown",
   "metadata": {},
   "source": [
    "#### Hashtags"
   ]
  },
  {
   "cell_type": "code",
   "execution_count": 23,
   "metadata": {},
   "outputs": [
    {
     "data": {
      "text/plain": [
       "0.01975"
      ]
     },
     "execution_count": 23,
     "metadata": {},
     "output_type": "execute_result"
    }
   ],
   "source": [
    "# Tweets that contain \"hashtags\"\n",
    "df.content.str.contains(\"#\\w+\").mean()"
   ]
  },
  {
   "cell_type": "markdown",
   "metadata": {},
   "source": [
    "Only a small portion of tweets contain `#` (hashtag) s"
   ]
  },
  {
   "cell_type": "code",
   "execution_count": 54,
   "metadata": {},
   "outputs": [],
   "source": [
    "def count_hashtags(text):\n",
    "    '''Returns number of hashtags in a text.'''\n",
    "    \n",
    "    # Split the string into words\n",
    "    words = text.split()\n",
    "    \n",
    "    # Create a list of words that are hashtags\n",
    "    hashtags = [word for word in words if word.startswith(\"#\")]\n",
    "    \n",
    "    # Return number of hashtags\n",
    "    return(len(hashtags))"
   ]
  },
  {
   "cell_type": "code",
   "execution_count": 55,
   "metadata": {},
   "outputs": [
    {
     "data": {
      "image/png": "[encoded data removed]",
      "text/plain": [
       "<Figure size 432x288 with 1 Axes>"
      ]
     },
     "metadata": {},
     "output_type": "display_data"
    }
   ],
   "source": [
    "# Create a feature hashtag_count\n",
    "df['hashtag_count'] = df['content'].apply(count_hashtags)\n",
    "\n",
    "# Plot the distribution\n",
    "df['hashtag_count'].hist()\n",
    "plt.title('Distribution of #Hashtag')\n",
    "plt.show()"
   ]
  },
  {
   "cell_type": "markdown",
   "metadata": {},
   "source": [
    "#### Number of Characters"
   ]
  },
  {
   "cell_type": "code",
   "execution_count": 29,
   "metadata": {},
   "outputs": [
    {
     "data": {
      "text/plain": [
       "count    39173.000000\n",
       "mean        73.591351\n",
       "std         36.539053\n",
       "min          1.000000\n",
       "25%         43.000000\n",
       "50%         69.000000\n",
       "75%        103.000000\n",
       "max        167.000000\n",
       "Name: content, dtype: float64"
      ]
     },
     "execution_count": 29,
     "metadata": {},
     "output_type": "execute_result"
    }
   ],
   "source": [
    "# Describe the length of the tweets in the contents column.\n",
    "df.content.str.len().describe()"
   ]
  },
  {
   "cell_type": "code",
   "execution_count": 30,
   "metadata": {},
   "outputs": [
    {
     "data": {
      "text/plain": [
       "<matplotlib.axes._subplots.AxesSubplot at 0x1a1fe27668>"
      ]
     },
     "execution_count": 30,
     "metadata": {},
     "output_type": "execute_result"
    },
    {
     "data": {
      "image/png": "[encoded data removed]",
      "text/plain": [
       "<Figure size 432x288 with 1 Axes>"
      ]
     },
     "metadata": {},
     "output_type": "display_data"
    }
   ],
   "source": [
    "# Plot a histogram of the number of characters in tweets\n",
    "df.content.str.len().hist()"
   ]
  },
  {
   "cell_type": "markdown",
   "metadata": {},
   "source": [
    "Twitter has recently change the _character limit_ from 140 to 280. The dataset is possibly created before the change. However, some tweets contain more than 140 characters. I initially suspected that these are the ones with links. Yet the reason seems to be [Special Entities](http://www.htmlhelp.com/reference/html40/entities/special.html) such as `&quot;` or \"`&amp;` which are rendered as -&quot;- and -&amp;- respectively. \n",
    "\n",
    "It is worth noting that most of the tweets contans less than 80 characters. It may be extremely hard to detect sentiments from such a text."
   ]
  },
  {
   "cell_type": "code",
   "execution_count": 49,
   "metadata": {},
   "outputs": [
    {
     "data": {
      "text/html": [
       "<div>\n",
       "<style scoped>\n",
       "    .dataframe tbody tr th:only-of-type {\n",
       "        vertical-align: middle;\n",
       "    }\n",
       "\n",
       "    .dataframe tbody tr th {\n",
       "        vertical-align: top;\n",
       "    }\n",
       "\n",
       "    .dataframe thead th {\n",
       "        text-align: right;\n",
       "    }\n",
       "</style>\n",
       "<table border=\"1\" class=\"dataframe\">\n",
       "  <thead>\n",
       "    <tr style=\"text-align: right;\">\n",
       "      <th></th>\n",
       "      <th>tweet_id</th>\n",
       "      <th>sentiment</th>\n",
       "      <th>author</th>\n",
       "      <th>content</th>\n",
       "      <th>polarity</th>\n",
       "    </tr>\n",
       "  </thead>\n",
       "  <tbody>\n",
       "    <tr>\n",
       "      <th>6657</th>\n",
       "      <td>1961410317</td>\n",
       "      <td>sadness</td>\n",
       "      <td>loew01</td>\n",
       "      <td>wow, I didn't realized that there is a limit to the &amp;quot;more&amp;quot; button. That sucks... I guess two days is the max to not sign in to twitter.  !</td>\n",
       "      <td>negative</td>\n",
       "    </tr>\n",
       "    <tr>\n",
       "      <th>12498</th>\n",
       "      <td>1963588292</td>\n",
       "      <td>love</td>\n",
       "      <td>Chriztophe</td>\n",
       "      <td>met a cute girl at mighty taco.I'm ordering(no cheese, no sour cream, etc)&amp;amp; she's like&amp;quot;it's ok, I'm Vegan too!&amp;quot;(insert hot wink)too young</td>\n",
       "      <td>positive</td>\n",
       "    </tr>\n",
       "    <tr>\n",
       "      <th>36840</th>\n",
       "      <td>1753382411</td>\n",
       "      <td>love</td>\n",
       "      <td>love_yazmo</td>\n",
       "      <td>you know you love your mom when you stay up this late just to wrap her gifts (which look glorious) &amp;amp; hand-make a card.. happy mothers day</td>\n",
       "      <td>positive</td>\n",
       "    </tr>\n",
       "    <tr>\n",
       "      <th>20857</th>\n",
       "      <td>1694126085</td>\n",
       "      <td>neutral</td>\n",
       "      <td>byhuy</td>\n",
       "      <td>@ducban &amp;quot;nhi?p ?nh gia&amp;quot; ? ?ï¿½y lï¿½ ch? cï¿½c b?n t? x?ng lï¿½ &amp;quot;?am mï¿½ nhi?p ?nh&amp;quot;. Cï¿½n ng??i thï¿½ch ch?p ?nh thï¿½ 99% dï¿½n s? r?i</td>\n",
       "      <td>neutral</td>\n",
       "    </tr>\n",
       "    <tr>\n",
       "      <th>26385</th>\n",
       "      <td>1695376835</td>\n",
       "      <td>neutral</td>\n",
       "      <td>geminimag</td>\n",
       "      <td>TalkingWithTami morning Ms. Tammie!  Your fam looked adorable in Family Circle   I bought it &amp;amp; was like &amp;quot;see honey?  I talked to her&amp;quot;  LOL</td>\n",
       "      <td>neutral</td>\n",
       "    </tr>\n",
       "    <tr>\n",
       "      <th>12841</th>\n",
       "      <td>1963743820</td>\n",
       "      <td>neutral</td>\n",
       "      <td>ETown_Lesley</td>\n",
       "      <td>4am Hubby's alarm-song playing was &amp;quot;Blame it on the Alcohol&amp;quot; Of course I couldn't get back to sleep after cause thinking of Joe on cruise</td>\n",
       "      <td>neutral</td>\n",
       "    </tr>\n",
       "    <tr>\n",
       "      <th>11587</th>\n",
       "      <td>1963282166</td>\n",
       "      <td>happiness</td>\n",
       "      <td>RandyAmberTK</td>\n",
       "      <td>@mileycyrus  they closed the voting...all u can vote for now is best movie  Hope you win it! My 4 y/o Daughter lovesss 2 sing &amp;quot;The Climb&amp;quot;</td>\n",
       "      <td>positive</td>\n",
       "    </tr>\n",
       "    <tr>\n",
       "      <th>24773</th>\n",
       "      <td>1694928700</td>\n",
       "      <td>sadness</td>\n",
       "      <td>coffeegeek</td>\n",
       "      <td>Illy's note in the book: &amp;quot;From one 'geek' to another - keep up the good work!&amp;quot; sigh.  He is missed - and he was great for espresso.</td>\n",
       "      <td>negative</td>\n",
       "    </tr>\n",
       "    <tr>\n",
       "      <th>30761</th>\n",
       "      <td>1751714638</td>\n",
       "      <td>neutral</td>\n",
       "      <td>BrandyLionWine</td>\n",
       "      <td>@stuartdavis C'mon, we're talking about philos-ophy - the love of wisdom.   I need a &amp;quot;mat&amp;quot; - a context to intersubjectively &amp;quot;ground&amp;quot; it.</td>\n",
       "      <td>neutral</td>\n",
       "    </tr>\n",
       "    <tr>\n",
       "      <th>32304</th>\n",
       "      <td>1752256387</td>\n",
       "      <td>neutral</td>\n",
       "      <td>TimeOutMom</td>\n",
       "      <td>@MyPreciousKid - i can do &amp;quot;Nana&amp;quot; or &amp;quot;Nana Rocks&amp;quot; for you in rhinestones &amp;amp; do printed onesies for them &amp;quot;my nana loves me&amp;quot;</td>\n",
       "      <td>neutral</td>\n",
       "    </tr>\n",
       "  </tbody>\n",
       "</table>\n",
       "</div>"
      ],
      "text/plain": [
       "         tweet_id  sentiment          author  \\\n",
       "6657   1961410317    sadness          loew01   \n",
       "12498  1963588292       love      Chriztophe   \n",
       "36840  1753382411       love      love_yazmo   \n",
       "20857  1694126085    neutral           byhuy   \n",
       "26385  1695376835    neutral       geminimag   \n",
       "12841  1963743820    neutral    ETown_Lesley   \n",
       "11587  1963282166  happiness    RandyAmberTK   \n",
       "24773  1694928700    sadness      coffeegeek   \n",
       "30761  1751714638    neutral  BrandyLionWine   \n",
       "32304  1752256387    neutral      TimeOutMom   \n",
       "\n",
       "                                                                                                                                                             content  \\\n",
       "6657            wow, I didn't realized that there is a limit to the &quot;more&quot; button. That sucks... I guess two days is the max to not sign in to twitter.  !   \n",
       "12498        met a cute girl at mighty taco.I'm ordering(no cheese, no sour cream, etc)&amp; she's like&quot;it's ok, I'm Vegan too!&quot;(insert hot wink)too young   \n",
       "36840                  you know you love your mom when you stay up this late just to wrap her gifts (which look glorious) &amp; hand-make a card.. happy mothers day   \n",
       "20857  @ducban &quot;nhi?p ?nh gia&quot; ? ?ï¿½y lï¿½ ch? cï¿½c b?n t? x?ng lï¿½ &quot;?am mï¿½ nhi?p ?nh&quot;. Cï¿½n ng??i thï¿½ch ch?p ?nh thï¿½ 99% dï¿½n s? r?i   \n",
       "26385       TalkingWithTami morning Ms. Tammie!  Your fam looked adorable in Family Circle   I bought it &amp; was like &quot;see honey?  I talked to her&quot;  LOL   \n",
       "12841            4am Hubby's alarm-song playing was &quot;Blame it on the Alcohol&quot; Of course I couldn't get back to sleep after cause thinking of Joe on cruise   \n",
       "11587            @mileycyrus  they closed the voting...all u can vote for now is best movie  Hope you win it! My 4 y/o Daughter lovesss 2 sing &quot;The Climb&quot;   \n",
       "24773                  Illy's note in the book: &quot;From one 'geek' to another - keep up the good work!&quot; sigh.  He is missed - and he was great for espresso.   \n",
       "30761   @stuartdavis C'mon, we're talking about philos-ophy - the love of wisdom.   I need a &quot;mat&quot; - a context to intersubjectively &quot;ground&quot; it.   \n",
       "32304     @MyPreciousKid - i can do &quot;Nana&quot; or &quot;Nana Rocks&quot; for you in rhinestones &amp; do printed onesies for them &quot;my nana loves me&quot;   \n",
       "\n",
       "       polarity  \n",
       "6657   negative  \n",
       "12498  positive  \n",
       "36840  positive  \n",
       "20857   neutral  \n",
       "26385   neutral  \n",
       "12841   neutral  \n",
       "11587  positive  \n",
       "24773  negative  \n",
       "30761   neutral  \n",
       "32304   neutral  "
      ]
     },
     "execution_count": 49,
     "metadata": {},
     "output_type": "execute_result"
    }
   ],
   "source": [
    "df[df.content.str.len()>140].sample(10)"
   ]
  },
  {
   "cell_type": "code",
   "execution_count": 32,
   "metadata": {},
   "outputs": [
    {
     "data": {
      "text/html": [
       "<div>\n",
       "<style scoped>\n",
       "    .dataframe tbody tr th:only-of-type {\n",
       "        vertical-align: middle;\n",
       "    }\n",
       "\n",
       "    .dataframe tbody tr th {\n",
       "        vertical-align: top;\n",
       "    }\n",
       "\n",
       "    .dataframe thead th {\n",
       "        text-align: right;\n",
       "    }\n",
       "</style>\n",
       "<table border=\"1\" class=\"dataframe\">\n",
       "  <thead>\n",
       "    <tr style=\"text-align: right;\">\n",
       "      <th></th>\n",
       "      <th>sentiment</th>\n",
       "      <th>author</th>\n",
       "      <th>content</th>\n",
       "      <th>polarity</th>\n",
       "    </tr>\n",
       "  </thead>\n",
       "  <tbody>\n",
       "    <tr>\n",
       "      <th>15028</th>\n",
       "      <td>neutral</td>\n",
       "      <td>KimberlyBarrena</td>\n",
       "      <td>0</td>\n",
       "      <td>neutral</td>\n",
       "    </tr>\n",
       "    <tr>\n",
       "      <th>29869</th>\n",
       "      <td>neutral</td>\n",
       "      <td>JaBrezzy96</td>\n",
       "      <td>0</td>\n",
       "      <td>neutral</td>\n",
       "    </tr>\n",
       "    <tr>\n",
       "      <th>39415</th>\n",
       "      <td>neutral</td>\n",
       "      <td>superbot5000</td>\n",
       "      <td>0</td>\n",
       "      <td>neutral</td>\n",
       "    </tr>\n",
       "  </tbody>\n",
       "</table>\n",
       "</div>"
      ],
      "text/plain": [
       "      sentiment           author content polarity\n",
       "15028   neutral  KimberlyBarrena       0  neutral\n",
       "29869   neutral       JaBrezzy96       0  neutral\n",
       "39415   neutral     superbot5000       0  neutral"
      ]
     },
     "execution_count": 32,
     "metadata": {},
     "output_type": "execute_result"
    }
   ],
   "source": [
    "# Print tweets with less than 5 characters\n",
    "df[df.content.str.len()<5]"
   ]
  },
  {
   "cell_type": "markdown",
   "metadata": {},
   "source": [
    "There are tweets which contains only a single character. These should be removed. "
   ]
  },
  {
   "cell_type": "code",
   "execution_count": 33,
   "metadata": {},
   "outputs": [],
   "source": [
    "# Drop unnecessary rows\n",
    "df.drop(df[df.content.str.len()<5].index, inplace=True)\n",
    "\n",
    "#### UPDATE FEATURE ENGINEERING"
   ]
  },
  {
   "cell_type": "code",
   "execution_count": 34,
   "metadata": {},
   "outputs": [
    {
     "data": {
      "text/plain": [
       "(39170, 4)"
      ]
     },
     "execution_count": 34,
     "metadata": {},
     "output_type": "execute_result"
    }
   ],
   "source": [
    "df.shape"
   ]
  },
  {
   "cell_type": "code",
   "execution_count": 35,
   "metadata": {},
   "outputs": [
    {
     "data": {
      "text/html": [
       "<div>\n",
       "<style scoped>\n",
       "    .dataframe tbody tr th:only-of-type {\n",
       "        vertical-align: middle;\n",
       "    }\n",
       "\n",
       "    .dataframe tbody tr th {\n",
       "        vertical-align: top;\n",
       "    }\n",
       "\n",
       "    .dataframe thead th {\n",
       "        text-align: right;\n",
       "    }\n",
       "</style>\n",
       "<table border=\"1\" class=\"dataframe\">\n",
       "  <thead>\n",
       "    <tr style=\"text-align: right;\">\n",
       "      <th></th>\n",
       "      <th>sentiment</th>\n",
       "      <th>author</th>\n",
       "      <th>content</th>\n",
       "      <th>polarity</th>\n",
       "    </tr>\n",
       "  </thead>\n",
       "  <tbody>\n",
       "    <tr>\n",
       "      <th>37457</th>\n",
       "      <td>neutral</td>\n",
       "      <td>aaaaaaanna</td>\n",
       "      <td>bbq party</td>\n",
       "      <td>neutral</td>\n",
       "    </tr>\n",
       "    <tr>\n",
       "      <th>30338</th>\n",
       "      <td>happiness</td>\n",
       "      <td>pillow11</td>\n",
       "      <td>is cute</td>\n",
       "      <td>positive</td>\n",
       "    </tr>\n",
       "    <tr>\n",
       "      <th>32001</th>\n",
       "      <td>worry</td>\n",
       "      <td>s_beautiful</td>\n",
       "      <td>is on air</td>\n",
       "      <td>negative</td>\n",
       "    </tr>\n",
       "    <tr>\n",
       "      <th>20095</th>\n",
       "      <td>neutral</td>\n",
       "      <td>slappinmybass</td>\n",
       "      <td>seepin'.</td>\n",
       "      <td>neutral</td>\n",
       "    </tr>\n",
       "    <tr>\n",
       "      <th>5087</th>\n",
       "      <td>neutral</td>\n",
       "      <td>imamulki</td>\n",
       "      <td>I hate PC</td>\n",
       "      <td>neutral</td>\n",
       "    </tr>\n",
       "  </tbody>\n",
       "</table>\n",
       "</div>"
      ],
      "text/plain": [
       "       sentiment         author    content  polarity\n",
       "37457    neutral     aaaaaaanna  bbq party   neutral\n",
       "30338  happiness       pillow11    is cute  positive\n",
       "32001      worry    s_beautiful  is on air  negative\n",
       "20095    neutral  slappinmybass   seepin'.   neutral\n",
       "5087     neutral       imamulki  I hate PC   neutral"
      ]
     },
     "execution_count": 35,
     "metadata": {},
     "output_type": "execute_result"
    }
   ],
   "source": [
    "# Print tweets with less than 10 characters\n",
    "df[df.content.str.len()<10].sample(5)"
   ]
  },
  {
   "cell_type": "markdown",
   "metadata": {},
   "source": [
    "Some tweets consist of only mentions. We may need to drop them as well."
   ]
  },
  {
   "cell_type": "code",
   "execution_count": 36,
   "metadata": {},
   "outputs": [
    {
     "data": {
      "text/html": [
       "<div>\n",
       "<style scoped>\n",
       "    .dataframe tbody tr th:only-of-type {\n",
       "        vertical-align: middle;\n",
       "    }\n",
       "\n",
       "    .dataframe tbody tr th {\n",
       "        vertical-align: top;\n",
       "    }\n",
       "\n",
       "    .dataframe thead th {\n",
       "        text-align: right;\n",
       "    }\n",
       "</style>\n",
       "<table border=\"1\" class=\"dataframe\">\n",
       "  <thead>\n",
       "    <tr style=\"text-align: right;\">\n",
       "      <th></th>\n",
       "      <th>sentiment</th>\n",
       "      <th>author</th>\n",
       "      <th>content</th>\n",
       "      <th>polarity</th>\n",
       "    </tr>\n",
       "  </thead>\n",
       "  <tbody>\n",
       "    <tr>\n",
       "      <th>659</th>\n",
       "      <td>neutral</td>\n",
       "      <td>mallycakes</td>\n",
       "      <td>@Joshuah_Pearson</td>\n",
       "      <td>neutral</td>\n",
       "    </tr>\n",
       "    <tr>\n",
       "      <th>664</th>\n",
       "      <td>neutral</td>\n",
       "      <td>joelmagic</td>\n",
       "      <td>@emlevins</td>\n",
       "      <td>neutral</td>\n",
       "    </tr>\n",
       "    <tr>\n",
       "      <th>3181</th>\n",
       "      <td>neutral</td>\n",
       "      <td>Samantha_Mayy</td>\n",
       "      <td>@Clumsyflic</td>\n",
       "      <td>neutral</td>\n",
       "    </tr>\n",
       "    <tr>\n",
       "      <th>4865</th>\n",
       "      <td>neutral</td>\n",
       "      <td>edduleroy</td>\n",
       "      <td>@philleasfogg</td>\n",
       "      <td>neutral</td>\n",
       "    </tr>\n",
       "    <tr>\n",
       "      <th>4933</th>\n",
       "      <td>neutral</td>\n",
       "      <td>rickoshea</td>\n",
       "      <td>@WillKnott</td>\n",
       "      <td>neutral</td>\n",
       "    </tr>\n",
       "  </tbody>\n",
       "</table>\n",
       "</div>"
      ],
      "text/plain": [
       "     sentiment         author           content polarity\n",
       "659    neutral     mallycakes  @Joshuah_Pearson  neutral\n",
       "664    neutral      joelmagic         @emlevins  neutral\n",
       "3181   neutral  Samantha_Mayy       @Clumsyflic  neutral\n",
       "4865   neutral      edduleroy     @philleasfogg  neutral\n",
       "4933   neutral      rickoshea        @WillKnott  neutral"
      ]
     },
     "execution_count": 36,
     "metadata": {},
     "output_type": "execute_result"
    }
   ],
   "source": [
    "# Detect the tweets that contains only mentions\n",
    "df[df.content.str.replace(\"@\\w+\", \"\").str.len()<2].head()"
   ]
  },
  {
   "cell_type": "code",
   "execution_count": 59,
   "metadata": {},
   "outputs": [],
   "source": [
    "# # Drop the tweets that contains only mentions\n",
    "# df.drop(df[df.content.str.replace(\"@\\w+\", \"\").str.len()<2].index, inplace=True)\n",
    "\n",
    "#### UPDATE FEATURE ENGINEERING"
   ]
  },
  {
   "cell_type": "code",
   "execution_count": 60,
   "metadata": {},
   "outputs": [
    {
     "data": {
      "text/plain": [
       "(39920, 5)"
      ]
     },
     "execution_count": 60,
     "metadata": {},
     "output_type": "execute_result"
    }
   ],
   "source": [
    "df.shape"
   ]
  },
  {
   "cell_type": "markdown",
   "metadata": {
    "toc-hr-collapsed": true
   },
   "source": [
    "#### Detect Language"
   ]
  },
  {
   "cell_type": "markdown",
   "metadata": {},
   "source": [
    "##### TextBlob"
   ]
  },
  {
   "cell_type": "code",
   "execution_count": 37,
   "metadata": {},
   "outputs": [],
   "source": [
    "# from textblob import TextBlob\n",
    "# # b = TextBlob(\"merhaba\")\n",
    "# # b.detect_language()\n",
    "\n",
    "# from time import sleep\n",
    "\n",
    "# def detect_lan(tweet):\n",
    "\n",
    "#     sleep(.01)\n",
    "#     try:\n",
    "#         return TextBlob(tweet).detect_language()\n",
    "#     except:\n",
    "#         return np.nan\n",
    "\n",
    "# df['language'] = df.content.apply(detect_lan)"
   ]
  },
  {
   "cell_type": "code",
   "execution_count": 38,
   "metadata": {},
   "outputs": [],
   "source": [
    "# df['language'] = df.content.apply(lambda tweet: TextBlob(tweet).detect_language())"
   ]
  },
  {
   "cell_type": "markdown",
   "metadata": {},
   "source": [
    "##### langdetect"
   ]
  },
  {
   "cell_type": "code",
   "execution_count": 39,
   "metadata": {},
   "outputs": [],
   "source": [
    "# from langdetect import detect\n",
    "# df['language'] = df.content.apply(lambda tweet: detect(tweet))\n",
    "\n",
    "# # Print detected languages\n",
    "# df['language'].value_counts()"
   ]
  },
  {
   "cell_type": "code",
   "execution_count": 40,
   "metadata": {},
   "outputs": [],
   "source": [
    "# df[df['language']!='en'].sample(10)"
   ]
  },
  {
   "cell_type": "markdown",
   "metadata": {},
   "source": [
    "It seems that most of the tweets that are detected as non-English have mistakes in the words, such as missing a letter or having extra characters, or they have mentions. Let's see the results w/o mentions."
   ]
  },
  {
   "cell_type": "code",
   "execution_count": 115,
   "metadata": {},
   "outputs": [],
   "source": [
    "# def detect_language(tweet):\n",
    "#     try:\n",
    "#         return detect(tweet)\n",
    "#     except:\n",
    "#         return \"unknown\""
   ]
  },
  {
   "cell_type": "code",
   "execution_count": 63,
   "metadata": {},
   "outputs": [],
   "source": [
    "# # Detect language of tweets without mentions\n",
    "# df['language'] = df.content.str.replace(\"@\\w+\", \"\").apply(detect_language)"
   ]
  },
  {
   "cell_type": "code",
   "execution_count": 41,
   "metadata": {},
   "outputs": [],
   "source": [
    "# df['language'].value_counts()"
   ]
  },
  {
   "cell_type": "markdown",
   "metadata": {},
   "source": [
    "The number of \"en\"s is decreased. We may need to perform tokenization and preprocessing in order to get legit results from text detection."
   ]
  },
  {
   "cell_type": "markdown",
   "metadata": {},
   "source": [
    "Whether these tweets are really non-English or incorrect written sentences, they may be dropped for the quality of the analysis.\n",
    "\n",
    "> NEEDS FURTHER INVESTIGATION"
   ]
  },
  {
   "cell_type": "markdown",
   "metadata": {},
   "source": [
    "##### FastText (by Facebook)\n",
    "\n",
    "FastText performed better than `TextBlob` and `langdetect` for the language detection. Therefore, I'll use it for final detection."
   ]
  },
  {
   "cell_type": "code",
   "execution_count": 49,
   "metadata": {},
   "outputs": [],
   "source": [
    "#!pip install fasttext\n",
    "\n",
    "# Model link: https://dl.fbaipublicfiles.com/fasttext/supervised-models/lid.176.bin"
   ]
  },
  {
   "cell_type": "code",
   "execution_count": 50,
   "metadata": {},
   "outputs": [
    {
     "name": "stderr",
     "output_type": "stream",
     "text": [
      "\n"
     ]
    }
   ],
   "source": [
    "# import fasttext\n",
    "\n",
    "language_model = fasttext.load_model('data/lid.176.bin')\n",
    "\n",
    "def detect_fasttext(tweet):\n",
    "    prediction = language_model.predict(tweet)\n",
    "    label = prediction[0][0].split(\"__label__\")[1]\n",
    "    return label\n",
    "\n",
    "df['language'] = df.content.apply(detect_fasttext)"
   ]
  },
  {
   "cell_type": "code",
   "execution_count": 51,
   "metadata": {},
   "outputs": [
    {
     "data": {
      "text/plain": [
       "en     38339\n",
       "de       180\n",
       "es       147\n",
       "ja       100\n",
       "fr        81\n",
       "pt        42\n",
       "it        30\n",
       "nl        29\n",
       "zh        25\n",
       "hu        17\n",
       "fi        15\n",
       "tl        12\n",
       "ca        12\n",
       "id        11\n",
       "no        10\n",
       "ru        10\n",
       "ro        10\n",
       "pl         9\n",
       "eo         8\n",
       "et         8\n",
       "el         7\n",
       "sv         7\n",
       "cs         6\n",
       "tr         5\n",
       "ia         4\n",
       "fy         3\n",
       "gl         3\n",
       "cy         3\n",
       "ms         3\n",
       "ar         2\n",
       "da         2\n",
       "sr         2\n",
       "uk         2\n",
       "lb         2\n",
       "si         2\n",
       "la         2\n",
       "nn         2\n",
       "az         1\n",
       "kw         1\n",
       "ta         1\n",
       "uz         1\n",
       "sl         1\n",
       "nds        1\n",
       "ur         1\n",
       "eu         1\n",
       "th         1\n",
       "qu         1\n",
       "ko         1\n",
       "hy         1\n",
       "vi         1\n",
       "km         1\n",
       "hr         1\n",
       "he         1\n",
       "sh         1\n",
       "sw         1\n",
       "Name: language, dtype: int64"
      ]
     },
     "execution_count": 51,
     "metadata": {},
     "output_type": "execute_result"
    }
   ],
   "source": [
    "df.language.value_counts()"
   ]
  },
  {
   "cell_type": "markdown",
   "metadata": {},
   "source": [
    "Accuracy is clearly higher with FastText language identifier."
   ]
  },
  {
   "cell_type": "code",
   "execution_count": 53,
   "metadata": {},
   "outputs": [
    {
     "data": {
      "text/html": [
       "<div>\n",
       "<style scoped>\n",
       "    .dataframe tbody tr th:only-of-type {\n",
       "        vertical-align: middle;\n",
       "    }\n",
       "\n",
       "    .dataframe tbody tr th {\n",
       "        vertical-align: top;\n",
       "    }\n",
       "\n",
       "    .dataframe thead th {\n",
       "        text-align: right;\n",
       "    }\n",
       "</style>\n",
       "<table border=\"1\" class=\"dataframe\">\n",
       "  <thead>\n",
       "    <tr style=\"text-align: right;\">\n",
       "      <th></th>\n",
       "      <th>sentiment</th>\n",
       "      <th>author</th>\n",
       "      <th>content</th>\n",
       "      <th>polarity</th>\n",
       "      <th>language</th>\n",
       "    </tr>\n",
       "  </thead>\n",
       "  <tbody>\n",
       "    <tr>\n",
       "      <th>25988</th>\n",
       "      <td>happiness</td>\n",
       "      <td>missbrandii</td>\n",
       "      <td>Good mornin twiggas.</td>\n",
       "      <td>positive</td>\n",
       "      <td>eo</td>\n",
       "    </tr>\n",
       "    <tr>\n",
       "      <th>17167</th>\n",
       "      <td>worry</td>\n",
       "      <td>sofiaramirezU</td>\n",
       "      <td>En el salon.. Que caliente el blower ouch</td>\n",
       "      <td>negative</td>\n",
       "      <td>es</td>\n",
       "    </tr>\n",
       "    <tr>\n",
       "      <th>27141</th>\n",
       "      <td>neutral</td>\n",
       "      <td>miiquiita_jonas</td>\n",
       "      <td>En el colectivo jodiendo con las chicas  i promisse upload photos then.</td>\n",
       "      <td>neutral</td>\n",
       "      <td>es</td>\n",
       "    </tr>\n",
       "    <tr>\n",
       "      <th>11293</th>\n",
       "      <td>neutral</td>\n",
       "      <td>JackieDanger</td>\n",
       "      <td>@AMcCallon  stop itt!</td>\n",
       "      <td>neutral</td>\n",
       "      <td>hu</td>\n",
       "    </tr>\n",
       "    <tr>\n",
       "      <th>39497</th>\n",
       "      <td>love</td>\n",
       "      <td>littlehotmess35</td>\n",
       "      <td>HAPPY MOTHER'S DAYYY!</td>\n",
       "      <td>positive</td>\n",
       "      <td>zh</td>\n",
       "    </tr>\n",
       "    <tr>\n",
       "      <th>23479</th>\n",
       "      <td>neutral</td>\n",
       "      <td>jecaaa</td>\n",
       "      <td>just made som situpps</td>\n",
       "      <td>neutral</td>\n",
       "      <td>no</td>\n",
       "    </tr>\n",
       "    <tr>\n",
       "      <th>12200</th>\n",
       "      <td>sadness</td>\n",
       "      <td>TaraHussey</td>\n",
       "      <td>@ZeenaBoBeena im sorry. I fail.</td>\n",
       "      <td>negative</td>\n",
       "      <td>de</td>\n",
       "    </tr>\n",
       "    <tr>\n",
       "      <th>902</th>\n",
       "      <td>worry</td>\n",
       "      <td>movewithme</td>\n",
       "      <td>@keytar @badtwin BUT THEY ARE EXPENSIVE.</td>\n",
       "      <td>negative</td>\n",
       "      <td>zh</td>\n",
       "    </tr>\n",
       "    <tr>\n",
       "      <th>34394</th>\n",
       "      <td>happiness</td>\n",
       "      <td>justanaussiefan</td>\n",
       "      <td>IT'S MOTHER'S DAY</td>\n",
       "      <td>positive</td>\n",
       "      <td>ja</td>\n",
       "    </tr>\n",
       "    <tr>\n",
       "      <th>39910</th>\n",
       "      <td>enthusiasm</td>\n",
       "      <td>miloocyrus</td>\n",
       "      <td>CAN'T SLEEP TONIGHT . Oh see ya! Bye</td>\n",
       "      <td>positive</td>\n",
       "      <td>zh</td>\n",
       "    </tr>\n",
       "  </tbody>\n",
       "</table>\n",
       "</div>"
      ],
      "text/plain": [
       "        sentiment           author  \\\n",
       "25988   happiness      missbrandii   \n",
       "17167       worry    sofiaramirezU   \n",
       "27141     neutral  miiquiita_jonas   \n",
       "11293     neutral     JackieDanger   \n",
       "39497        love  littlehotmess35   \n",
       "23479     neutral           jecaaa   \n",
       "12200     sadness       TaraHussey   \n",
       "902         worry       movewithme   \n",
       "34394   happiness  justanaussiefan   \n",
       "39910  enthusiasm       miloocyrus   \n",
       "\n",
       "                                                                       content  \\\n",
       "25988                                                     Good mornin twiggas.   \n",
       "17167                                En el salon.. Que caliente el blower ouch   \n",
       "27141  En el colectivo jodiendo con las chicas  i promisse upload photos then.   \n",
       "11293                                                    @AMcCallon  stop itt!   \n",
       "39497                                                    HAPPY MOTHER'S DAYYY!   \n",
       "23479                                                    just made som situpps   \n",
       "12200                                          @ZeenaBoBeena im sorry. I fail.   \n",
       "902                                   @keytar @badtwin BUT THEY ARE EXPENSIVE.   \n",
       "34394                                                        IT'S MOTHER'S DAY   \n",
       "39910                                     CAN'T SLEEP TONIGHT . Oh see ya! Bye   \n",
       "\n",
       "       polarity language  \n",
       "25988  positive       eo  \n",
       "17167  negative       es  \n",
       "27141   neutral       es  \n",
       "11293   neutral       hu  \n",
       "39497  positive       zh  \n",
       "23479   neutral       no  \n",
       "12200  negative       de  \n",
       "902    negative       zh  \n",
       "34394  positive       ja  \n",
       "39910  positive       zh  "
      ]
     },
     "execution_count": 53,
     "metadata": {},
     "output_type": "execute_result"
    }
   ],
   "source": [
    "df[df['language'] != 'en'].sample(10)"
   ]
  },
  {
   "cell_type": "markdown",
   "metadata": {},
   "source": [
    "#### Hyperlinks"
   ]
  },
  {
   "cell_type": "code",
   "execution_count": 40,
   "metadata": {},
   "outputs": [
    {
     "data": {
      "text/plain": [
       "sum     1811.00000\n",
       "mean       0.04528\n",
       "Name: content, dtype: float64"
      ]
     },
     "execution_count": 40,
     "metadata": {},
     "output_type": "execute_result"
    }
   ],
   "source": [
    "# Number/ratio of tweets with hyperlinks\n",
    "df.content.str.lower().str.contains(\"http\").agg([np.sum, np.mean])"
   ]
  },
  {
   "cell_type": "code",
   "execution_count": 39,
   "metadata": {},
   "outputs": [
    {
     "data": {
      "text/plain": [
       "neutral       0.298730\n",
       "worry         0.144119\n",
       "happiness     0.141911\n",
       "love          0.122032\n",
       "sadness       0.079514\n",
       "fun           0.059083\n",
       "surprise      0.055218\n",
       "relief        0.028713\n",
       "empty         0.027057\n",
       "hate          0.020983\n",
       "enthusiasm    0.019326\n",
       "anger         0.002209\n",
       "boredom       0.001104\n",
       "Name: sentiment, dtype: float64"
      ]
     },
     "execution_count": 39,
     "metadata": {},
     "output_type": "execute_result"
    }
   ],
   "source": [
    "df[df.content.str.lower().str.contains(\"http\")].sentiment.value_counts(normalize=True)"
   ]
  },
  {
   "cell_type": "code",
   "execution_count": 108,
   "metadata": {},
   "outputs": [
    {
     "data": {
      "text/plain": [
       "worry         0.214692\n",
       "neutral       0.211968\n",
       "sadness       0.131491\n",
       "happiness     0.129684\n",
       "love          0.094828\n",
       "surprise      0.054655\n",
       "fun           0.043708\n",
       "relief        0.038602\n",
       "hate          0.033652\n",
       "empty         0.020348\n",
       "enthusiasm    0.018960\n",
       "boredom       0.004635\n",
       "anger         0.002776\n",
       "Name: sentiment, dtype: float64"
      ]
     },
     "execution_count": 108,
     "metadata": {},
     "output_type": "execute_result"
    }
   ],
   "source": [
    "df[~df.content.str.contains(\"http\")].sentiment.value_counts(normalize=True)"
   ]
  },
  {
   "cell_type": "markdown",
   "metadata": {},
   "source": [
    "It seems that sharing a link may have some, though not significant relationship with the sentiment. Lets keep this as a feature, or in the text???"
   ]
  },
  {
   "cell_type": "code",
   "execution_count": 109,
   "metadata": {},
   "outputs": [],
   "source": [
    "# Create a new column \"has_link\"\n",
    "df['has_link'] = df.content.str.contains(\"http\")*1"
   ]
  },
  {
   "cell_type": "code",
   "execution_count": null,
   "metadata": {},
   "outputs": [],
   "source": []
  }
 ],
 "metadata": {
  "kernelspec": {
   "display_name": "Python 3",
   "language": "python",
   "name": "python3"
  },
  "language_info": {
   "codemirror_mode": {
    "name": "ipython",
    "version": 3
   },
   "file_extension": ".py",
   "mimetype": "text/x-python",
   "name": "python",
   "nbconvert_exporter": "python",
   "pygments_lexer": "ipython3",
   "version": "3.7.3"
  },
  "toc-autonumbering": false
 },
 "nbformat": 4,
 "nbformat_minor": 4
}
