{
 "cells": [
  {
   "cell_type": "markdown",
   "metadata": {},
   "source": [
    "# Classifying Tweet Emotions"
   ]
  },
  {
   "cell_type": "code",
   "execution_count": 1,
   "metadata": {},
   "outputs": [],
   "source": [
    "# Import necessary modules\n",
    "import pandas as pd\n",
    "import numpy as np\n",
    "import re\n",
    "\n",
    "%matplotlib inline\n",
    "import matplotlib.pylab as plt\n",
    "import seaborn as sns\n",
    "\n",
    "# Import NLP modules\n",
    "import spacy\n",
    "import fasttext\n",
    "\n",
    "# from textblob import TextBlob\n",
    "# from langdetect import detect\n",
    "\n",
    "pd.set_option('display.max_colwidth', 160)"
   ]
  },
  {
   "cell_type": "markdown",
   "metadata": {},
   "source": [
    "## Data Preparation"
   ]
  },
  {
   "cell_type": "code",
   "execution_count": 3,
   "metadata": {},
   "outputs": [],
   "source": [
    "# Read data\n",
    "df = pd.read_csv('data/text_emotion.csv', usecols=list(range(1,4)))"
   ]
  },
  {
   "cell_type": "code",
   "execution_count": 4,
   "metadata": {},
   "outputs": [
    {
     "data": {
      "text/html": [
       "<div>\n",
       "<style scoped>\n",
       "    .dataframe tbody tr th:only-of-type {\n",
       "        vertical-align: middle;\n",
       "    }\n",
       "\n",
       "    .dataframe tbody tr th {\n",
       "        vertical-align: top;\n",
       "    }\n",
       "\n",
       "    .dataframe thead th {\n",
       "        text-align: right;\n",
       "    }\n",
       "</style>\n",
       "<table border=\"1\" class=\"dataframe\">\n",
       "  <thead>\n",
       "    <tr style=\"text-align: right;\">\n",
       "      <th></th>\n",
       "      <th>sentiment</th>\n",
       "      <th>author</th>\n",
       "      <th>content</th>\n",
       "    </tr>\n",
       "  </thead>\n",
       "  <tbody>\n",
       "    <tr>\n",
       "      <th>0</th>\n",
       "      <td>empty</td>\n",
       "      <td>xoshayzers</td>\n",
       "      <td>@tiffanylue i know  i was listenin to bad habit earlier and i started freakin at his part =[</td>\n",
       "    </tr>\n",
       "    <tr>\n",
       "      <th>1</th>\n",
       "      <td>sadness</td>\n",
       "      <td>wannamama</td>\n",
       "      <td>Layin n bed with a headache  ughhhh...waitin on your call...</td>\n",
       "    </tr>\n",
       "    <tr>\n",
       "      <th>2</th>\n",
       "      <td>sadness</td>\n",
       "      <td>coolfunky</td>\n",
       "      <td>Funeral ceremony...gloomy friday...</td>\n",
       "    </tr>\n",
       "    <tr>\n",
       "      <th>3</th>\n",
       "      <td>enthusiasm</td>\n",
       "      <td>czareaquino</td>\n",
       "      <td>wants to hang out with friends SOON!</td>\n",
       "    </tr>\n",
       "    <tr>\n",
       "      <th>4</th>\n",
       "      <td>neutral</td>\n",
       "      <td>xkilljoyx</td>\n",
       "      <td>@dannycastillo We want to trade with someone who has Houston tickets, but no one will.</td>\n",
       "    </tr>\n",
       "  </tbody>\n",
       "</table>\n",
       "</div>"
      ],
      "text/plain": [
       "    sentiment       author  \\\n",
       "0       empty   xoshayzers   \n",
       "1     sadness    wannamama   \n",
       "2     sadness    coolfunky   \n",
       "3  enthusiasm  czareaquino   \n",
       "4     neutral    xkilljoyx   \n",
       "\n",
       "                                                                                        content  \n",
       "0  @tiffanylue i know  i was listenin to bad habit earlier and i started freakin at his part =[  \n",
       "1                                  Layin n bed with a headache  ughhhh...waitin on your call...  \n",
       "2                                                           Funeral ceremony...gloomy friday...  \n",
       "3                                                          wants to hang out with friends SOON!  \n",
       "4        @dannycastillo We want to trade with someone who has Houston tickets, but no one will.  "
      ]
     },
     "execution_count": 4,
     "metadata": {},
     "output_type": "execute_result"
    }
   ],
   "source": [
    "# Print the head of the data\n",
    "df.head()"
   ]
  },
  {
   "cell_type": "code",
   "execution_count": 4,
   "metadata": {},
   "outputs": [
    {
     "name": "stdout",
     "output_type": "stream",
     "text": [
      "<class 'pandas.core.frame.DataFrame'>\n",
      "RangeIndex: 40000 entries, 0 to 39999\n",
      "Data columns (total 3 columns):\n",
      "sentiment    40000 non-null object\n",
      "author       40000 non-null object\n",
      "content      40000 non-null object\n",
      "dtypes: object(3)\n",
      "memory usage: 937.6+ KB\n"
     ]
    }
   ],
   "source": [
    "# Print the structure of the data\n",
    "df.info()"
   ]
  },
  {
   "cell_type": "code",
   "execution_count": 5,
   "metadata": {},
   "outputs": [
    {
     "data": {
      "text/html": [
       "<div>\n",
       "<style scoped>\n",
       "    .dataframe tbody tr th:only-of-type {\n",
       "        vertical-align: middle;\n",
       "    }\n",
       "\n",
       "    .dataframe tbody tr th {\n",
       "        vertical-align: top;\n",
       "    }\n",
       "\n",
       "    .dataframe thead th {\n",
       "        text-align: right;\n",
       "    }\n",
       "</style>\n",
       "<table border=\"1\" class=\"dataframe\">\n",
       "  <thead>\n",
       "    <tr style=\"text-align: right;\">\n",
       "      <th></th>\n",
       "      <th>sentiment</th>\n",
       "      <th>author</th>\n",
       "      <th>content</th>\n",
       "    </tr>\n",
       "  </thead>\n",
       "  <tbody>\n",
       "    <tr>\n",
       "      <th>count</th>\n",
       "      <td>40000</td>\n",
       "      <td>40000</td>\n",
       "      <td>40000</td>\n",
       "    </tr>\n",
       "    <tr>\n",
       "      <th>unique</th>\n",
       "      <td>13</td>\n",
       "      <td>33871</td>\n",
       "      <td>39827</td>\n",
       "    </tr>\n",
       "    <tr>\n",
       "      <th>top</th>\n",
       "      <td>neutral</td>\n",
       "      <td>MissxMarisa</td>\n",
       "      <td>I just received a mothers day card from my lovely daughter wishing my a happy mothers day  http://tr.im/kWK9</td>\n",
       "    </tr>\n",
       "    <tr>\n",
       "      <th>freq</th>\n",
       "      <td>8638</td>\n",
       "      <td>23</td>\n",
       "      <td>14</td>\n",
       "    </tr>\n",
       "  </tbody>\n",
       "</table>\n",
       "</div>"
      ],
      "text/plain": [
       "       sentiment       author  \\\n",
       "count      40000        40000   \n",
       "unique        13        33871   \n",
       "top      neutral  MissxMarisa   \n",
       "freq        8638           23   \n",
       "\n",
       "                                                                                                             content  \n",
       "count                                                                                                          40000  \n",
       "unique                                                                                                         39827  \n",
       "top     I just received a mothers day card from my lovely daughter wishing my a happy mothers day  http://tr.im/kWK9  \n",
       "freq                                                                                                              14  "
      ]
     },
     "execution_count": 5,
     "metadata": {},
     "output_type": "execute_result"
    }
   ],
   "source": [
    "# Describe the data\n",
    "df.describe()"
   ]
  },
  {
   "cell_type": "markdown",
   "metadata": {
    "toc-hr-collapsed": true
   },
   "source": [
    "#### Exploring Data"
   ]
  },
  {
   "cell_type": "markdown",
   "metadata": {},
   "source": [
    "##### Sentiment"
   ]
  },
  {
   "cell_type": "code",
   "execution_count": 6,
   "metadata": {},
   "outputs": [
    {
     "data": {
      "text/html": [
       "<div>\n",
       "<style scoped>\n",
       "    .dataframe tbody tr th:only-of-type {\n",
       "        vertical-align: middle;\n",
       "    }\n",
       "\n",
       "    .dataframe tbody tr th {\n",
       "        vertical-align: top;\n",
       "    }\n",
       "\n",
       "    .dataframe thead th {\n",
       "        text-align: right;\n",
       "    }\n",
       "</style>\n",
       "<table border=\"1\" class=\"dataframe\">\n",
       "  <thead>\n",
       "    <tr style=\"text-align: right;\">\n",
       "      <th></th>\n",
       "      <th>sentiment</th>\n",
       "      <th>sentiment</th>\n",
       "    </tr>\n",
       "  </thead>\n",
       "  <tbody>\n",
       "    <tr>\n",
       "      <th>neutral</th>\n",
       "      <td>8638.0</td>\n",
       "      <td>0.215950</td>\n",
       "    </tr>\n",
       "    <tr>\n",
       "      <th>worry</th>\n",
       "      <td>8459.0</td>\n",
       "      <td>0.211475</td>\n",
       "    </tr>\n",
       "    <tr>\n",
       "      <th>happiness</th>\n",
       "      <td>5209.0</td>\n",
       "      <td>0.130225</td>\n",
       "    </tr>\n",
       "    <tr>\n",
       "      <th>sadness</th>\n",
       "      <td>5165.0</td>\n",
       "      <td>0.129125</td>\n",
       "    </tr>\n",
       "    <tr>\n",
       "      <th>love</th>\n",
       "      <td>3842.0</td>\n",
       "      <td>0.096050</td>\n",
       "    </tr>\n",
       "    <tr>\n",
       "      <th>surprise</th>\n",
       "      <td>2187.0</td>\n",
       "      <td>0.054675</td>\n",
       "    </tr>\n",
       "    <tr>\n",
       "      <th>fun</th>\n",
       "      <td>1776.0</td>\n",
       "      <td>0.044400</td>\n",
       "    </tr>\n",
       "    <tr>\n",
       "      <th>relief</th>\n",
       "      <td>1526.0</td>\n",
       "      <td>0.038150</td>\n",
       "    </tr>\n",
       "    <tr>\n",
       "      <th>hate</th>\n",
       "      <td>1323.0</td>\n",
       "      <td>0.033075</td>\n",
       "    </tr>\n",
       "    <tr>\n",
       "      <th>empty</th>\n",
       "      <td>827.0</td>\n",
       "      <td>0.020675</td>\n",
       "    </tr>\n",
       "    <tr>\n",
       "      <th>enthusiasm</th>\n",
       "      <td>759.0</td>\n",
       "      <td>0.018975</td>\n",
       "    </tr>\n",
       "    <tr>\n",
       "      <th>boredom</th>\n",
       "      <td>179.0</td>\n",
       "      <td>0.004475</td>\n",
       "    </tr>\n",
       "    <tr>\n",
       "      <th>anger</th>\n",
       "      <td>110.0</td>\n",
       "      <td>0.002750</td>\n",
       "    </tr>\n",
       "  </tbody>\n",
       "</table>\n",
       "</div>"
      ],
      "text/plain": [
       "            sentiment  sentiment\n",
       "neutral        8638.0   0.215950\n",
       "worry          8459.0   0.211475\n",
       "happiness      5209.0   0.130225\n",
       "sadness        5165.0   0.129125\n",
       "love           3842.0   0.096050\n",
       "surprise       2187.0   0.054675\n",
       "fun            1776.0   0.044400\n",
       "relief         1526.0   0.038150\n",
       "hate           1323.0   0.033075\n",
       "empty           827.0   0.020675\n",
       "enthusiasm      759.0   0.018975\n",
       "boredom         179.0   0.004475\n",
       "anger           110.0   0.002750"
      ]
     },
     "execution_count": 6,
     "metadata": {},
     "output_type": "execute_result"
    }
   ],
   "source": [
    "# Print the count and the ratio of the emotions\n",
    "pd.DataFrame([df.sentiment.value_counts(), df.sentiment.value_counts(normalize=True)]).T"
   ]
  },
  {
   "cell_type": "code",
   "execution_count": 7,
   "metadata": {},
   "outputs": [
    {
     "data": {
      "text/plain": [
       "Text(0.5, 1.0, 'Emotions Normalized')"
      ]
     },
     "execution_count": 7,
     "metadata": {},
     "output_type": "execute_result"
    },
    {
     "data": {
      "image/png": "[encoded data removed]",
      "text/plain": [
       "<Figure size 432x288 with 1 Axes>"
      ]
     },
     "metadata": {},
     "output_type": "display_data"
    }
   ],
   "source": [
    "# Use ggplot style\n",
    "plt.style.use('ggplot')\n",
    "\n",
    "# Plot the value counts of emotions\n",
    "df.sentiment.value_counts(normalize=True).sort_values(ascending=True).plot.barh()\n",
    "plt.title('Emotions Normalized')"
   ]
  },
  {
   "cell_type": "markdown",
   "metadata": {},
   "source": [
    "**Empty**: There is an emotion named \"empty\" in the data. I'd like to understand what it really means."
   ]
  },
  {
   "cell_type": "code",
   "execution_count": 8,
   "metadata": {},
   "outputs": [
    {
     "data": {
      "text/html": [
       "<div>\n",
       "<style scoped>\n",
       "    .dataframe tbody tr th:only-of-type {\n",
       "        vertical-align: middle;\n",
       "    }\n",
       "\n",
       "    .dataframe tbody tr th {\n",
       "        vertical-align: top;\n",
       "    }\n",
       "\n",
       "    .dataframe thead th {\n",
       "        text-align: right;\n",
       "    }\n",
       "</style>\n",
       "<table border=\"1\" class=\"dataframe\">\n",
       "  <thead>\n",
       "    <tr style=\"text-align: right;\">\n",
       "      <th></th>\n",
       "      <th>sentiment</th>\n",
       "      <th>author</th>\n",
       "      <th>content</th>\n",
       "    </tr>\n",
       "  </thead>\n",
       "  <tbody>\n",
       "    <tr>\n",
       "      <th>0</th>\n",
       "      <td>empty</td>\n",
       "      <td>xoshayzers</td>\n",
       "      <td>@tiffanylue i know  i was listenin to bad habit earlier and i started freakin at his part =[</td>\n",
       "    </tr>\n",
       "    <tr>\n",
       "      <th>44</th>\n",
       "      <td>empty</td>\n",
       "      <td>Aggie9</td>\n",
       "      <td>@creyes middle school and elem. High schools will remain open for those who need credits to graduate. Cali is broken</td>\n",
       "    </tr>\n",
       "    <tr>\n",
       "      <th>52</th>\n",
       "      <td>empty</td>\n",
       "      <td>Dreness023</td>\n",
       "      <td>@djmicdamn hey yu lil fucker i textd yu</td>\n",
       "    </tr>\n",
       "    <tr>\n",
       "      <th>141</th>\n",
       "      <td>empty</td>\n",
       "      <td>Gen22</td>\n",
       "      <td>@softtouchme just answered you- never learned how to write in French- just basic stuff-</td>\n",
       "    </tr>\n",
       "    <tr>\n",
       "      <th>180</th>\n",
       "      <td>empty</td>\n",
       "      <td>_SNO_</td>\n",
       "      <td>Have a headache  I'm going to bed. Goodnight!</td>\n",
       "    </tr>\n",
       "  </tbody>\n",
       "</table>\n",
       "</div>"
      ],
      "text/plain": [
       "    sentiment      author  \\\n",
       "0       empty  xoshayzers   \n",
       "44      empty      Aggie9   \n",
       "52      empty  Dreness023   \n",
       "141     empty       Gen22   \n",
       "180     empty       _SNO_   \n",
       "\n",
       "                                                                                                                  content  \n",
       "0                            @tiffanylue i know  i was listenin to bad habit earlier and i started freakin at his part =[  \n",
       "44   @creyes middle school and elem. High schools will remain open for those who need credits to graduate. Cali is broken  \n",
       "52                                                                                @djmicdamn hey yu lil fucker i textd yu  \n",
       "141                               @softtouchme just answered you- never learned how to write in French- just basic stuff-  \n",
       "180                                                                         Have a headache  I'm going to bed. Goodnight!  "
      ]
     },
     "execution_count": 8,
     "metadata": {},
     "output_type": "execute_result"
    }
   ],
   "source": [
    "# Print head of the tweets with sentiment \"empty\"\n",
    "df[df.sentiment == 'empty'].head()"
   ]
  },
  {
   "cell_type": "code",
   "execution_count": 9,
   "metadata": {},
   "outputs": [
    {
     "data": {
      "text/html": [
       "<div>\n",
       "<style scoped>\n",
       "    .dataframe tbody tr th:only-of-type {\n",
       "        vertical-align: middle;\n",
       "    }\n",
       "\n",
       "    .dataframe tbody tr th {\n",
       "        vertical-align: top;\n",
       "    }\n",
       "\n",
       "    .dataframe thead th {\n",
       "        text-align: right;\n",
       "    }\n",
       "</style>\n",
       "<table border=\"1\" class=\"dataframe\">\n",
       "  <thead>\n",
       "    <tr style=\"text-align: right;\">\n",
       "      <th></th>\n",
       "      <th>sentiment</th>\n",
       "      <th>author</th>\n",
       "      <th>content</th>\n",
       "    </tr>\n",
       "  </thead>\n",
       "  <tbody>\n",
       "    <tr>\n",
       "      <th>7161</th>\n",
       "      <td>empty</td>\n",
       "      <td>WolfieFox</td>\n",
       "      <td>@radinov BAH, you'be made me all hungry now</td>\n",
       "    </tr>\n",
       "    <tr>\n",
       "      <th>8636</th>\n",
       "      <td>empty</td>\n",
       "      <td>andrezzapersou</td>\n",
       "      <td>Cold day :/ Studing all day long to the tests tomorrow</td>\n",
       "    </tr>\n",
       "    <tr>\n",
       "      <th>17504</th>\n",
       "      <td>empty</td>\n",
       "      <td>trevorosterholm</td>\n",
       "      <td>@robert_avalos lucky ass bitch I am stuck at work</td>\n",
       "    </tr>\n",
       "    <tr>\n",
       "      <th>12848</th>\n",
       "      <td>empty</td>\n",
       "      <td>KaKuBby</td>\n",
       "      <td>at panera for lunch  byyy myself  aww</td>\n",
       "    </tr>\n",
       "    <tr>\n",
       "      <th>7509</th>\n",
       "      <td>empty</td>\n",
       "      <td>learnedhoof</td>\n",
       "      <td>@jen4buz How inconsiderate!</td>\n",
       "    </tr>\n",
       "    <tr>\n",
       "      <th>4221</th>\n",
       "      <td>empty</td>\n",
       "      <td>ali_wright</td>\n",
       "      <td>Glorious day in Glasgow for a change, and I'm working  Too much to do to even contemplate knocking off early...</td>\n",
       "    </tr>\n",
       "    <tr>\n",
       "      <th>22058</th>\n",
       "      <td>empty</td>\n",
       "      <td>mbleeker</td>\n",
       "      <td>cower failure: when you mean to comply, but stand up for yourself instead</td>\n",
       "    </tr>\n",
       "    <tr>\n",
       "      <th>23183</th>\n",
       "      <td>empty</td>\n",
       "      <td>P0150N0U5F15H</td>\n",
       "      <td>@Remy_Foster I did about 6 once</td>\n",
       "    </tr>\n",
       "    <tr>\n",
       "      <th>13578</th>\n",
       "      <td>empty</td>\n",
       "      <td>darcyyoung</td>\n",
       "      <td>reaaaallly bored</td>\n",
       "    </tr>\n",
       "    <tr>\n",
       "      <th>38753</th>\n",
       "      <td>empty</td>\n",
       "      <td>mike_met</td>\n",
       "      <td>Hoping my mom likes her pamper gifts I sent her</td>\n",
       "    </tr>\n",
       "  </tbody>\n",
       "</table>\n",
       "</div>"
      ],
      "text/plain": [
       "      sentiment           author  \\\n",
       "7161      empty        WolfieFox   \n",
       "8636      empty   andrezzapersou   \n",
       "17504     empty  trevorosterholm   \n",
       "12848     empty          KaKuBby   \n",
       "7509      empty      learnedhoof   \n",
       "4221      empty       ali_wright   \n",
       "22058     empty         mbleeker   \n",
       "23183     empty    P0150N0U5F15H   \n",
       "13578     empty       darcyyoung   \n",
       "38753     empty         mike_met   \n",
       "\n",
       "                                                                                                               content  \n",
       "7161                                                                       @radinov BAH, you'be made me all hungry now  \n",
       "8636                                                            Cold day :/ Studing all day long to the tests tomorrow  \n",
       "17504                                                                @robert_avalos lucky ass bitch I am stuck at work  \n",
       "12848                                                                            at panera for lunch  byyy myself  aww  \n",
       "7509                                                                                       @jen4buz How inconsiderate!  \n",
       "4221   Glorious day in Glasgow for a change, and I'm working  Too much to do to even contemplate knocking off early...  \n",
       "22058                                        cower failure: when you mean to comply, but stand up for yourself instead  \n",
       "23183                                                                                  @Remy_Foster I did about 6 once  \n",
       "13578                                                                                                 reaaaallly bored  \n",
       "38753                                                                  Hoping my mom likes her pamper gifts I sent her  "
      ]
     },
     "execution_count": 9,
     "metadata": {},
     "output_type": "execute_result"
    }
   ],
   "source": [
    "# Investigate empty\n",
    "df[df.sentiment == 'empty'].sample(10)"
   ]
  },
  {
   "cell_type": "code",
   "execution_count": 10,
   "metadata": {},
   "outputs": [
    {
     "data": {
      "text/plain": [
       "827"
      ]
     },
     "execution_count": 10,
     "metadata": {},
     "output_type": "execute_result"
    }
   ],
   "source": [
    "# Number of observations with \"empty\" sentiment\n",
    "df[df.sentiment == 'empty'].shape[0]"
   ]
  },
  {
   "cell_type": "markdown",
   "metadata": {},
   "source": [
    "I's clear from the contents that \"empty\" is not the same as \"neutral\". There are various types of emotions among tweets labeled as \"empty\". Although the number of such tweets is not significant, the rows labeled `empty` can be dropped from the dataset."
   ]
  },
  {
   "cell_type": "code",
   "execution_count": 5,
   "metadata": {},
   "outputs": [],
   "source": [
    "# Drop rows  with sentiment \"empty\"\n",
    "df = df[df.sentiment != 'empty']\n",
    "\n",
    "## UPDATE DATA PREPROCESSING"
   ]
  },
  {
   "cell_type": "markdown",
   "metadata": {},
   "source": [
    "##### Author"
   ]
  },
  {
   "cell_type": "code",
   "execution_count": 9,
   "metadata": {},
   "outputs": [
    {
     "data": {
      "text/plain": [
       "MissxMarisa        23\n",
       "ChineseLearn       22\n",
       "erkagarcia         19\n",
       "MiDesfileNegro     19\n",
       "lost_dog           18\n",
       "tsarnick           17\n",
       "KimmiMcfly         15\n",
       "linnetwoods        15\n",
       "Dogbook            14\n",
       "twebbstack         14\n",
       "cece_newnew        14\n",
       "mrs_mcsupergirl    14\n",
       "Quimo              14\n",
       "divxdownloads      13\n",
       "jesssicababesss    13\n",
       "TraceyHewins       12\n",
       "lesley007          12\n",
       "lopezwilfred       12\n",
       "Tittch             11\n",
       "ComedyQueen        11\n",
       "beingnobody        11\n",
       "MandyPandy32       11\n",
       "HanaStephenson     10\n",
       "Samm_xo            10\n",
       "sweetdreamer       10\n",
       "violetbakes        10\n",
       "Gemmaboyle         10\n",
       "DawnofOURnight     10\n",
       "keza34             10\n",
       "BrandySanDiego     10\n",
       "                   ..\n",
       "magicboop           1\n",
       "JustinJesselli      1\n",
       "kimislolling        1\n",
       "renatolz            1\n",
       "mjrsuperstar        1\n",
       "hairymaclary        1\n",
       "Zombie_Plan         1\n",
       "team140             1\n",
       "SicknastyKaryn      1\n",
       "Jeffdc5             1\n",
       "sallismoney         1\n",
       "allisonwannng       1\n",
       "JESSABRAHAMS        1\n",
       "slimcode            1\n",
       "barnicles1          1\n",
       "janeschmidt         1\n",
       "Sabrinakay08        1\n",
       "cassynyleve         1\n",
       "dailytwitter        1\n",
       "RobMoss             1\n",
       "xxxxxxx             1\n",
       "LSI_Rob             1\n",
       "lauash              1\n",
       "fernandasymonds     1\n",
       "adammiya            1\n",
       "carolchyau          1\n",
       "Mommy2jesse         1\n",
       "shaylyndanae        1\n",
       "blcchirp            1\n",
       "afef                1\n",
       "Name: author, Length: 33871, dtype: int64"
      ]
     },
     "execution_count": 9,
     "metadata": {},
     "output_type": "execute_result"
    }
   ],
   "source": [
    "# Print value counts\n",
    "df.author.value_counts()"
   ]
  },
  {
   "cell_type": "code",
   "execution_count": 10,
   "metadata": {},
   "outputs": [
    {
     "data": {
      "text/html": [
       "<div>\n",
       "<style scoped>\n",
       "    .dataframe tbody tr th:only-of-type {\n",
       "        vertical-align: middle;\n",
       "    }\n",
       "\n",
       "    .dataframe tbody tr th {\n",
       "        vertical-align: top;\n",
       "    }\n",
       "\n",
       "    .dataframe thead th {\n",
       "        text-align: right;\n",
       "    }\n",
       "</style>\n",
       "<table border=\"1\" class=\"dataframe\">\n",
       "  <thead>\n",
       "    <tr style=\"text-align: right;\">\n",
       "      <th></th>\n",
       "      <th>sentiment</th>\n",
       "      <th>author</th>\n",
       "      <th>content</th>\n",
       "    </tr>\n",
       "  </thead>\n",
       "  <tbody>\n",
       "    <tr>\n",
       "      <th>260</th>\n",
       "      <td>surprise</td>\n",
       "      <td>MissxMarisa</td>\n",
       "      <td>@freshypanda Im sorry  I don't think I stick out, at least compared to what I used to look like.</td>\n",
       "    </tr>\n",
       "    <tr>\n",
       "      <th>333</th>\n",
       "      <td>hate</td>\n",
       "      <td>MissxMarisa</td>\n",
       "      <td>@meganmansyn Hahahaha! It's not horrible, if others were singing with I'm sure it could work. I wish I could afford my own drum set</td>\n",
       "    </tr>\n",
       "    <tr>\n",
       "      <th>1941</th>\n",
       "      <td>neutral</td>\n",
       "      <td>MissxMarisa</td>\n",
       "      <td>@tsarnick This year</td>\n",
       "    </tr>\n",
       "    <tr>\n",
       "      <th>2143</th>\n",
       "      <td>worry</td>\n",
       "      <td>MissxMarisa</td>\n",
       "      <td>@Zobi09 I'm concerned for that family</td>\n",
       "    </tr>\n",
       "    <tr>\n",
       "      <th>2298</th>\n",
       "      <td>neutral</td>\n",
       "      <td>MissxMarisa</td>\n",
       "      <td>@tsarnick Yeah, that was my thumb last night. Sorry</td>\n",
       "    </tr>\n",
       "    <tr>\n",
       "      <th>21267</th>\n",
       "      <td>love</td>\n",
       "      <td>MissxMarisa</td>\n",
       "      <td>@shortyyyy Thank you  I liked Joe's clothes' being ripped off and then Kevin screaming, &amp;quot;Who are you!?!&amp;quot; XD</td>\n",
       "    </tr>\n",
       "    <tr>\n",
       "      <th>21560</th>\n",
       "      <td>surprise</td>\n",
       "      <td>MissxMarisa</td>\n",
       "      <td>@Zanna85 Bill can take me to Fangtasia and hit this shot anytime! &amp;quot;Roads, where we're going we don't need roads.&amp;quot; LOVE that part!</td>\n",
       "    </tr>\n",
       "    <tr>\n",
       "      <th>22574</th>\n",
       "      <td>happiness</td>\n",
       "      <td>MissxMarisa</td>\n",
       "      <td>@Zobi09 The cast of True Blood was there</td>\n",
       "    </tr>\n",
       "    <tr>\n",
       "      <th>22773</th>\n",
       "      <td>sadness</td>\n",
       "      <td>MissxMarisa</td>\n",
       "      <td>@Zobi09 Haha yes I do  it's hard work, too! I didn't get home until 3:00 AM, not like I sleep haha.</td>\n",
       "    </tr>\n",
       "    <tr>\n",
       "      <th>23154</th>\n",
       "      <td>neutral</td>\n",
       "      <td>MissxMarisa</td>\n",
       "      <td>@TheLonely California</td>\n",
       "    </tr>\n",
       "    <tr>\n",
       "      <th>23513</th>\n",
       "      <td>neutral</td>\n",
       "      <td>MissxMarisa</td>\n",
       "      <td>@TheLonely Oh you do? I have the ability to teleport</td>\n",
       "    </tr>\n",
       "    <tr>\n",
       "      <th>23675</th>\n",
       "      <td>happiness</td>\n",
       "      <td>MissxMarisa</td>\n",
       "      <td>@TheLonely Aww how sweet</td>\n",
       "    </tr>\n",
       "    <tr>\n",
       "      <th>23822</th>\n",
       "      <td>love</td>\n",
       "      <td>MissxMarisa</td>\n",
       "      <td>@TheLonely How lovely</td>\n",
       "    </tr>\n",
       "    <tr>\n",
       "      <th>24296</th>\n",
       "      <td>surprise</td>\n",
       "      <td>MissxMarisa</td>\n",
       "      <td>@tsarnick Yeah, you better be sorry! I can't believe you, kiss my sass!!!</td>\n",
       "    </tr>\n",
       "    <tr>\n",
       "      <th>24937</th>\n",
       "      <td>fun</td>\n",
       "      <td>MissxMarisa</td>\n",
       "      <td>@shortyyyy Aww how cute! You'd love my bathroom  http://twitpic.com/4jez4</td>\n",
       "    </tr>\n",
       "    <tr>\n",
       "      <th>24955</th>\n",
       "      <td>happiness</td>\n",
       "      <td>MissxMarisa</td>\n",
       "      <td>@tsarnick I'm very passionate about my interests and go above and beyond  I mean, you've followed The Wiggles, right?</td>\n",
       "    </tr>\n",
       "    <tr>\n",
       "      <th>25124</th>\n",
       "      <td>happiness</td>\n",
       "      <td>MissxMarisa</td>\n",
       "      <td>@shortyyyy It was only $8.00 for the curtain and the two rugs  it makes bathing exciting hahaha!</td>\n",
       "    </tr>\n",
       "    <tr>\n",
       "      <th>25345</th>\n",
       "      <td>neutral</td>\n",
       "      <td>MissxMarisa</td>\n",
       "      <td>@tsarnick OH! Jonas Brother's 3D movie comes out next week in Kangaroo Land  I missed it when it was here.</td>\n",
       "    </tr>\n",
       "    <tr>\n",
       "      <th>26143</th>\n",
       "      <td>worry</td>\n",
       "      <td>MissxMarisa</td>\n",
       "      <td>@tsarnick Ohhhh I don't know ;) an older mature lady?</td>\n",
       "    </tr>\n",
       "    <tr>\n",
       "      <th>35820</th>\n",
       "      <td>worry</td>\n",
       "      <td>MissxMarisa</td>\n",
       "      <td>@Rayyychell They're for my mama  I always bake late and get worried that the mixer is gonna bother people.</td>\n",
       "    </tr>\n",
       "    <tr>\n",
       "      <th>36065</th>\n",
       "      <td>neutral</td>\n",
       "      <td>MissxMarisa</td>\n",
       "      <td>@MeMinty Yeah it's afireinside687</td>\n",
       "    </tr>\n",
       "    <tr>\n",
       "      <th>39333</th>\n",
       "      <td>love</td>\n",
       "      <td>MissxMarisa</td>\n",
       "      <td>@gh_rocks Aww how sweet you are</td>\n",
       "    </tr>\n",
       "    <tr>\n",
       "      <th>39413</th>\n",
       "      <td>worry</td>\n",
       "      <td>MissxMarisa</td>\n",
       "      <td>@freshypanda I work with drunk golfers, it can be exciting! It wasn't bad  Yours, sir?</td>\n",
       "    </tr>\n",
       "  </tbody>\n",
       "</table>\n",
       "</div>"
      ],
      "text/plain": [
       "       sentiment       author  \\\n",
       "260     surprise  MissxMarisa   \n",
       "333         hate  MissxMarisa   \n",
       "1941     neutral  MissxMarisa   \n",
       "2143       worry  MissxMarisa   \n",
       "2298     neutral  MissxMarisa   \n",
       "21267       love  MissxMarisa   \n",
       "21560   surprise  MissxMarisa   \n",
       "22574  happiness  MissxMarisa   \n",
       "22773    sadness  MissxMarisa   \n",
       "23154    neutral  MissxMarisa   \n",
       "23513    neutral  MissxMarisa   \n",
       "23675  happiness  MissxMarisa   \n",
       "23822       love  MissxMarisa   \n",
       "24296   surprise  MissxMarisa   \n",
       "24937        fun  MissxMarisa   \n",
       "24955  happiness  MissxMarisa   \n",
       "25124  happiness  MissxMarisa   \n",
       "25345    neutral  MissxMarisa   \n",
       "26143      worry  MissxMarisa   \n",
       "35820      worry  MissxMarisa   \n",
       "36065    neutral  MissxMarisa   \n",
       "39333       love  MissxMarisa   \n",
       "39413      worry  MissxMarisa   \n",
       "\n",
       "                                                                                                                                           content  \n",
       "260                                               @freshypanda Im sorry  I don't think I stick out, at least compared to what I used to look like.  \n",
       "333            @meganmansyn Hahahaha! It's not horrible, if others were singing with I'm sure it could work. I wish I could afford my own drum set  \n",
       "1941                                                                                                                           @tsarnick This year  \n",
       "2143                                                                                                         @Zobi09 I'm concerned for that family  \n",
       "2298                                                                                           @tsarnick Yeah, that was my thumb last night. Sorry  \n",
       "21267                        @shortyyyy Thank you  I liked Joe's clothes' being ripped off and then Kevin screaming, &quot;Who are you!?!&quot; XD  \n",
       "21560  @Zanna85 Bill can take me to Fangtasia and hit this shot anytime! &quot;Roads, where we're going we don't need roads.&quot; LOVE that part!  \n",
       "22574                                                                                                     @Zobi09 The cast of True Blood was there  \n",
       "22773                                          @Zobi09 Haha yes I do  it's hard work, too! I didn't get home until 3:00 AM, not like I sleep haha.  \n",
       "23154                                                                                                                        @TheLonely California  \n",
       "23513                                                                                         @TheLonely Oh you do? I have the ability to teleport  \n",
       "23675                                                                                                                     @TheLonely Aww how sweet  \n",
       "23822                                                                                                                        @TheLonely How lovely  \n",
       "24296                                                                    @tsarnick Yeah, you better be sorry! I can't believe you, kiss my sass!!!  \n",
       "24937                                                                    @shortyyyy Aww how cute! You'd love my bathroom  http://twitpic.com/4jez4  \n",
       "24955                        @tsarnick I'm very passionate about my interests and go above and beyond  I mean, you've followed The Wiggles, right?  \n",
       "25124                                             @shortyyyy It was only $8.00 for the curtain and the two rugs  it makes bathing exciting hahaha!  \n",
       "25345                                   @tsarnick OH! Jonas Brother's 3D movie comes out next week in Kangaroo Land  I missed it when it was here.  \n",
       "26143                                                                                        @tsarnick Ohhhh I don't know ;) an older mature lady?  \n",
       "35820                                   @Rayyychell They're for my mama  I always bake late and get worried that the mixer is gonna bother people.  \n",
       "36065                                                                                                            @MeMinty Yeah it's afireinside687  \n",
       "39333                                                                                                              @gh_rocks Aww how sweet you are  \n",
       "39413                                                       @freshypanda I work with drunk golfers, it can be exciting! It wasn't bad  Yours, sir?  "
      ]
     },
     "execution_count": 10,
     "metadata": {},
     "output_type": "execute_result"
    }
   ],
   "source": [
    "# Print the tweets of the author with highest number of tweets\n",
    "df[df.author=='MissxMarisa']"
   ]
  },
  {
   "cell_type": "markdown",
   "metadata": {},
   "source": [
    "##### Content"
   ]
  },
  {
   "cell_type": "code",
   "execution_count": 46,
   "metadata": {},
   "outputs": [
    {
     "data": {
      "text/plain": [
       "I just received a mothers day card from my lovely daughter wishing my a happy mothers day  http://tr.im/kWK9                     14\n",
       "FREE UNLIMITED RINGTONES!!! - http://tinyurl.com/freeringring - USA ONLY - Awesome 4 iphone                                      13\n",
       "Happy Mothers Day                                                                                                                10\n",
       "Happy Mother's Day!                                                                                                              10\n",
       "happy mother's day                                                                                                                8\n",
       "                                                                                                                                 ..\n",
       "@andyclemmensen have you seen the game on the website?! awesomness!!! go on msn                                                   2\n",
       "@thecompletes seen u a couple of times. Liked it                                                                                  2\n",
       "@RealHughJackman Wolverine is awesome.. love it! your such a great actor..                                                        2\n",
       "@JonathanRKnight BTW I STILL can't believe how Awesome the NEWJABBAKIDZ performance was...U in the masks..I screamed at my pc     2\n",
       "Just cleaned mii scrolly ball!                                                                                                    2\n",
       "Name: content, Length: 89, dtype: int64"
      ]
     },
     "execution_count": 46,
     "metadata": {},
     "output_type": "execute_result"
    }
   ],
   "source": [
    "# Print the tweets of the authors who has multiple tweets in the dataset\n",
    "df.content.value_counts()[df.content.value_counts()>1]"
   ]
  },
  {
   "cell_type": "markdown",
   "metadata": {},
   "source": [
    "Some tweets are tweeted multiple times by different users. These may also be Retweets. There is no information about RTs in the dataset."
   ]
  },
  {
   "cell_type": "code",
   "execution_count": 50,
   "metadata": {},
   "outputs": [
    {
     "data": {
      "text/html": [
       "<div>\n",
       "<style scoped>\n",
       "    .dataframe tbody tr th:only-of-type {\n",
       "        vertical-align: middle;\n",
       "    }\n",
       "\n",
       "    .dataframe tbody tr th {\n",
       "        vertical-align: top;\n",
       "    }\n",
       "\n",
       "    .dataframe thead th {\n",
       "        text-align: right;\n",
       "    }\n",
       "</style>\n",
       "<table border=\"1\" class=\"dataframe\">\n",
       "  <thead>\n",
       "    <tr style=\"text-align: right;\">\n",
       "      <th></th>\n",
       "      <th>tweet_id</th>\n",
       "      <th>sentiment</th>\n",
       "      <th>author</th>\n",
       "      <th>content</th>\n",
       "    </tr>\n",
       "  </thead>\n",
       "  <tbody>\n",
       "    <tr>\n",
       "      <th>33496</th>\n",
       "      <td>1752619550</td>\n",
       "      <td>love</td>\n",
       "      <td>unifiedclock</td>\n",
       "      <td>I just received a mothers day card from my lov...</td>\n",
       "    </tr>\n",
       "    <tr>\n",
       "      <th>33693</th>\n",
       "      <td>1752674435</td>\n",
       "      <td>love</td>\n",
       "      <td>TheOrakill</td>\n",
       "      <td>I just received a mothers day card from my lov...</td>\n",
       "    </tr>\n",
       "    <tr>\n",
       "      <th>33874</th>\n",
       "      <td>1752725133</td>\n",
       "      <td>worry</td>\n",
       "      <td>charlesstinger</td>\n",
       "      <td>I just received a mothers day card from my lov...</td>\n",
       "    </tr>\n",
       "    <tr>\n",
       "      <th>34071</th>\n",
       "      <td>1752774341</td>\n",
       "      <td>love</td>\n",
       "      <td>jamesbankso</td>\n",
       "      <td>I just received a mothers day card from my lov...</td>\n",
       "    </tr>\n",
       "    <tr>\n",
       "      <th>34298</th>\n",
       "      <td>1752824798</td>\n",
       "      <td>love</td>\n",
       "      <td>sarahmarche</td>\n",
       "      <td>I just received a mothers day card from my lov...</td>\n",
       "    </tr>\n",
       "    <tr>\n",
       "      <th>34480</th>\n",
       "      <td>1752873814</td>\n",
       "      <td>love</td>\n",
       "      <td>xmanoxx</td>\n",
       "      <td>I just received a mothers day card from my lov...</td>\n",
       "    </tr>\n",
       "    <tr>\n",
       "      <th>34672</th>\n",
       "      <td>1752920582</td>\n",
       "      <td>love</td>\n",
       "      <td>oblongshmoblong</td>\n",
       "      <td>I just received a mothers day card from my lov...</td>\n",
       "    </tr>\n",
       "    <tr>\n",
       "      <th>34861</th>\n",
       "      <td>1752965288</td>\n",
       "      <td>love</td>\n",
       "      <td>lilpiggynose</td>\n",
       "      <td>I just received a mothers day card from my lov...</td>\n",
       "    </tr>\n",
       "    <tr>\n",
       "      <th>35051</th>\n",
       "      <td>1753009856</td>\n",
       "      <td>love</td>\n",
       "      <td>unitedstatesfre</td>\n",
       "      <td>I just received a mothers day card from my lov...</td>\n",
       "    </tr>\n",
       "    <tr>\n",
       "      <th>35232</th>\n",
       "      <td>1753052362</td>\n",
       "      <td>love</td>\n",
       "      <td>unifiedclock</td>\n",
       "      <td>I just received a mothers day card from my lov...</td>\n",
       "    </tr>\n",
       "    <tr>\n",
       "      <th>35420</th>\n",
       "      <td>1753096538</td>\n",
       "      <td>love</td>\n",
       "      <td>TheOrakill</td>\n",
       "      <td>I just received a mothers day card from my lov...</td>\n",
       "    </tr>\n",
       "    <tr>\n",
       "      <th>35609</th>\n",
       "      <td>1753138066</td>\n",
       "      <td>love</td>\n",
       "      <td>charlesstinger</td>\n",
       "      <td>I just received a mothers day card from my lov...</td>\n",
       "    </tr>\n",
       "    <tr>\n",
       "      <th>35792</th>\n",
       "      <td>1753177879</td>\n",
       "      <td>love</td>\n",
       "      <td>jamesbankso</td>\n",
       "      <td>I just received a mothers day card from my lov...</td>\n",
       "    </tr>\n",
       "    <tr>\n",
       "      <th>35994</th>\n",
       "      <td>1753218228</td>\n",
       "      <td>love</td>\n",
       "      <td>sarahmarche</td>\n",
       "      <td>I just received a mothers day card from my lov...</td>\n",
       "    </tr>\n",
       "  </tbody>\n",
       "</table>\n",
       "</div>"
      ],
      "text/plain": [
       "         tweet_id sentiment           author  \\\n",
       "33496  1752619550      love     unifiedclock   \n",
       "33693  1752674435      love       TheOrakill   \n",
       "33874  1752725133     worry   charlesstinger   \n",
       "34071  1752774341      love      jamesbankso   \n",
       "34298  1752824798      love      sarahmarche   \n",
       "34480  1752873814      love          xmanoxx   \n",
       "34672  1752920582      love  oblongshmoblong   \n",
       "34861  1752965288      love     lilpiggynose   \n",
       "35051  1753009856      love  unitedstatesfre   \n",
       "35232  1753052362      love     unifiedclock   \n",
       "35420  1753096538      love       TheOrakill   \n",
       "35609  1753138066      love   charlesstinger   \n",
       "35792  1753177879      love      jamesbankso   \n",
       "35994  1753218228      love      sarahmarche   \n",
       "\n",
       "                                                 content  \n",
       "33496  I just received a mothers day card from my lov...  \n",
       "33693  I just received a mothers day card from my lov...  \n",
       "33874  I just received a mothers day card from my lov...  \n",
       "34071  I just received a mothers day card from my lov...  \n",
       "34298  I just received a mothers day card from my lov...  \n",
       "34480  I just received a mothers day card from my lov...  \n",
       "34672  I just received a mothers day card from my lov...  \n",
       "34861  I just received a mothers day card from my lov...  \n",
       "35051  I just received a mothers day card from my lov...  \n",
       "35232  I just received a mothers day card from my lov...  \n",
       "35420  I just received a mothers day card from my lov...  \n",
       "35609  I just received a mothers day card from my lov...  \n",
       "35792  I just received a mothers day card from my lov...  \n",
       "35994  I just received a mothers day card from my lov...  "
      ]
     },
     "execution_count": 50,
     "metadata": {},
     "output_type": "execute_result"
    }
   ],
   "source": [
    "# Tweets with same content\n",
    "df[df.content=='I just received a mothers day card from my lovely daughter wishing my a happy mothers day  http://tr.im/kWK9']"
   ]
  },
  {
   "cell_type": "markdown",
   "metadata": {},
   "source": [
    "Interestingly, for the **same** tweet there are different sentiments in the target column. There may be other false labels in the dataset!"
   ]
  },
  {
   "cell_type": "code",
   "execution_count": 15,
   "metadata": {},
   "outputs": [
    {
     "data": {
      "text/plain": [
       "167"
      ]
     },
     "execution_count": 15,
     "metadata": {},
     "output_type": "execute_result"
    }
   ],
   "source": [
    "# Number of duplicated tweets (count only the first duplicate, not the total number!)\n",
    "df.content.duplicated().sum()"
   ]
  },
  {
   "cell_type": "code",
   "execution_count": 16,
   "metadata": {},
   "outputs": [
    {
     "data": {
      "text/plain": [
       "254"
      ]
     },
     "execution_count": 16,
     "metadata": {},
     "output_type": "execute_result"
    }
   ],
   "source": [
    "# Total number of duplicated tweets\n",
    "df.content.duplicated(keep=False).sum()"
   ]
  },
  {
   "cell_type": "code",
   "execution_count": 43,
   "metadata": {},
   "outputs": [
    {
     "data": {
      "text/html": [
       "<div>\n",
       "<style scoped>\n",
       "    .dataframe tbody tr th:only-of-type {\n",
       "        vertical-align: middle;\n",
       "    }\n",
       "\n",
       "    .dataframe tbody tr th {\n",
       "        vertical-align: top;\n",
       "    }\n",
       "\n",
       "    .dataframe thead th {\n",
       "        text-align: right;\n",
       "    }\n",
       "</style>\n",
       "<table border=\"1\" class=\"dataframe\">\n",
       "  <thead>\n",
       "    <tr style=\"text-align: right;\">\n",
       "      <th></th>\n",
       "      <th>sentiment</th>\n",
       "    </tr>\n",
       "    <tr>\n",
       "      <th>content</th>\n",
       "      <th></th>\n",
       "    </tr>\n",
       "  </thead>\n",
       "  <tbody>\n",
       "    <tr>\n",
       "      <th>#frenchieb-day #frenchieb-day #frenchieb-day #frenchieb-day #frenchieb-day #frenchieb-day #frenchieb-day #frenchieb-day #frenchieb-day</th>\n",
       "      <td>[neutral]</td>\n",
       "    </tr>\n",
       "    <tr>\n",
       "      <th>0</th>\n",
       "      <td>[neutral]</td>\n",
       "    </tr>\n",
       "    <tr>\n",
       "      <th>@DawnRichard Dawwwwwwwwwwwwn, I hit u back and told u y..........so please Read it, and pray before u decide</th>\n",
       "      <td>[neutral]</td>\n",
       "    </tr>\n",
       "    <tr>\n",
       "      <th>@DougieMcfly Haha dude, we have the same b-date :p I'll wish u ur b-day the 3oth November. I'll also turn 16  Can u reply to me please ?</th>\n",
       "      <td>[worry, happiness]</td>\n",
       "    </tr>\n",
       "    <tr>\n",
       "      <th>@JonathanRKnight BTW I STILL can't believe how Awesome the NEWJABBAKIDZ performance was...U in the masks..I screamed at my pc</th>\n",
       "      <td>[happiness]</td>\n",
       "    </tr>\n",
       "  </tbody>\n",
       "</table>\n",
       "</div>"
      ],
      "text/plain": [
       "                                                                                                                                                   sentiment\n",
       "content                                                                                                                                                     \n",
       "#frenchieb-day #frenchieb-day #frenchieb-day #frenchieb-day #frenchieb-day #frenchieb-day #frenchieb-day #frenchieb-day #frenchieb-day             [neutral]\n",
       "0                                                                                                                                                  [neutral]\n",
       "@DawnRichard Dawwwwwwwwwwwwn, I hit u back and told u y..........so please Read it, and pray before u decide                                       [neutral]\n",
       "@DougieMcfly Haha dude, we have the same b-date :p I'll wish u ur b-day the 3oth November. I'll also turn 16  Can u reply to me please ?  [worry, happiness]\n",
       "@JonathanRKnight BTW I STILL can't believe how Awesome the NEWJABBAKIDZ performance was...U in the masks..I screamed at my pc                    [happiness]"
      ]
     },
     "execution_count": 43,
     "metadata": {},
     "output_type": "execute_result"
    }
   ],
   "source": [
    "# Show sentiments of duplicated tweets\n",
    "pd.DataFrame(df[df.content.duplicated()].groupby('content').sentiment.unique()).head()"
   ]
  },
  {
   "cell_type": "code",
   "execution_count": 54,
   "metadata": {},
   "outputs": [],
   "source": [
    "# df[df.content.duplicated(keep=False)].sentiment = df[df.content.duplicated(keep=False)].groupby('content').sentiment.transform(lambda x: x.mode()[0])"
   ]
  },
  {
   "cell_type": "markdown",
   "metadata": {},
   "source": [
    "#### Polarity"
   ]
  },
  {
   "cell_type": "code",
   "execution_count": 26,
   "metadata": {},
   "outputs": [
    {
     "data": {
      "text/plain": [
       "positive    15299\n",
       "negative    15236\n",
       "neutral      8638\n",
       "Name: polarity, dtype: int64"
      ]
     },
     "execution_count": 26,
     "metadata": {},
     "output_type": "execute_result"
    }
   ],
   "source": [
    "df.polarity.value_counts()"
   ]
  },
  {
   "cell_type": "code",
   "execution_count": 28,
   "metadata": {},
   "outputs": [
    {
     "data": {
      "text/plain": [
       "<matplotlib.axes._subplots.AxesSubplot at 0x1a200adda0>"
      ]
     },
     "execution_count": 28,
     "metadata": {},
     "output_type": "execute_result"
    },
    {
     "data": {
      "image/png": "[encoded data removed]",
      "text/plain": [
       "<Figure size 432x288 with 1 Axes>"
      ]
     },
     "metadata": {},
     "output_type": "display_data"
    }
   ],
   "source": [
    "df.polarity.value_counts().plot.bar()"
   ]
  },
  {
   "cell_type": "markdown",
   "metadata": {},
   "source": [
    "The frequencies of _sentiments_ appear to be more balanced when compared to that of the _emotions_."
   ]
  },
  {
   "cell_type": "code",
   "execution_count": 16,
   "metadata": {},
   "outputs": [],
   "source": [
    "# Create a sentiment dictionary to map EMOTIONS to POLARITY.\n",
    "sentiment_dict = {'boredom': 'negative',\n",
    "                  'hate': 'negative',\n",
    "                  'sadness': 'negative',\n",
    "                  'anger': 'negative',\n",
    "                  'worry': 'negative',\n",
    "                  'relief': 'positive',\n",
    "                  #'empty': 'neutral',\n",
    "                  'happiness': 'positive',\n",
    "                  'love': 'positive',\n",
    "                  'enthusiasm': 'positive',\n",
    "                  'neutral': 'neutral',\n",
    "                  'surprise':'positive',\n",
    "                  'fun': 'positive'\n",
    "                 }\n",
    "df['polarity'] = df.sentiment.map(sentiment_dict)\n",
    "\n",
    "#### UPDATE FEATURE ENGINEERING"
   ]
  },
  {
   "cell_type": "code",
   "execution_count": 17,
   "metadata": {},
   "outputs": [
    {
     "data": {
      "text/plain": [
       "polarity\n",
       "negative    0.415070\n",
       "positive    0.502124\n",
       "neutral     0.526578\n",
       "Name: content, dtype: float64"
      ]
     },
     "execution_count": 17,
     "metadata": {},
     "output_type": "execute_result"
    }
   ],
   "source": [
    "# Mentions by sentiment_new\n",
    "df.groupby('polarity').content.apply(lambda x: x.str.contains(\"@\\w+\").mean()).sort_values()"
   ]
  },
  {
   "cell_type": "markdown",
   "metadata": {},
   "source": [
    "#### Mentions"
   ]
  },
  {
   "cell_type": "code",
   "execution_count": 13,
   "metadata": {},
   "outputs": [
    {
     "data": {
      "text/plain": [
       "0.473925"
      ]
     },
     "execution_count": 13,
     "metadata": {},
     "output_type": "execute_result"
    }
   ],
   "source": [
    "# Average # of tweets that contain \"mentions\"\n",
    "df.content.str.contains(\"@\\w+\").mean()"
   ]
  },
  {
   "cell_type": "markdown",
   "metadata": {},
   "source": [
    "Almost half of the tweets contain mentions. This does not seem normal. Let's see the distribution of emotions through mentioned tweets."
   ]
  },
  {
   "cell_type": "code",
   "execution_count": 25,
   "metadata": {},
   "outputs": [
    {
     "data": {
      "text/plain": [
       "sentiment\n",
       "boredom       0.273743\n",
       "hate          0.375661\n",
       "sadness       0.400000\n",
       "anger         0.427273\n",
       "worry         0.433266\n",
       "relief        0.441678\n",
       "empty         0.488513\n",
       "happiness     0.491265\n",
       "love          0.504425\n",
       "enthusiasm    0.508564\n",
       "neutral       0.526395\n",
       "surprise      0.527663\n",
       "fun           0.546734\n",
       "Name: content, dtype: float64"
      ]
     },
     "execution_count": 25,
     "metadata": {},
     "output_type": "execute_result"
    }
   ],
   "source": [
    "# Distribution of @mentions among emotions\n",
    "df.groupby('sentiment').content.apply(lambda x: x.str.contains(\"@\\w+\").mean()).sort_values()"
   ]
  },
  {
   "cell_type": "markdown",
   "metadata": {},
   "source": [
    "It seems that people tend to mention more when they have a positive sentiment such as fun, whearas they tend to mention less when they express boredom or hate. Let's investigate this result further."
   ]
  },
  {
   "cell_type": "code",
   "execution_count": 18,
   "metadata": {},
   "outputs": [],
   "source": [
    "def count_mentions(text):\n",
    "    '''Returns number of mentions in a string.'''\n",
    "    \n",
    "    # Split the string into words\n",
    "    words = text.split()\n",
    "    \n",
    "    # Create a list of words that are mentions\n",
    "    mentions = [word for word in words if word.startswith(\"@\")]\n",
    "    \n",
    "    # Return number of mentions\n",
    "    return(len(mentions))"
   ]
  },
  {
   "cell_type": "code",
   "execution_count": 19,
   "metadata": {},
   "outputs": [
    {
     "data": {
      "image/png": "[encoded data removed]",
      "text/plain": [
       "<Figure size 432x288 with 1 Axes>"
      ]
     },
     "metadata": {},
     "output_type": "display_data"
    }
   ],
   "source": [
    "# Create a feature mention_count\n",
    "df['mention_count'] = df['content'].apply(count_mentions)\n",
    "\n",
    "# Plot the distribution\n",
    "df['mention_count'].hist()\n",
    "plt.title('Distribution of #Mentions')\n",
    "plt.show()"
   ]
  },
  {
   "cell_type": "code",
   "execution_count": 61,
   "metadata": {},
   "outputs": [
    {
     "data": {
      "text/plain": [
       "sentiment\n",
       "boredom       0.290503\n",
       "hate          0.397581\n",
       "sadness       0.429235\n",
       "anger         0.454545\n",
       "worry         0.460456\n",
       "relief        0.467890\n",
       "happiness     0.522365\n",
       "love          0.536960\n",
       "enthusiasm    0.540184\n",
       "surprise      0.561043\n",
       "neutral       0.565026\n",
       "fun           0.593468\n",
       "Name: mention_count, dtype: float64"
      ]
     },
     "execution_count": 61,
     "metadata": {},
     "output_type": "execute_result"
    }
   ],
   "source": [
    "df.groupby('sentiment').mention_count.mean().sort_values()"
   ]
  },
  {
   "cell_type": "markdown",
   "metadata": {},
   "source": [
    "#### Hashtags"
   ]
  },
  {
   "cell_type": "code",
   "execution_count": 20,
   "metadata": {},
   "outputs": [
    {
     "data": {
      "text/plain": [
       "0.019751975197519752"
      ]
     },
     "execution_count": 20,
     "metadata": {},
     "output_type": "execute_result"
    }
   ],
   "source": [
    "# Tweets that contain \"hashtags\"\n",
    "df.content.str.contains(\"#\\w+\").mean()"
   ]
  },
  {
   "cell_type": "markdown",
   "metadata": {},
   "source": [
    "Only a small portion of tweets contain `#` (hashtag) s"
   ]
  },
  {
   "cell_type": "code",
   "execution_count": 21,
   "metadata": {},
   "outputs": [],
   "source": [
    "def count_hashtags(text):\n",
    "    '''Returns number of hashtags in a text.'''\n",
    "    \n",
    "    # Split the string into words\n",
    "    words = text.split()\n",
    "    \n",
    "    # Create a list of words that are hashtags\n",
    "    hashtags = [word for word in words if word.startswith(\"#\")]\n",
    "    \n",
    "    # Return number of hashtags\n",
    "    return(len(hashtags))"
   ]
  },
  {
   "cell_type": "code",
   "execution_count": 22,
   "metadata": {},
   "outputs": [
    {
     "data": {
      "image/png": "[encoded data removed]",
      "text/plain": [
       "<Figure size 432x288 with 1 Axes>"
      ]
     },
     "metadata": {},
     "output_type": "display_data"
    }
   ],
   "source": [
    "# Create a feature hashtag_count\n",
    "df['hashtag_count'] = df['content'].apply(count_hashtags)\n",
    "\n",
    "# Plot the distribution\n",
    "df['hashtag_count'].hist()\n",
    "plt.title('Distribution of #Hashtag')\n",
    "plt.show()"
   ]
  },
  {
   "cell_type": "markdown",
   "metadata": {},
   "source": [
    "#### Number of Characters"
   ]
  },
  {
   "cell_type": "code",
   "execution_count": 23,
   "metadata": {},
   "outputs": [
    {
     "data": {
      "text/plain": [
       "count    39996.000000\n",
       "mean        73.412791\n",
       "std         36.552671\n",
       "min          6.000000\n",
       "25%         43.000000\n",
       "50%         69.000000\n",
       "75%        103.000000\n",
       "max        167.000000\n",
       "Name: content, dtype: float64"
      ]
     },
     "execution_count": 23,
     "metadata": {},
     "output_type": "execute_result"
    }
   ],
   "source": [
    "# Describe the length of the tweets in the contents column.\n",
    "df.content.str.len().describe()"
   ]
  },
  {
   "cell_type": "code",
   "execution_count": 24,
   "metadata": {},
   "outputs": [
    {
     "data": {
      "text/plain": [
       "<matplotlib.axes._subplots.AxesSubplot at 0x1a18ed8f28>"
      ]
     },
     "execution_count": 24,
     "metadata": {},
     "output_type": "execute_result"
    },
    {
     "data": {
      "image/png": "[encoded data removed]",
      "text/plain": [
       "<Figure size 432x288 with 1 Axes>"
      ]
     },
     "metadata": {},
     "output_type": "display_data"
    }
   ],
   "source": [
    "# Plot a histogram of the number of characters in tweets\n",
    "df.content.str.len().hist()"
   ]
  },
  {
   "cell_type": "markdown",
   "metadata": {},
   "source": [
    "Twitter has recently change the _character limit_ from 140 to 280. The dataset is possibly created before the change. However, some tweets contain more than 140 characters. I initially suspected that these are the ones with links. Yet the reason seems to be [Special Entities](http://www.htmlhelp.com/reference/html40/entities/special.html) such as `&quot;` or \"`&amp;` which are rendered as -&quot;- and -&amp;- respectively. \n",
    "\n",
    "It is worth noting that most of the tweets contans less than 80 characters. It may be extremely hard to detect sentiments from such a text."
   ]
  },
  {
   "cell_type": "code",
   "execution_count": 58,
   "metadata": {},
   "outputs": [],
   "source": [
    "# Create a feature char_count\n",
    "df['char_count'] = df['content'].apply(len)"
   ]
  },
  {
   "cell_type": "code",
   "execution_count": 59,
   "metadata": {},
   "outputs": [
    {
     "data": {
      "text/html": [
       "<div>\n",
       "<style scoped>\n",
       "    .dataframe tbody tr th:only-of-type {\n",
       "        vertical-align: middle;\n",
       "    }\n",
       "\n",
       "    .dataframe tbody tr th {\n",
       "        vertical-align: top;\n",
       "    }\n",
       "\n",
       "    .dataframe thead th {\n",
       "        text-align: right;\n",
       "    }\n",
       "</style>\n",
       "<table border=\"1\" class=\"dataframe\">\n",
       "  <thead>\n",
       "    <tr style=\"text-align: right;\">\n",
       "      <th></th>\n",
       "      <th>sentiment</th>\n",
       "      <th>author</th>\n",
       "      <th>content</th>\n",
       "      <th>polarity</th>\n",
       "      <th>mention_count</th>\n",
       "      <th>hashtag_count</th>\n",
       "      <th>char_count</th>\n",
       "    </tr>\n",
       "  </thead>\n",
       "  <tbody>\n",
       "    <tr>\n",
       "      <th>25134</th>\n",
       "      <td>relief</td>\n",
       "      <td>Chrissy200</td>\n",
       "      <td>@RobPattinson_ I hope filming is going well  I'm new to the whole &amp;quot;Twilight phenomenon&amp;quot;, they couldn't have picked a better &amp;quot;vampire&amp;quot;!</td>\n",
       "      <td>positive</td>\n",
       "      <td>1</td>\n",
       "      <td>0</td>\n",
       "      <td>154</td>\n",
       "    </tr>\n",
       "    <tr>\n",
       "      <th>3969</th>\n",
       "      <td>happiness</td>\n",
       "      <td>AndreaDG</td>\n",
       "      <td>@i_dulay i swear it took me 2 hours to get from bel air to alabang.  but yes, i LOVED reminiscing about our HK trip with you &amp;amp; @cdeocampo</td>\n",
       "      <td>positive</td>\n",
       "      <td>2</td>\n",
       "      <td>0</td>\n",
       "      <td>141</td>\n",
       "    </tr>\n",
       "    <tr>\n",
       "      <th>2257</th>\n",
       "      <td>fun</td>\n",
       "      <td>mick_the_real1</td>\n",
       "      <td>there are # days of summervac &amp;amp; school comes along just 2 end it &amp;amp; the annual problem of r generation is finding a good way 2 spend it!!</td>\n",
       "      <td>positive</td>\n",
       "      <td>0</td>\n",
       "      <td>1</td>\n",
       "      <td>144</td>\n",
       "    </tr>\n",
       "    <tr>\n",
       "      <th>6921</th>\n",
       "      <td>sadness</td>\n",
       "      <td>GlamGlitterati</td>\n",
       "      <td>when i cheered,i yelled SHAKE THESE at the end of a chant and did the suck it &amp;quot;X&amp;quot; and got suspended &amp;amp; had to give a public apology,lol</td>\n",
       "      <td>negative</td>\n",
       "      <td>0</td>\n",
       "      <td>0</td>\n",
       "      <td>148</td>\n",
       "    </tr>\n",
       "    <tr>\n",
       "      <th>39942</th>\n",
       "      <td>surprise</td>\n",
       "      <td>marisa_mm</td>\n",
       "      <td>@Rove1974 anychance you can get matthew to give a shout out to my mum Sarah for mothers day! we saw &amp;quot;Ghosts from girlfriends past today&amp;quot;</td>\n",
       "      <td>positive</td>\n",
       "      <td>1</td>\n",
       "      <td>0</td>\n",
       "      <td>146</td>\n",
       "    </tr>\n",
       "    <tr>\n",
       "      <th>27527</th>\n",
       "      <td>fun</td>\n",
       "      <td>TrudyFOD</td>\n",
       "      <td>@peacesignpamFOD that David -- nice to know he feels so comfortable &amp;quot;twitting&amp;quot; or &amp;quot;tweeting&amp;quot; us.   I have a feeling he misses home.</td>\n",
       "      <td>positive</td>\n",
       "      <td>1</td>\n",
       "      <td>0</td>\n",
       "      <td>151</td>\n",
       "    </tr>\n",
       "    <tr>\n",
       "      <th>35591</th>\n",
       "      <td>happiness</td>\n",
       "      <td>ShelleyDelayne</td>\n",
       "      <td>@flygirls &amp;quot;Mom set the bar so high I need to learn to fly to reach it!&amp;quot; -- now THAT's an awesome sentiment to read on Mother's Day.</td>\n",
       "      <td>positive</td>\n",
       "      <td>1</td>\n",
       "      <td>0</td>\n",
       "      <td>141</td>\n",
       "    </tr>\n",
       "    <tr>\n",
       "      <th>27149</th>\n",
       "      <td>love</td>\n",
       "      <td>jeffparks</td>\n",
       "      <td>Bumper Sticker: &amp;quot;If you don't want to stand up for our troops, feel free to stand in front of them&amp;quot; Thank you to all in the military</td>\n",
       "      <td>positive</td>\n",
       "      <td>0</td>\n",
       "      <td>0</td>\n",
       "      <td>142</td>\n",
       "    </tr>\n",
       "    <tr>\n",
       "      <th>32822</th>\n",
       "      <td>happiness</td>\n",
       "      <td>Gypsy_Ria</td>\n",
       "      <td>Birthday was awesome!On video:my daughter opening last gift screaming in joy, &amp;quot;My  Birthday Wish Came True !!&amp;quot;couldn't have been better.</td>\n",
       "      <td>positive</td>\n",
       "      <td>0</td>\n",
       "      <td>0</td>\n",
       "      <td>146</td>\n",
       "    </tr>\n",
       "    <tr>\n",
       "      <th>14875</th>\n",
       "      <td>sadness</td>\n",
       "      <td>Amy_Reindeer</td>\n",
       "      <td>@kimitwi btw i have your report too &amp;gt;:] omg at lunch today we had to move from the HC to the trees cause of the heat &amp;quot;/ all my days suck</td>\n",
       "      <td>negative</td>\n",
       "      <td>1</td>\n",
       "      <td>0</td>\n",
       "      <td>144</td>\n",
       "    </tr>\n",
       "  </tbody>\n",
       "</table>\n",
       "</div>"
      ],
      "text/plain": [
       "       sentiment          author  \\\n",
       "25134     relief      Chrissy200   \n",
       "3969   happiness        AndreaDG   \n",
       "2257         fun  mick_the_real1   \n",
       "6921     sadness  GlamGlitterati   \n",
       "39942   surprise       marisa_mm   \n",
       "27527        fun        TrudyFOD   \n",
       "35591  happiness  ShelleyDelayne   \n",
       "27149       love       jeffparks   \n",
       "32822  happiness       Gypsy_Ria   \n",
       "14875    sadness    Amy_Reindeer   \n",
       "\n",
       "                                                                                                                                                          content  \\\n",
       "25134  @RobPattinson_ I hope filming is going well  I'm new to the whole &quot;Twilight phenomenon&quot;, they couldn't have picked a better &quot;vampire&quot;!   \n",
       "3969                @i_dulay i swear it took me 2 hours to get from bel air to alabang.  but yes, i LOVED reminiscing about our HK trip with you &amp; @cdeocampo   \n",
       "2257             there are # days of summervac &amp; school comes along just 2 end it &amp; the annual problem of r generation is finding a good way 2 spend it!!   \n",
       "6921         when i cheered,i yelled SHAKE THESE at the end of a chant and did the suck it &quot;X&quot; and got suspended &amp; had to give a public apology,lol   \n",
       "39942          @Rove1974 anychance you can get matthew to give a shout out to my mum Sarah for mothers day! we saw &quot;Ghosts from girlfriends past today&quot;   \n",
       "27527     @peacesignpamFOD that David -- nice to know he feels so comfortable &quot;twitting&quot; or &quot;tweeting&quot; us.   I have a feeling he misses home.   \n",
       "35591               @flygirls &quot;Mom set the bar so high I need to learn to fly to reach it!&quot; -- now THAT's an awesome sentiment to read on Mother's Day.   \n",
       "27149              Bumper Sticker: &quot;If you don't want to stand up for our troops, feel free to stand in front of them&quot; Thank you to all in the military   \n",
       "32822          Birthday was awesome!On video:my daughter opening last gift screaming in joy, &quot;My  Birthday Wish Came True !!&quot;couldn't have been better.   \n",
       "14875            @kimitwi btw i have your report too &gt;:] omg at lunch today we had to move from the HC to the trees cause of the heat &quot;/ all my days suck   \n",
       "\n",
       "       polarity  mention_count  hashtag_count  char_count  \n",
       "25134  positive              1              0         154  \n",
       "3969   positive              2              0         141  \n",
       "2257   positive              0              1         144  \n",
       "6921   negative              0              0         148  \n",
       "39942  positive              1              0         146  \n",
       "27527  positive              1              0         151  \n",
       "35591  positive              1              0         141  \n",
       "27149  positive              0              0         142  \n",
       "32822  positive              0              0         146  \n",
       "14875  negative              1              0         144  "
      ]
     },
     "execution_count": 59,
     "metadata": {},
     "output_type": "execute_result"
    }
   ],
   "source": [
    "df[df.char_count>140].sample(10)"
   ]
  },
  {
   "cell_type": "code",
   "execution_count": 60,
   "metadata": {},
   "outputs": [
    {
     "data": {
      "text/html": [
       "<div>\n",
       "<style scoped>\n",
       "    .dataframe tbody tr th:only-of-type {\n",
       "        vertical-align: middle;\n",
       "    }\n",
       "\n",
       "    .dataframe tbody tr th {\n",
       "        vertical-align: top;\n",
       "    }\n",
       "\n",
       "    .dataframe thead th {\n",
       "        text-align: right;\n",
       "    }\n",
       "</style>\n",
       "<table border=\"1\" class=\"dataframe\">\n",
       "  <thead>\n",
       "    <tr style=\"text-align: right;\">\n",
       "      <th></th>\n",
       "      <th>sentiment</th>\n",
       "      <th>author</th>\n",
       "      <th>content</th>\n",
       "      <th>polarity</th>\n",
       "      <th>mention_count</th>\n",
       "      <th>hashtag_count</th>\n",
       "      <th>char_count</th>\n",
       "    </tr>\n",
       "  </thead>\n",
       "  <tbody>\n",
       "  </tbody>\n",
       "</table>\n",
       "</div>"
      ],
      "text/plain": [
       "Empty DataFrame\n",
       "Columns: [sentiment, author, content, polarity, mention_count, hashtag_count, char_count]\n",
       "Index: []"
      ]
     },
     "execution_count": 60,
     "metadata": {},
     "output_type": "execute_result"
    }
   ],
   "source": [
    "# Print tweets with less than 5 characters\n",
    "df[df.char_count<5]"
   ]
  },
  {
   "cell_type": "markdown",
   "metadata": {},
   "source": [
    "There are tweets which contains only a single character. These should be removed. "
   ]
  },
  {
   "cell_type": "code",
   "execution_count": 26,
   "metadata": {},
   "outputs": [],
   "source": [
    "# Drop rows with only one character\n",
    "df.drop(df[df.content.str.len()<5].index, inplace=True)\n",
    "\n",
    "#### UPDATE FEATURE ENGINEERING"
   ]
  },
  {
   "cell_type": "code",
   "execution_count": 27,
   "metadata": {},
   "outputs": [
    {
     "data": {
      "text/plain": [
       "(39996, 6)"
      ]
     },
     "execution_count": 27,
     "metadata": {},
     "output_type": "execute_result"
    }
   ],
   "source": [
    "df.shape"
   ]
  },
  {
   "cell_type": "code",
   "execution_count": 28,
   "metadata": {},
   "outputs": [
    {
     "data": {
      "text/html": [
       "<div>\n",
       "<style scoped>\n",
       "    .dataframe tbody tr th:only-of-type {\n",
       "        vertical-align: middle;\n",
       "    }\n",
       "\n",
       "    .dataframe tbody tr th {\n",
       "        vertical-align: top;\n",
       "    }\n",
       "\n",
       "    .dataframe thead th {\n",
       "        text-align: right;\n",
       "    }\n",
       "</style>\n",
       "<table border=\"1\" class=\"dataframe\">\n",
       "  <thead>\n",
       "    <tr style=\"text-align: right;\">\n",
       "      <th></th>\n",
       "      <th>sentiment</th>\n",
       "      <th>author</th>\n",
       "      <th>content</th>\n",
       "      <th>polarity</th>\n",
       "      <th>mention_count</th>\n",
       "      <th>hashtag_count</th>\n",
       "    </tr>\n",
       "  </thead>\n",
       "  <tbody>\n",
       "    <tr>\n",
       "      <th>15232</th>\n",
       "      <td>sadness</td>\n",
       "      <td>quesogrande777</td>\n",
       "      <td>@bfly13</td>\n",
       "      <td>negative</td>\n",
       "      <td>1</td>\n",
       "      <td>0</td>\n",
       "    </tr>\n",
       "    <tr>\n",
       "      <th>35721</th>\n",
       "      <td>relief</td>\n",
       "      <td>imdinnar</td>\n",
       "      <td>success!</td>\n",
       "      <td>positive</td>\n",
       "      <td>0</td>\n",
       "      <td>0</td>\n",
       "    </tr>\n",
       "    <tr>\n",
       "      <th>18446</th>\n",
       "      <td>sadness</td>\n",
       "      <td>pooh2hawt</td>\n",
       "      <td>head hurt</td>\n",
       "      <td>negative</td>\n",
       "      <td>0</td>\n",
       "      <td>0</td>\n",
       "    </tr>\n",
       "    <tr>\n",
       "      <th>34404</th>\n",
       "      <td>neutral</td>\n",
       "      <td>Milliah16</td>\n",
       "      <td>Eating.</td>\n",
       "      <td>neutral</td>\n",
       "      <td>0</td>\n",
       "      <td>0</td>\n",
       "    </tr>\n",
       "    <tr>\n",
       "      <th>12968</th>\n",
       "      <td>neutral</td>\n",
       "      <td>McalpineBud</td>\n",
       "      <td>back home</td>\n",
       "      <td>neutral</td>\n",
       "      <td>0</td>\n",
       "      <td>0</td>\n",
       "    </tr>\n",
       "  </tbody>\n",
       "</table>\n",
       "</div>"
      ],
      "text/plain": [
       "      sentiment          author    content  polarity  mention_count  \\\n",
       "15232   sadness  quesogrande777    @bfly13  negative              1   \n",
       "35721    relief        imdinnar   success!  positive              0   \n",
       "18446   sadness       pooh2hawt  head hurt  negative              0   \n",
       "34404   neutral       Milliah16    Eating.   neutral              0   \n",
       "12968   neutral     McalpineBud  back home   neutral              0   \n",
       "\n",
       "       hashtag_count  \n",
       "15232              0  \n",
       "35721              0  \n",
       "18446              0  \n",
       "34404              0  \n",
       "12968              0  "
      ]
     },
     "execution_count": 28,
     "metadata": {},
     "output_type": "execute_result"
    }
   ],
   "source": [
    "# Print tweets with less than 10 characters\n",
    "df[df.content.str.len()<10].sample(5)"
   ]
  },
  {
   "cell_type": "markdown",
   "metadata": {},
   "source": [
    "Some tweets consist of only mentions. We may need to drop them as well, or we can just  change their sentiment to `neutral` (sentiment of some such tweets are not neutral!)."
   ]
  },
  {
   "cell_type": "code",
   "execution_count": 30,
   "metadata": {},
   "outputs": [
    {
     "data": {
      "text/html": [
       "<div>\n",
       "<style scoped>\n",
       "    .dataframe tbody tr th:only-of-type {\n",
       "        vertical-align: middle;\n",
       "    }\n",
       "\n",
       "    .dataframe tbody tr th {\n",
       "        vertical-align: top;\n",
       "    }\n",
       "\n",
       "    .dataframe thead th {\n",
       "        text-align: right;\n",
       "    }\n",
       "</style>\n",
       "<table border=\"1\" class=\"dataframe\">\n",
       "  <thead>\n",
       "    <tr style=\"text-align: right;\">\n",
       "      <th></th>\n",
       "      <th>sentiment</th>\n",
       "      <th>author</th>\n",
       "      <th>content</th>\n",
       "      <th>polarity</th>\n",
       "      <th>mention_count</th>\n",
       "      <th>hashtag_count</th>\n",
       "    </tr>\n",
       "  </thead>\n",
       "  <tbody>\n",
       "    <tr>\n",
       "      <th>659</th>\n",
       "      <td>neutral</td>\n",
       "      <td>mallycakes</td>\n",
       "      <td>@Joshuah_Pearson</td>\n",
       "      <td>neutral</td>\n",
       "      <td>1</td>\n",
       "      <td>0</td>\n",
       "    </tr>\n",
       "    <tr>\n",
       "      <th>664</th>\n",
       "      <td>neutral</td>\n",
       "      <td>joelmagic</td>\n",
       "      <td>@emlevins</td>\n",
       "      <td>neutral</td>\n",
       "      <td>1</td>\n",
       "      <td>0</td>\n",
       "    </tr>\n",
       "    <tr>\n",
       "      <th>3181</th>\n",
       "      <td>neutral</td>\n",
       "      <td>Samantha_Mayy</td>\n",
       "      <td>@Clumsyflic</td>\n",
       "      <td>neutral</td>\n",
       "      <td>1</td>\n",
       "      <td>0</td>\n",
       "    </tr>\n",
       "    <tr>\n",
       "      <th>4865</th>\n",
       "      <td>neutral</td>\n",
       "      <td>edduleroy</td>\n",
       "      <td>@philleasfogg</td>\n",
       "      <td>neutral</td>\n",
       "      <td>1</td>\n",
       "      <td>0</td>\n",
       "    </tr>\n",
       "    <tr>\n",
       "      <th>4933</th>\n",
       "      <td>neutral</td>\n",
       "      <td>rickoshea</td>\n",
       "      <td>@WillKnott</td>\n",
       "      <td>neutral</td>\n",
       "      <td>1</td>\n",
       "      <td>0</td>\n",
       "    </tr>\n",
       "  </tbody>\n",
       "</table>\n",
       "</div>"
      ],
      "text/plain": [
       "     sentiment         author           content polarity  mention_count  \\\n",
       "659    neutral     mallycakes  @Joshuah_Pearson  neutral              1   \n",
       "664    neutral      joelmagic         @emlevins  neutral              1   \n",
       "3181   neutral  Samantha_Mayy       @Clumsyflic  neutral              1   \n",
       "4865   neutral      edduleroy     @philleasfogg  neutral              1   \n",
       "4933   neutral      rickoshea        @WillKnott  neutral              1   \n",
       "\n",
       "      hashtag_count  \n",
       "659               0  \n",
       "664               0  \n",
       "3181              0  \n",
       "4865              0  \n",
       "4933              0  "
      ]
     },
     "execution_count": 30,
     "metadata": {},
     "output_type": "execute_result"
    }
   ],
   "source": [
    "# Detect the tweets that contains only mentions\n",
    "df[df.content.str.replace(\"@\\w+\", \"\").str.len()<2].head()"
   ]
  },
  {
   "cell_type": "code",
   "execution_count": 47,
   "metadata": {},
   "outputs": [
    {
     "data": {
      "text/html": [
       "<div>\n",
       "<style scoped>\n",
       "    .dataframe tbody tr th:only-of-type {\n",
       "        vertical-align: middle;\n",
       "    }\n",
       "\n",
       "    .dataframe tbody tr th {\n",
       "        vertical-align: top;\n",
       "    }\n",
       "\n",
       "    .dataframe thead th {\n",
       "        text-align: right;\n",
       "    }\n",
       "</style>\n",
       "<table border=\"1\" class=\"dataframe\">\n",
       "  <thead>\n",
       "    <tr style=\"text-align: right;\">\n",
       "      <th></th>\n",
       "      <th>sentiment</th>\n",
       "      <th>author</th>\n",
       "      <th>content</th>\n",
       "      <th>polarity</th>\n",
       "      <th>mention_count</th>\n",
       "      <th>hashtag_count</th>\n",
       "    </tr>\n",
       "  </thead>\n",
       "  <tbody>\n",
       "    <tr>\n",
       "      <th>25527</th>\n",
       "      <td>neutral</td>\n",
       "      <td>fmeichel</td>\n",
       "      <td>@t_de_baillon</td>\n",
       "      <td>neutral</td>\n",
       "      <td>1</td>\n",
       "      <td>0</td>\n",
       "    </tr>\n",
       "    <tr>\n",
       "      <th>16808</th>\n",
       "      <td>neutral</td>\n",
       "      <td>mcrfash1</td>\n",
       "      <td>@chinaablue</td>\n",
       "      <td>neutral</td>\n",
       "      <td>1</td>\n",
       "      <td>0</td>\n",
       "    </tr>\n",
       "    <tr>\n",
       "      <th>6451</th>\n",
       "      <td>neutral</td>\n",
       "      <td>mcraddictal</td>\n",
       "      <td>@MCRmuffin</td>\n",
       "      <td>neutral</td>\n",
       "      <td>1</td>\n",
       "      <td>0</td>\n",
       "    </tr>\n",
       "    <tr>\n",
       "      <th>11289</th>\n",
       "      <td>sadness</td>\n",
       "      <td>ASinisterDuck</td>\n",
       "      <td>@lowestformofwit</td>\n",
       "      <td>negative</td>\n",
       "      <td>1</td>\n",
       "      <td>0</td>\n",
       "    </tr>\n",
       "    <tr>\n",
       "      <th>12275</th>\n",
       "      <td>neutral</td>\n",
       "      <td>CallMe_Goddess</td>\n",
       "      <td>@clarityxx</td>\n",
       "      <td>neutral</td>\n",
       "      <td>1</td>\n",
       "      <td>0</td>\n",
       "    </tr>\n",
       "    <tr>\n",
       "      <th>20665</th>\n",
       "      <td>neutral</td>\n",
       "      <td>VIVA_LA_SUE_SUE</td>\n",
       "      <td>@DJWiLLGATES</td>\n",
       "      <td>neutral</td>\n",
       "      <td>1</td>\n",
       "      <td>0</td>\n",
       "    </tr>\n",
       "    <tr>\n",
       "      <th>11145</th>\n",
       "      <td>neutral</td>\n",
       "      <td>YoungFlame</td>\n",
       "      <td>@yeshenia</td>\n",
       "      <td>neutral</td>\n",
       "      <td>1</td>\n",
       "      <td>0</td>\n",
       "    </tr>\n",
       "    <tr>\n",
       "      <th>25410</th>\n",
       "      <td>sadness</td>\n",
       "      <td>rubenerd</td>\n",
       "      <td>@oliyoung</td>\n",
       "      <td>negative</td>\n",
       "      <td>1</td>\n",
       "      <td>0</td>\n",
       "    </tr>\n",
       "    <tr>\n",
       "      <th>33729</th>\n",
       "      <td>empty</td>\n",
       "      <td>MercyStreetTeam</td>\n",
       "      <td>@iamjonathancook</td>\n",
       "      <td>NaN</td>\n",
       "      <td>1</td>\n",
       "      <td>0</td>\n",
       "    </tr>\n",
       "    <tr>\n",
       "      <th>18153</th>\n",
       "      <td>neutral</td>\n",
       "      <td>Derbygirl3</td>\n",
       "      <td>@Mashon96</td>\n",
       "      <td>neutral</td>\n",
       "      <td>1</td>\n",
       "      <td>0</td>\n",
       "    </tr>\n",
       "  </tbody>\n",
       "</table>\n",
       "</div>"
      ],
      "text/plain": [
       "      sentiment           author           content  polarity  mention_count  \\\n",
       "25527   neutral         fmeichel     @t_de_baillon   neutral              1   \n",
       "16808   neutral         mcrfash1       @chinaablue   neutral              1   \n",
       "6451    neutral      mcraddictal        @MCRmuffin   neutral              1   \n",
       "11289   sadness    ASinisterDuck  @lowestformofwit  negative              1   \n",
       "12275   neutral   CallMe_Goddess        @clarityxx   neutral              1   \n",
       "20665   neutral  VIVA_LA_SUE_SUE      @DJWiLLGATES   neutral              1   \n",
       "11145   neutral       YoungFlame         @yeshenia   neutral              1   \n",
       "25410   sadness         rubenerd         @oliyoung  negative              1   \n",
       "33729     empty  MercyStreetTeam  @iamjonathancook       NaN              1   \n",
       "18153   neutral       Derbygirl3         @Mashon96   neutral              1   \n",
       "\n",
       "       hashtag_count  \n",
       "25527              0  \n",
       "16808              0  \n",
       "6451               0  \n",
       "11289              0  \n",
       "12275              0  \n",
       "20665              0  \n",
       "11145              0  \n",
       "25410              0  \n",
       "33729              0  \n",
       "18153              0  "
      ]
     },
     "execution_count": 47,
     "metadata": {},
     "output_type": "execute_result"
    }
   ],
   "source": [
    "# Print tweets with only mentions (and + 0, or 1 characters)\n",
    "df[df.content.str.replace(\"@[\\w|\\d|_]+\", \"\").str.len()<2].sample(10)"
   ]
  },
  {
   "cell_type": "code",
   "execution_count": 48,
   "metadata": {},
   "outputs": [
    {
     "data": {
      "text/plain": [
       "76"
      ]
     },
     "execution_count": 48,
     "metadata": {},
     "output_type": "execute_result"
    }
   ],
   "source": [
    "# Number of tweets with only mentions bu no other text\n",
    "df[df.content.str.replace(\"@[\\w|\\d|_]+\", \"\").str.len()<2].shape[0]"
   ]
  },
  {
   "cell_type": "code",
   "execution_count": 89,
   "metadata": {},
   "outputs": [
    {
     "data": {
      "text/plain": [
       "77"
      ]
     },
     "execution_count": 89,
     "metadata": {},
     "output_type": "execute_result"
    }
   ],
   "source": [
    "# Number of tweets with only mentions bu no other text\n",
    "df[df.content.str.replace(\"@[^\\s]+\", \"\").str.len()<2].shape[0]"
   ]
  },
  {
   "cell_type": "code",
   "execution_count": 66,
   "metadata": {},
   "outputs": [],
   "source": [
    "# Change sentiment of the tweets with only mentions to \"neutral\"\n",
    "df.loc[df.content.str.replace(\"@[^\\s]+\", \"\").str.len()<3, 'sentiment'] = \"neutral\""
   ]
  },
  {
   "cell_type": "code",
   "execution_count": 45,
   "metadata": {},
   "outputs": [],
   "source": [
    "# # Drop the tweets that contains only mentions\n",
    "# df.drop(df[df.content.str.replace(\"@\\w+\", \"\").str.len()<2].index, inplace=True)\n",
    "\n",
    "#### UPDATE FEATURE ENGINEERING"
   ]
  },
  {
   "cell_type": "markdown",
   "metadata": {},
   "source": [
    "According to the news, average character count of a tweet is 33-34 characters. However, the average value of this dataset is around 74, which is significantly higher than the average. Number of characters might prove an important feature.\n",
    "\n",
    "> The most common length of a tweet back when Twitter only allowed 140 characters was 34 characters. Now that the limit is 280 characters, the most common length of a tweet is 33 characters. Historically, only 9% of tweets hit Twitter’s 140-character limit, now it’s 1%. [source](https://techcrunch.com/2018/10/30/twitters-doubling-of-character-count-from-140-to-280-had-little-impact-on-length-of-tweets/)"
   ]
  },
  {
   "cell_type": "code",
   "execution_count": 63,
   "metadata": {},
   "outputs": [
    {
     "data": {
      "text/plain": [
       "<matplotlib.axes._subplots.AxesSubplot at 0x1a1a67c748>"
      ]
     },
     "execution_count": 63,
     "metadata": {},
     "output_type": "execute_result"
    },
    {
     "data": {
      "image/png": "[encoded data removed]",
      "text/plain": [
       "<Figure size 432x288 with 1 Axes>"
      ]
     },
     "metadata": {},
     "output_type": "display_data"
    }
   ],
   "source": [
    "# Plot boxplot of char_count by sentiment\n",
    "df.boxplot(column='char_count', by='sentiment', rot=45)"
   ]
  },
  {
   "cell_type": "code",
   "execution_count": 64,
   "metadata": {},
   "outputs": [
    {
     "data": {
      "text/plain": [
       "<matplotlib.axes._subplots.AxesSubplot at 0x1a1bfeae48>"
      ]
     },
     "execution_count": 64,
     "metadata": {},
     "output_type": "execute_result"
    },
    {
     "data": {
      "image/png": "[encoded data removed]",
      "text/plain": [
       "<Figure size 432x288 with 1 Axes>"
      ]
     },
     "metadata": {},
     "output_type": "display_data"
    }
   ],
   "source": [
    "# Plot boxplot of char_count by polarity\n",
    "df.boxplot(column='char_count', by='polarity', rot=45)"
   ]
  },
  {
   "cell_type": "markdown",
   "metadata": {},
   "source": [
    "There seems to be some relationship between character count and the target. We may keep it as a feature."
   ]
  },
  {
   "cell_type": "markdown",
   "metadata": {},
   "source": [
    "#### Number of Words"
   ]
  },
  {
   "cell_type": "code",
   "execution_count": 90,
   "metadata": {},
   "outputs": [],
   "source": [
    "def count_words(string):\n",
    "    '''Returns number of words in a string'''\n",
    "    \n",
    "    # Split the string into words\n",
    "    words = string.split()\n",
    "    \n",
    "    # Return the number of words\n",
    "    return len(words)"
   ]
  },
  {
   "cell_type": "code",
   "execution_count": 91,
   "metadata": {},
   "outputs": [
    {
     "name": "stdout",
     "output_type": "stream",
     "text": [
      "13.218096809680969\n"
     ]
    }
   ],
   "source": [
    "# Create a new feature word_count\n",
    "df['word_count'] = df.content.apply(count_words)\n",
    "\n",
    "# Print the average word count of the talks\n",
    "print(df['word_count'].mean())"
   ]
  },
  {
   "cell_type": "code",
   "execution_count": 93,
   "metadata": {},
   "outputs": [
    {
     "data": {
      "text/plain": [
       "<matplotlib.axes._subplots.AxesSubplot at 0x1a1a8274a8>"
      ]
     },
     "execution_count": 93,
     "metadata": {},
     "output_type": "execute_result"
    },
    {
     "data": {
      "image/png": "[encoded data removed]",
      "text/plain": [
       "<Figure size 432x288 with 1 Axes>"
      ]
     },
     "metadata": {},
     "output_type": "display_data"
    }
   ],
   "source": [
    "df.boxplot(\"word_count\", by='sentiment', rot=60)"
   ]
  },
  {
   "cell_type": "code",
   "execution_count": 94,
   "metadata": {},
   "outputs": [
    {
     "data": {
      "text/html": [
       "<div>\n",
       "<style scoped>\n",
       "    .dataframe tbody tr th:only-of-type {\n",
       "        vertical-align: middle;\n",
       "    }\n",
       "\n",
       "    .dataframe tbody tr th {\n",
       "        vertical-align: top;\n",
       "    }\n",
       "\n",
       "    .dataframe thead th {\n",
       "        text-align: right;\n",
       "    }\n",
       "</style>\n",
       "<table border=\"1\" class=\"dataframe\">\n",
       "  <thead>\n",
       "    <tr style=\"text-align: right;\">\n",
       "      <th></th>\n",
       "      <th>word_count</th>\n",
       "      <th>char_count</th>\n",
       "    </tr>\n",
       "  </thead>\n",
       "  <tbody>\n",
       "    <tr>\n",
       "      <th>word_count</th>\n",
       "      <td>1.000000</td>\n",
       "      <td>0.955981</td>\n",
       "    </tr>\n",
       "    <tr>\n",
       "      <th>char_count</th>\n",
       "      <td>0.955981</td>\n",
       "      <td>1.000000</td>\n",
       "    </tr>\n",
       "  </tbody>\n",
       "</table>\n",
       "</div>"
      ],
      "text/plain": [
       "            word_count  char_count\n",
       "word_count    1.000000    0.955981\n",
       "char_count    0.955981    1.000000"
      ]
     },
     "execution_count": 94,
     "metadata": {},
     "output_type": "execute_result"
    }
   ],
   "source": [
    "df[['word_count', 'char_count']].corr()"
   ]
  },
  {
   "cell_type": "markdown",
   "metadata": {},
   "source": [
    "There is a high correlation between character count and word count. I'll use character count in the analysis."
   ]
  },
  {
   "cell_type": "markdown",
   "metadata": {},
   "source": [
    "#### Hyperlinks"
   ]
  },
  {
   "cell_type": "code",
   "execution_count": 40,
   "metadata": {},
   "outputs": [
    {
     "data": {
      "text/plain": [
       "sum     1811.00000\n",
       "mean       0.04528\n",
       "Name: content, dtype: float64"
      ]
     },
     "execution_count": 40,
     "metadata": {},
     "output_type": "execute_result"
    }
   ],
   "source": [
    "# Number/ratio of tweets with hyperlinks\n",
    "df.content.str.lower().str.contains(\"http\").agg([np.sum, np.mean])"
   ]
  },
  {
   "cell_type": "code",
   "execution_count": 39,
   "metadata": {},
   "outputs": [
    {
     "data": {
      "text/plain": [
       "neutral       0.298730\n",
       "worry         0.144119\n",
       "happiness     0.141911\n",
       "love          0.122032\n",
       "sadness       0.079514\n",
       "fun           0.059083\n",
       "surprise      0.055218\n",
       "relief        0.028713\n",
       "empty         0.027057\n",
       "hate          0.020983\n",
       "enthusiasm    0.019326\n",
       "anger         0.002209\n",
       "boredom       0.001104\n",
       "Name: sentiment, dtype: float64"
      ]
     },
     "execution_count": 39,
     "metadata": {},
     "output_type": "execute_result"
    }
   ],
   "source": [
    "df[df.content.str.lower().str.contains(\"http\")].sentiment.value_counts(normalize=True)"
   ]
  },
  {
   "cell_type": "code",
   "execution_count": 108,
   "metadata": {},
   "outputs": [
    {
     "data": {
      "text/plain": [
       "worry         0.214692\n",
       "neutral       0.211968\n",
       "sadness       0.131491\n",
       "happiness     0.129684\n",
       "love          0.094828\n",
       "surprise      0.054655\n",
       "fun           0.043708\n",
       "relief        0.038602\n",
       "hate          0.033652\n",
       "empty         0.020348\n",
       "enthusiasm    0.018960\n",
       "boredom       0.004635\n",
       "anger         0.002776\n",
       "Name: sentiment, dtype: float64"
      ]
     },
     "execution_count": 108,
     "metadata": {},
     "output_type": "execute_result"
    }
   ],
   "source": [
    "df[~df.content.str.contains(\"http\")].sentiment.value_counts(normalize=True)"
   ]
  },
  {
   "cell_type": "markdown",
   "metadata": {},
   "source": [
    "It seems that sharing a link may have some, though not significant relationship with the sentiment. Lets keep this as a feature, or in the text???"
   ]
  },
  {
   "cell_type": "code",
   "execution_count": 67,
   "metadata": {},
   "outputs": [],
   "source": [
    "# Create a new column \"has_link\"\n",
    "df['has_link'] = df.content.str.contains(\"http\")*1"
   ]
  },
  {
   "cell_type": "code",
   "execution_count": 70,
   "metadata": {},
   "outputs": [
    {
     "data": {
      "text/plain": [
       "sentiment\n",
       "boredom       0.011173\n",
       "sadness       0.027896\n",
       "hate          0.028723\n",
       "worry         0.030873\n",
       "relief        0.034076\n",
       "anger         0.036364\n",
       "surprise      0.045725\n",
       "enthusiasm    0.046113\n",
       "happiness     0.049347\n",
       "love          0.057537\n",
       "empty         0.060123\n",
       "fun           0.060248\n",
       "neutral       0.062500\n",
       "Name: has_link, dtype: float64"
      ]
     },
     "execution_count": 70,
     "metadata": {},
     "output_type": "execute_result"
    }
   ],
   "source": [
    "# Average of has_link among sentiments\n",
    "df.groupby('sentiment').has_link.mean().sort_values()"
   ]
  },
  {
   "cell_type": "code",
   "execution_count": 82,
   "metadata": {},
   "outputs": [
    {
     "data": {
      "text/html": [
       "<div>\n",
       "<style scoped>\n",
       "    .dataframe tbody tr th:only-of-type {\n",
       "        vertical-align: middle;\n",
       "    }\n",
       "\n",
       "    .dataframe tbody tr th {\n",
       "        vertical-align: top;\n",
       "    }\n",
       "\n",
       "    .dataframe thead th {\n",
       "        text-align: right;\n",
       "    }\n",
       "</style>\n",
       "<table border=\"1\" class=\"dataframe\">\n",
       "  <thead>\n",
       "    <tr style=\"text-align: right;\">\n",
       "      <th></th>\n",
       "      <th>sentiment</th>\n",
       "      <th>author</th>\n",
       "      <th>content</th>\n",
       "      <th>polarity</th>\n",
       "      <th>mention_count</th>\n",
       "      <th>hashtag_count</th>\n",
       "      <th>char_count</th>\n",
       "      <th>has_link</th>\n",
       "    </tr>\n",
       "  </thead>\n",
       "  <tbody>\n",
       "    <tr>\n",
       "      <th>664</th>\n",
       "      <td>neutral</td>\n",
       "      <td>joelmagic</td>\n",
       "      <td>@emlevins</td>\n",
       "      <td>neutral</td>\n",
       "      <td>1</td>\n",
       "      <td>0</td>\n",
       "      <td>9</td>\n",
       "      <td>0</td>\n",
       "    </tr>\n",
       "    <tr>\n",
       "      <th>1007</th>\n",
       "      <td>sadness</td>\n",
       "      <td>CiaranActon</td>\n",
       "      <td>not well</td>\n",
       "      <td>negative</td>\n",
       "      <td>0</td>\n",
       "      <td>0</td>\n",
       "      <td>8</td>\n",
       "      <td>0</td>\n",
       "    </tr>\n",
       "    <tr>\n",
       "      <th>1472</th>\n",
       "      <td>neutral</td>\n",
       "      <td>jicholls</td>\n",
       "      <td>lonely ..</td>\n",
       "      <td>neutral</td>\n",
       "      <td>0</td>\n",
       "      <td>0</td>\n",
       "      <td>9</td>\n",
       "      <td>0</td>\n",
       "    </tr>\n",
       "    <tr>\n",
       "      <th>1538</th>\n",
       "      <td>neutral</td>\n",
       "      <td>lizziemoogle</td>\n",
       "      <td>Hangover</td>\n",
       "      <td>neutral</td>\n",
       "      <td>0</td>\n",
       "      <td>0</td>\n",
       "      <td>8</td>\n",
       "      <td>0</td>\n",
       "    </tr>\n",
       "    <tr>\n",
       "      <th>1821</th>\n",
       "      <td>neutral</td>\n",
       "      <td>MarianellaCorde</td>\n",
       "      <td>So tired.</td>\n",
       "      <td>neutral</td>\n",
       "      <td>0</td>\n",
       "      <td>0</td>\n",
       "      <td>9</td>\n",
       "      <td>0</td>\n",
       "    </tr>\n",
       "    <tr>\n",
       "      <th>2206</th>\n",
       "      <td>neutral</td>\n",
       "      <td>Aaron32514</td>\n",
       "      <td>nothing</td>\n",
       "      <td>neutral</td>\n",
       "      <td>0</td>\n",
       "      <td>0</td>\n",
       "      <td>7</td>\n",
       "      <td>0</td>\n",
       "    </tr>\n",
       "    <tr>\n",
       "      <th>2311</th>\n",
       "      <td>neutral</td>\n",
       "      <td>the_mitch</td>\n",
       "      <td>backache</td>\n",
       "      <td>neutral</td>\n",
       "      <td>0</td>\n",
       "      <td>0</td>\n",
       "      <td>8</td>\n",
       "      <td>0</td>\n",
       "    </tr>\n",
       "    <tr>\n",
       "      <th>2501</th>\n",
       "      <td>sadness</td>\n",
       "      <td>WanderingSwede</td>\n",
       "      <td>Headache</td>\n",
       "      <td>negative</td>\n",
       "      <td>0</td>\n",
       "      <td>0</td>\n",
       "      <td>8</td>\n",
       "      <td>0</td>\n",
       "    </tr>\n",
       "    <tr>\n",
       "      <th>2675</th>\n",
       "      <td>neutral</td>\n",
       "      <td>iliana</td>\n",
       "      <td>picat 21</td>\n",
       "      <td>neutral</td>\n",
       "      <td>0</td>\n",
       "      <td>0</td>\n",
       "      <td>8</td>\n",
       "      <td>0</td>\n",
       "    </tr>\n",
       "    <tr>\n",
       "      <th>2740</th>\n",
       "      <td>worry</td>\n",
       "      <td>hippyhayley</td>\n",
       "      <td>so cold</td>\n",
       "      <td>negative</td>\n",
       "      <td>0</td>\n",
       "      <td>0</td>\n",
       "      <td>7</td>\n",
       "      <td>0</td>\n",
       "    </tr>\n",
       "    <tr>\n",
       "      <th>3303</th>\n",
       "      <td>neutral</td>\n",
       "      <td>pajp</td>\n",
       "      <td>woke up.</td>\n",
       "      <td>neutral</td>\n",
       "      <td>0</td>\n",
       "      <td>0</td>\n",
       "      <td>8</td>\n",
       "      <td>0</td>\n",
       "    </tr>\n",
       "    <tr>\n",
       "      <th>3316</th>\n",
       "      <td>neutral</td>\n",
       "      <td>chibi_sora</td>\n",
       "      <td>So tired</td>\n",
       "      <td>neutral</td>\n",
       "      <td>0</td>\n",
       "      <td>0</td>\n",
       "      <td>8</td>\n",
       "      <td>0</td>\n",
       "    </tr>\n",
       "    <tr>\n",
       "      <th>3883</th>\n",
       "      <td>worry</td>\n",
       "      <td>ayashcliche</td>\n",
       "      <td>careless</td>\n",
       "      <td>negative</td>\n",
       "      <td>0</td>\n",
       "      <td>0</td>\n",
       "      <td>8</td>\n",
       "      <td>0</td>\n",
       "    </tr>\n",
       "    <tr>\n",
       "      <th>4175</th>\n",
       "      <td>surprise</td>\n",
       "      <td>briefy_leigh</td>\n",
       "      <td>What!?!</td>\n",
       "      <td>positive</td>\n",
       "      <td>0</td>\n",
       "      <td>0</td>\n",
       "      <td>7</td>\n",
       "      <td>0</td>\n",
       "    </tr>\n",
       "    <tr>\n",
       "      <th>4316</th>\n",
       "      <td>sadness</td>\n",
       "      <td>young_drakes</td>\n",
       "      <td>Work...</td>\n",
       "      <td>negative</td>\n",
       "      <td>0</td>\n",
       "      <td>0</td>\n",
       "      <td>7</td>\n",
       "      <td>0</td>\n",
       "    </tr>\n",
       "    <tr>\n",
       "      <th>5087</th>\n",
       "      <td>neutral</td>\n",
       "      <td>imamulki</td>\n",
       "      <td>I hate PC</td>\n",
       "      <td>neutral</td>\n",
       "      <td>0</td>\n",
       "      <td>0</td>\n",
       "      <td>9</td>\n",
       "      <td>0</td>\n",
       "    </tr>\n",
       "    <tr>\n",
       "      <th>5243</th>\n",
       "      <td>neutral</td>\n",
       "      <td>marcolindoso</td>\n",
       "      <td>to doente</td>\n",
       "      <td>neutral</td>\n",
       "      <td>0</td>\n",
       "      <td>0</td>\n",
       "      <td>9</td>\n",
       "      <td>0</td>\n",
       "    </tr>\n",
       "    <tr>\n",
       "      <th>5473</th>\n",
       "      <td>neutral</td>\n",
       "      <td>brianisawesome</td>\n",
       "      <td>@aigulf</td>\n",
       "      <td>neutral</td>\n",
       "      <td>1</td>\n",
       "      <td>0</td>\n",
       "      <td>7</td>\n",
       "      <td>0</td>\n",
       "    </tr>\n",
       "    <tr>\n",
       "      <th>5961</th>\n",
       "      <td>neutral</td>\n",
       "      <td>MsRudie</td>\n",
       "      <td>Its cold</td>\n",
       "      <td>neutral</td>\n",
       "      <td>0</td>\n",
       "      <td>0</td>\n",
       "      <td>8</td>\n",
       "      <td>0</td>\n",
       "    </tr>\n",
       "    <tr>\n",
       "      <th>6265</th>\n",
       "      <td>neutral</td>\n",
       "      <td>taylor_bsstt</td>\n",
       "      <td>Cleaning</td>\n",
       "      <td>neutral</td>\n",
       "      <td>0</td>\n",
       "      <td>0</td>\n",
       "      <td>8</td>\n",
       "      <td>0</td>\n",
       "    </tr>\n",
       "    <tr>\n",
       "      <th>6300</th>\n",
       "      <td>neutral</td>\n",
       "      <td>mahpoli</td>\n",
       "      <td>ACABOU!!!</td>\n",
       "      <td>neutral</td>\n",
       "      <td>0</td>\n",
       "      <td>0</td>\n",
       "      <td>9</td>\n",
       "      <td>0</td>\n",
       "    </tr>\n",
       "    <tr>\n",
       "      <th>6591</th>\n",
       "      <td>sadness</td>\n",
       "      <td>Zoraida1980</td>\n",
       "      <td>Headache</td>\n",
       "      <td>negative</td>\n",
       "      <td>0</td>\n",
       "      <td>0</td>\n",
       "      <td>8</td>\n",
       "      <td>0</td>\n",
       "    </tr>\n",
       "    <tr>\n",
       "      <th>6718</th>\n",
       "      <td>sadness</td>\n",
       "      <td>jimifan212</td>\n",
       "      <td>headache</td>\n",
       "      <td>negative</td>\n",
       "      <td>0</td>\n",
       "      <td>0</td>\n",
       "      <td>8</td>\n",
       "      <td>0</td>\n",
       "    </tr>\n",
       "    <tr>\n",
       "      <th>7190</th>\n",
       "      <td>sadness</td>\n",
       "      <td>circadianwolf</td>\n",
       "      <td>bad day</td>\n",
       "      <td>negative</td>\n",
       "      <td>0</td>\n",
       "      <td>0</td>\n",
       "      <td>7</td>\n",
       "      <td>0</td>\n",
       "    </tr>\n",
       "    <tr>\n",
       "      <th>7942</th>\n",
       "      <td>worry</td>\n",
       "      <td>LuGrace</td>\n",
       "      <td>headache</td>\n",
       "      <td>negative</td>\n",
       "      <td>0</td>\n",
       "      <td>0</td>\n",
       "      <td>8</td>\n",
       "      <td>0</td>\n",
       "    </tr>\n",
       "    <tr>\n",
       "      <th>10379</th>\n",
       "      <td>neutral</td>\n",
       "      <td>Groovy_Eeb</td>\n",
       "      <td>He's off!</td>\n",
       "      <td>neutral</td>\n",
       "      <td>0</td>\n",
       "      <td>0</td>\n",
       "      <td>9</td>\n",
       "      <td>0</td>\n",
       "    </tr>\n",
       "    <tr>\n",
       "      <th>10507</th>\n",
       "      <td>neutral</td>\n",
       "      <td>leeconnolly1990</td>\n",
       "      <td>Workin.</td>\n",
       "      <td>neutral</td>\n",
       "      <td>0</td>\n",
       "      <td>0</td>\n",
       "      <td>7</td>\n",
       "      <td>0</td>\n",
       "    </tr>\n",
       "    <tr>\n",
       "      <th>10541</th>\n",
       "      <td>neutral</td>\n",
       "      <td>MyNamesJon</td>\n",
       "      <td>Boreedd</td>\n",
       "      <td>neutral</td>\n",
       "      <td>0</td>\n",
       "      <td>0</td>\n",
       "      <td>7</td>\n",
       "      <td>0</td>\n",
       "    </tr>\n",
       "    <tr>\n",
       "      <th>10883</th>\n",
       "      <td>neutral</td>\n",
       "      <td>mammax42</td>\n",
       "      <td>at work</td>\n",
       "      <td>neutral</td>\n",
       "      <td>0</td>\n",
       "      <td>0</td>\n",
       "      <td>7</td>\n",
       "      <td>0</td>\n",
       "    </tr>\n",
       "    <tr>\n",
       "      <th>11145</th>\n",
       "      <td>neutral</td>\n",
       "      <td>YoungFlame</td>\n",
       "      <td>@yeshenia</td>\n",
       "      <td>neutral</td>\n",
       "      <td>1</td>\n",
       "      <td>0</td>\n",
       "      <td>9</td>\n",
       "      <td>0</td>\n",
       "    </tr>\n",
       "    <tr>\n",
       "      <th>...</th>\n",
       "      <td>...</td>\n",
       "      <td>...</td>\n",
       "      <td>...</td>\n",
       "      <td>...</td>\n",
       "      <td>...</td>\n",
       "      <td>...</td>\n",
       "      <td>...</td>\n",
       "      <td>...</td>\n",
       "    </tr>\n",
       "    <tr>\n",
       "      <th>31367</th>\n",
       "      <td>surprise</td>\n",
       "      <td>izak09</td>\n",
       "      <td>Really!</td>\n",
       "      <td>positive</td>\n",
       "      <td>0</td>\n",
       "      <td>0</td>\n",
       "      <td>7</td>\n",
       "      <td>0</td>\n",
       "    </tr>\n",
       "    <tr>\n",
       "      <th>31857</th>\n",
       "      <td>neutral</td>\n",
       "      <td>kalycetrafton</td>\n",
       "      <td>Goodnight</td>\n",
       "      <td>neutral</td>\n",
       "      <td>0</td>\n",
       "      <td>0</td>\n",
       "      <td>9</td>\n",
       "      <td>0</td>\n",
       "    </tr>\n",
       "    <tr>\n",
       "      <th>31954</th>\n",
       "      <td>neutral</td>\n",
       "      <td>Arhum</td>\n",
       "      <td>painting</td>\n",
       "      <td>neutral</td>\n",
       "      <td>0</td>\n",
       "      <td>0</td>\n",
       "      <td>8</td>\n",
       "      <td>0</td>\n",
       "    </tr>\n",
       "    <tr>\n",
       "      <th>32001</th>\n",
       "      <td>worry</td>\n",
       "      <td>s_beautiful</td>\n",
       "      <td>is on air</td>\n",
       "      <td>negative</td>\n",
       "      <td>0</td>\n",
       "      <td>0</td>\n",
       "      <td>9</td>\n",
       "      <td>0</td>\n",
       "    </tr>\n",
       "    <tr>\n",
       "      <th>32262</th>\n",
       "      <td>neutral</td>\n",
       "      <td>Breezy_boo</td>\n",
       "      <td>FO SHOWWW</td>\n",
       "      <td>neutral</td>\n",
       "      <td>0</td>\n",
       "      <td>0</td>\n",
       "      <td>9</td>\n",
       "      <td>0</td>\n",
       "    </tr>\n",
       "    <tr>\n",
       "      <th>32730</th>\n",
       "      <td>neutral</td>\n",
       "      <td>fbabytv</td>\n",
       "      <td>round 2</td>\n",
       "      <td>neutral</td>\n",
       "      <td>0</td>\n",
       "      <td>0</td>\n",
       "      <td>7</td>\n",
       "      <td>0</td>\n",
       "    </tr>\n",
       "    <tr>\n",
       "      <th>32768</th>\n",
       "      <td>neutral</td>\n",
       "      <td>bloomie16</td>\n",
       "      <td>painting!</td>\n",
       "      <td>neutral</td>\n",
       "      <td>0</td>\n",
       "      <td>0</td>\n",
       "      <td>9</td>\n",
       "      <td>0</td>\n",
       "    </tr>\n",
       "    <tr>\n",
       "      <th>32794</th>\n",
       "      <td>neutral</td>\n",
       "      <td>danielly006</td>\n",
       "      <td>goodnight</td>\n",
       "      <td>neutral</td>\n",
       "      <td>0</td>\n",
       "      <td>0</td>\n",
       "      <td>9</td>\n",
       "      <td>0</td>\n",
       "    </tr>\n",
       "    <tr>\n",
       "      <th>32818</th>\n",
       "      <td>neutral</td>\n",
       "      <td>JoeDemiJemi</td>\n",
       "      <td>writing</td>\n",
       "      <td>neutral</td>\n",
       "      <td>0</td>\n",
       "      <td>0</td>\n",
       "      <td>7</td>\n",
       "      <td>0</td>\n",
       "    </tr>\n",
       "    <tr>\n",
       "      <th>32875</th>\n",
       "      <td>neutral</td>\n",
       "      <td>verbumveritatis</td>\n",
       "      <td>Thank you</td>\n",
       "      <td>neutral</td>\n",
       "      <td>0</td>\n",
       "      <td>0</td>\n",
       "      <td>9</td>\n",
       "      <td>0</td>\n",
       "    </tr>\n",
       "    <tr>\n",
       "      <th>32993</th>\n",
       "      <td>worry</td>\n",
       "      <td>dannylonestar</td>\n",
       "      <td>Wal mart</td>\n",
       "      <td>negative</td>\n",
       "      <td>0</td>\n",
       "      <td>0</td>\n",
       "      <td>8</td>\n",
       "      <td>0</td>\n",
       "    </tr>\n",
       "    <tr>\n",
       "      <th>33849</th>\n",
       "      <td>neutral</td>\n",
       "      <td>AngelicaBeanz</td>\n",
       "      <td>@shaevvv</td>\n",
       "      <td>neutral</td>\n",
       "      <td>1</td>\n",
       "      <td>0</td>\n",
       "      <td>8</td>\n",
       "      <td>0</td>\n",
       "    </tr>\n",
       "    <tr>\n",
       "      <th>34025</th>\n",
       "      <td>empty</td>\n",
       "      <td>candycandycane</td>\n",
       "      <td>texting</td>\n",
       "      <td>NaN</td>\n",
       "      <td>0</td>\n",
       "      <td>0</td>\n",
       "      <td>7</td>\n",
       "      <td>0</td>\n",
       "    </tr>\n",
       "    <tr>\n",
       "      <th>34345</th>\n",
       "      <td>neutral</td>\n",
       "      <td>pamsprayng</td>\n",
       "      <td>Its 11:11</td>\n",
       "      <td>neutral</td>\n",
       "      <td>0</td>\n",
       "      <td>0</td>\n",
       "      <td>9</td>\n",
       "      <td>0</td>\n",
       "    </tr>\n",
       "    <tr>\n",
       "      <th>34350</th>\n",
       "      <td>happiness</td>\n",
       "      <td>chenalora</td>\n",
       "      <td>freedom</td>\n",
       "      <td>positive</td>\n",
       "      <td>0</td>\n",
       "      <td>0</td>\n",
       "      <td>7</td>\n",
       "      <td>0</td>\n",
       "    </tr>\n",
       "    <tr>\n",
       "      <th>34378</th>\n",
       "      <td>neutral</td>\n",
       "      <td>marcocolin</td>\n",
       "      <td>is off</td>\n",
       "      <td>neutral</td>\n",
       "      <td>0</td>\n",
       "      <td>0</td>\n",
       "      <td>6</td>\n",
       "      <td>0</td>\n",
       "    </tr>\n",
       "    <tr>\n",
       "      <th>34404</th>\n",
       "      <td>neutral</td>\n",
       "      <td>Milliah16</td>\n",
       "      <td>Eating.</td>\n",
       "      <td>neutral</td>\n",
       "      <td>0</td>\n",
       "      <td>0</td>\n",
       "      <td>7</td>\n",
       "      <td>0</td>\n",
       "    </tr>\n",
       "    <tr>\n",
       "      <th>34812</th>\n",
       "      <td>happiness</td>\n",
       "      <td>JacobGoesGreen</td>\n",
       "      <td>home now!</td>\n",
       "      <td>positive</td>\n",
       "      <td>0</td>\n",
       "      <td>0</td>\n",
       "      <td>9</td>\n",
       "      <td>0</td>\n",
       "    </tr>\n",
       "    <tr>\n",
       "      <th>34952</th>\n",
       "      <td>neutral</td>\n",
       "      <td>KessaLynn</td>\n",
       "      <td>@bbheaven</td>\n",
       "      <td>neutral</td>\n",
       "      <td>1</td>\n",
       "      <td>0</td>\n",
       "      <td>9</td>\n",
       "      <td>0</td>\n",
       "    </tr>\n",
       "    <tr>\n",
       "      <th>35088</th>\n",
       "      <td>sadness</td>\n",
       "      <td>missy1234</td>\n",
       "      <td>Memories</td>\n",
       "      <td>negative</td>\n",
       "      <td>0</td>\n",
       "      <td>0</td>\n",
       "      <td>8</td>\n",
       "      <td>0</td>\n",
       "    </tr>\n",
       "    <tr>\n",
       "      <th>35721</th>\n",
       "      <td>relief</td>\n",
       "      <td>imdinnar</td>\n",
       "      <td>success!</td>\n",
       "      <td>positive</td>\n",
       "      <td>0</td>\n",
       "      <td>0</td>\n",
       "      <td>8</td>\n",
       "      <td>0</td>\n",
       "    </tr>\n",
       "    <tr>\n",
       "      <th>35889</th>\n",
       "      <td>hate</td>\n",
       "      <td>leatron</td>\n",
       "      <td>FUCK EM</td>\n",
       "      <td>negative</td>\n",
       "      <td>0</td>\n",
       "      <td>0</td>\n",
       "      <td>7</td>\n",
       "      <td>0</td>\n",
       "    </tr>\n",
       "    <tr>\n",
       "      <th>36603</th>\n",
       "      <td>neutral</td>\n",
       "      <td>CodyOW</td>\n",
       "      <td>Goodnight</td>\n",
       "      <td>neutral</td>\n",
       "      <td>0</td>\n",
       "      <td>0</td>\n",
       "      <td>9</td>\n",
       "      <td>0</td>\n",
       "    </tr>\n",
       "    <tr>\n",
       "      <th>37284</th>\n",
       "      <td>neutral</td>\n",
       "      <td>NofarSh</td>\n",
       "      <td>At Home</td>\n",
       "      <td>neutral</td>\n",
       "      <td>0</td>\n",
       "      <td>0</td>\n",
       "      <td>7</td>\n",
       "      <td>0</td>\n",
       "    </tr>\n",
       "    <tr>\n",
       "      <th>37311</th>\n",
       "      <td>happiness</td>\n",
       "      <td>happy_jan</td>\n",
       "      <td>Yes, I am</td>\n",
       "      <td>positive</td>\n",
       "      <td>0</td>\n",
       "      <td>0</td>\n",
       "      <td>9</td>\n",
       "      <td>0</td>\n",
       "    </tr>\n",
       "    <tr>\n",
       "      <th>37457</th>\n",
       "      <td>neutral</td>\n",
       "      <td>aaaaaaanna</td>\n",
       "      <td>bbq party</td>\n",
       "      <td>neutral</td>\n",
       "      <td>0</td>\n",
       "      <td>0</td>\n",
       "      <td>9</td>\n",
       "      <td>0</td>\n",
       "    </tr>\n",
       "    <tr>\n",
       "      <th>37602</th>\n",
       "      <td>relief</td>\n",
       "      <td>SweetnnSour</td>\n",
       "      <td>I Got it!</td>\n",
       "      <td>positive</td>\n",
       "      <td>0</td>\n",
       "      <td>0</td>\n",
       "      <td>9</td>\n",
       "      <td>0</td>\n",
       "    </tr>\n",
       "    <tr>\n",
       "      <th>37646</th>\n",
       "      <td>happiness</td>\n",
       "      <td>xkirsti</td>\n",
       "      <td>chilling</td>\n",
       "      <td>positive</td>\n",
       "      <td>0</td>\n",
       "      <td>0</td>\n",
       "      <td>8</td>\n",
       "      <td>0</td>\n",
       "    </tr>\n",
       "    <tr>\n",
       "      <th>37706</th>\n",
       "      <td>neutral</td>\n",
       "      <td>jordanhowell</td>\n",
       "      <td>Howdyyy</td>\n",
       "      <td>neutral</td>\n",
       "      <td>0</td>\n",
       "      <td>0</td>\n",
       "      <td>7</td>\n",
       "      <td>0</td>\n",
       "    </tr>\n",
       "    <tr>\n",
       "      <th>37919</th>\n",
       "      <td>relief</td>\n",
       "      <td>underpressure</td>\n",
       "      <td>New toys.</td>\n",
       "      <td>positive</td>\n",
       "      <td>0</td>\n",
       "      <td>0</td>\n",
       "      <td>9</td>\n",
       "      <td>0</td>\n",
       "    </tr>\n",
       "  </tbody>\n",
       "</table>\n",
       "<p>123 rows × 8 columns</p>\n",
       "</div>"
      ],
      "text/plain": [
       "       sentiment           author    content  polarity  mention_count  \\\n",
       "664      neutral        joelmagic  @emlevins   neutral              1   \n",
       "1007     sadness      CiaranActon   not well  negative              0   \n",
       "1472     neutral         jicholls  lonely ..   neutral              0   \n",
       "1538     neutral     lizziemoogle   Hangover   neutral              0   \n",
       "1821     neutral  MarianellaCorde  So tired.   neutral              0   \n",
       "2206     neutral       Aaron32514    nothing   neutral              0   \n",
       "2311     neutral        the_mitch   backache   neutral              0   \n",
       "2501     sadness   WanderingSwede   Headache  negative              0   \n",
       "2675     neutral           iliana   picat 21   neutral              0   \n",
       "2740       worry      hippyhayley    so cold  negative              0   \n",
       "3303     neutral             pajp   woke up.   neutral              0   \n",
       "3316     neutral       chibi_sora   So tired   neutral              0   \n",
       "3883       worry      ayashcliche   careless  negative              0   \n",
       "4175    surprise     briefy_leigh    What!?!  positive              0   \n",
       "4316     sadness     young_drakes    Work...  negative              0   \n",
       "5087     neutral         imamulki  I hate PC   neutral              0   \n",
       "5243     neutral     marcolindoso  to doente   neutral              0   \n",
       "5473     neutral   brianisawesome    @aigulf   neutral              1   \n",
       "5961     neutral          MsRudie   Its cold   neutral              0   \n",
       "6265     neutral     taylor_bsstt   Cleaning   neutral              0   \n",
       "6300     neutral          mahpoli  ACABOU!!!   neutral              0   \n",
       "6591     sadness      Zoraida1980   Headache  negative              0   \n",
       "6718     sadness       jimifan212   headache  negative              0   \n",
       "7190     sadness    circadianwolf    bad day  negative              0   \n",
       "7942       worry          LuGrace   headache  negative              0   \n",
       "10379    neutral       Groovy_Eeb  He's off!   neutral              0   \n",
       "10507    neutral  leeconnolly1990    Workin.   neutral              0   \n",
       "10541    neutral       MyNamesJon    Boreedd   neutral              0   \n",
       "10883    neutral         mammax42    at work   neutral              0   \n",
       "11145    neutral       YoungFlame  @yeshenia   neutral              1   \n",
       "...          ...              ...        ...       ...            ...   \n",
       "31367   surprise           izak09    Really!  positive              0   \n",
       "31857    neutral    kalycetrafton  Goodnight   neutral              0   \n",
       "31954    neutral            Arhum   painting   neutral              0   \n",
       "32001      worry      s_beautiful  is on air  negative              0   \n",
       "32262    neutral       Breezy_boo  FO SHOWWW   neutral              0   \n",
       "32730    neutral          fbabytv    round 2   neutral              0   \n",
       "32768    neutral        bloomie16  painting!   neutral              0   \n",
       "32794    neutral      danielly006  goodnight   neutral              0   \n",
       "32818    neutral      JoeDemiJemi    writing   neutral              0   \n",
       "32875    neutral  verbumveritatis  Thank you   neutral              0   \n",
       "32993      worry    dannylonestar   Wal mart  negative              0   \n",
       "33849    neutral    AngelicaBeanz   @shaevvv   neutral              1   \n",
       "34025      empty   candycandycane    texting       NaN              0   \n",
       "34345    neutral       pamsprayng  Its 11:11   neutral              0   \n",
       "34350  happiness        chenalora    freedom  positive              0   \n",
       "34378    neutral       marcocolin     is off   neutral              0   \n",
       "34404    neutral        Milliah16    Eating.   neutral              0   \n",
       "34812  happiness   JacobGoesGreen  home now!  positive              0   \n",
       "34952    neutral        KessaLynn  @bbheaven   neutral              1   \n",
       "35088    sadness        missy1234   Memories  negative              0   \n",
       "35721     relief         imdinnar   success!  positive              0   \n",
       "35889       hate          leatron    FUCK EM  negative              0   \n",
       "36603    neutral           CodyOW  Goodnight   neutral              0   \n",
       "37284    neutral          NofarSh    At Home   neutral              0   \n",
       "37311  happiness        happy_jan  Yes, I am  positive              0   \n",
       "37457    neutral       aaaaaaanna  bbq party   neutral              0   \n",
       "37602     relief      SweetnnSour  I Got it!  positive              0   \n",
       "37646  happiness          xkirsti   chilling  positive              0   \n",
       "37706    neutral     jordanhowell    Howdyyy   neutral              0   \n",
       "37919     relief    underpressure  New toys.  positive              0   \n",
       "\n",
       "       hashtag_count  char_count  has_link  \n",
       "664                0           9         0  \n",
       "1007               0           8         0  \n",
       "1472               0           9         0  \n",
       "1538               0           8         0  \n",
       "1821               0           9         0  \n",
       "2206               0           7         0  \n",
       "2311               0           8         0  \n",
       "2501               0           8         0  \n",
       "2675               0           8         0  \n",
       "2740               0           7         0  \n",
       "3303               0           8         0  \n",
       "3316               0           8         0  \n",
       "3883               0           8         0  \n",
       "4175               0           7         0  \n",
       "4316               0           7         0  \n",
       "5087               0           9         0  \n",
       "5243               0           9         0  \n",
       "5473               0           7         0  \n",
       "5961               0           8         0  \n",
       "6265               0           8         0  \n",
       "6300               0           9         0  \n",
       "6591               0           8         0  \n",
       "6718               0           8         0  \n",
       "7190               0           7         0  \n",
       "7942               0           8         0  \n",
       "10379              0           9         0  \n",
       "10507              0           7         0  \n",
       "10541              0           7         0  \n",
       "10883              0           7         0  \n",
       "11145              0           9         0  \n",
       "...              ...         ...       ...  \n",
       "31367              0           7         0  \n",
       "31857              0           9         0  \n",
       "31954              0           8         0  \n",
       "32001              0           9         0  \n",
       "32262              0           9         0  \n",
       "32730              0           7         0  \n",
       "32768              0           9         0  \n",
       "32794              0           9         0  \n",
       "32818              0           7         0  \n",
       "32875              0           9         0  \n",
       "32993              0           8         0  \n",
       "33849              0           8         0  \n",
       "34025              0           7         0  \n",
       "34345              0           9         0  \n",
       "34350              0           7         0  \n",
       "34378              0           6         0  \n",
       "34404              0           7         0  \n",
       "34812              0           9         0  \n",
       "34952              0           9         0  \n",
       "35088              0           8         0  \n",
       "35721              0           8         0  \n",
       "35889              0           7         0  \n",
       "36603              0           9         0  \n",
       "37284              0           7         0  \n",
       "37311              0           9         0  \n",
       "37457              0           9         0  \n",
       "37602              0           9         0  \n",
       "37646              0           8         0  \n",
       "37706              0           7         0  \n",
       "37919              0           9         0  \n",
       "\n",
       "[123 rows x 8 columns]"
      ]
     },
     "execution_count": 82,
     "metadata": {},
     "output_type": "execute_result"
    }
   ],
   "source": [
    "# Detect tweets which contain only links\n",
    "df[df.content.str.replace(r'http[^\\s]+', 'HTTP').str.len()<10]"
   ]
  },
  {
   "cell_type": "markdown",
   "metadata": {},
   "source": [
    "#### Punctuations"
   ]
  },
  {
   "cell_type": "markdown",
   "metadata": {},
   "source": [
    "**!**"
   ]
  },
  {
   "cell_type": "code",
   "execution_count": 56,
   "metadata": {},
   "outputs": [
    {
     "data": {
      "text/plain": [
       "0.2944885507875322"
      ]
     },
     "execution_count": 56,
     "metadata": {},
     "output_type": "execute_result"
    }
   ],
   "source": [
    "# Look for exclamation point !\n",
    "df.content.str.contains(\"!\").mean()"
   ]
  },
  {
   "cell_type": "markdown",
   "metadata": {},
   "source": [
    "It is very interesting that almost one third of all the tweets contain `!`."
   ]
  },
  {
   "cell_type": "code",
   "execution_count": 58,
   "metadata": {},
   "outputs": [
    {
     "data": {
      "text/html": [
       "<div>\n",
       "<style scoped>\n",
       "    .dataframe tbody tr th:only-of-type {\n",
       "        vertical-align: middle;\n",
       "    }\n",
       "\n",
       "    .dataframe tbody tr th {\n",
       "        vertical-align: top;\n",
       "    }\n",
       "\n",
       "    .dataframe thead th {\n",
       "        text-align: right;\n",
       "    }\n",
       "</style>\n",
       "<table border=\"1\" class=\"dataframe\">\n",
       "  <thead>\n",
       "    <tr style=\"text-align: right;\">\n",
       "      <th></th>\n",
       "      <th>sentiment</th>\n",
       "      <th>author</th>\n",
       "      <th>content</th>\n",
       "    </tr>\n",
       "  </thead>\n",
       "  <tbody>\n",
       "    <tr>\n",
       "      <th>3</th>\n",
       "      <td>enthusiasm</td>\n",
       "      <td>czareaquino</td>\n",
       "      <td>wants to hang out with friends SOON!</td>\n",
       "    </tr>\n",
       "    <tr>\n",
       "      <th>6</th>\n",
       "      <td>sadness</td>\n",
       "      <td>ShansBee</td>\n",
       "      <td>I should be sleep, but im not! thinking about an old friend who I want. but he's married now. damn, &amp;amp; he wants me 2! scandalous!</td>\n",
       "    </tr>\n",
       "    <tr>\n",
       "      <th>12</th>\n",
       "      <td>sadness</td>\n",
       "      <td>Danied32</td>\n",
       "      <td>Ugh! I have to beat this stupid song to get to the next  rude!</td>\n",
       "    </tr>\n",
       "    <tr>\n",
       "      <th>20</th>\n",
       "      <td>worry</td>\n",
       "      <td>andreagauster</td>\n",
       "      <td>@raaaaaaek oh too bad! I hope it gets better. I've been having sleep issues lately too</td>\n",
       "    </tr>\n",
       "    <tr>\n",
       "      <th>26</th>\n",
       "      <td>sadness</td>\n",
       "      <td>LilithGaea</td>\n",
       "      <td>@IsaacMascote  i'm sorry people are so rude to you, isaac, they should get some manners and know better than to be so lewd!</td>\n",
       "    </tr>\n",
       "  </tbody>\n",
       "</table>\n",
       "</div>"
      ],
      "text/plain": [
       "     sentiment         author  \\\n",
       "3   enthusiasm    czareaquino   \n",
       "6      sadness       ShansBee   \n",
       "12     sadness       Danied32   \n",
       "20       worry  andreagauster   \n",
       "26     sadness     LilithGaea   \n",
       "\n",
       "                                                                                                                                 content  \n",
       "3                                                                                                   wants to hang out with friends SOON!  \n",
       "6   I should be sleep, but im not! thinking about an old friend who I want. but he's married now. damn, &amp; he wants me 2! scandalous!  \n",
       "12                                                                        Ugh! I have to beat this stupid song to get to the next  rude!  \n",
       "20                                                @raaaaaaek oh too bad! I hope it gets better. I've been having sleep issues lately too  \n",
       "26           @IsaacMascote  i'm sorry people are so rude to you, isaac, they should get some manners and know better than to be so lewd!  "
      ]
     },
     "execution_count": 58,
     "metadata": {},
     "output_type": "execute_result"
    }
   ],
   "source": [
    "df[df.content.str.contains(\"!\")].head()"
   ]
  },
  {
   "cell_type": "code",
   "execution_count": 67,
   "metadata": {},
   "outputs": [
    {
     "data": {
      "text/plain": [
       "happiness     0.204317\n",
       "worry         0.181952\n",
       "neutral       0.138263\n",
       "love          0.132975\n",
       "sadness       0.107576\n",
       "surprise      0.067961\n",
       "fun           0.059813\n",
       "relief        0.039442\n",
       "hate          0.035801\n",
       "enthusiasm    0.025399\n",
       "boredom       0.003381\n",
       "anger         0.003121\n",
       "Name: sentiment, dtype: float64"
      ]
     },
     "execution_count": 67,
     "metadata": {},
     "output_type": "execute_result"
    }
   ],
   "source": [
    "# Value counts for \"!\"\n",
    "df[df.content.str.contains(\"!\")].sentiment.value_counts(normalize=True)"
   ]
  },
  {
   "cell_type": "code",
   "execution_count": 64,
   "metadata": {},
   "outputs": [
    {
     "data": {
      "text/plain": [
       "neutral       0.220509\n",
       "worry         0.215940\n",
       "happiness     0.132974\n",
       "sadness       0.131851\n",
       "love          0.098078\n",
       "surprise      0.055829\n",
       "fun           0.045337\n",
       "relief        0.038955\n",
       "hate          0.033773\n",
       "enthusiasm    0.019376\n",
       "boredom       0.004569\n",
       "anger         0.002808\n",
       "Name: sentiment, dtype: float64"
      ]
     },
     "execution_count": 64,
     "metadata": {},
     "output_type": "execute_result"
    }
   ],
   "source": [
    "df.sentiment.value_counts(normalize=True)"
   ]
  },
  {
   "cell_type": "code",
   "execution_count": 80,
   "metadata": {},
   "outputs": [
    {
     "data": {
      "text/plain": [
       "sentiment\n",
       "neutral       0.184649\n",
       "boredom       0.217877\n",
       "sadness       0.240271\n",
       "worry         0.248138\n",
       "relief        0.298165\n",
       "hate          0.312169\n",
       "anger         0.327273\n",
       "surprise      0.358482\n",
       "enthusiasm    0.386034\n",
       "fun           0.388514\n",
       "love          0.399271\n",
       "happiness     0.452486\n",
       "Name: content, dtype: float64"
      ]
     },
     "execution_count": 80,
     "metadata": {},
     "output_type": "execute_result"
    }
   ],
   "source": [
    "# Distribution of ! among emotions\n",
    "df.groupby('sentiment').content.apply(lambda x: x.str.contains(\"!\").mean()).sort_values()"
   ]
  },
  {
   "cell_type": "markdown",
   "metadata": {},
   "source": [
    "`!` is clearly used more to express happiness orsome othe positive sentiment."
   ]
  },
  {
   "cell_type": "code",
   "execution_count": 82,
   "metadata": {},
   "outputs": [],
   "source": [
    "# Create a new column \"ex_point\"\n",
    "df['ex_point'] = df.content.str.contains(\"!\")*1"
   ]
  },
  {
   "cell_type": "markdown",
   "metadata": {},
   "source": [
    "**?**"
   ]
  },
  {
   "cell_type": "code",
   "execution_count": 70,
   "metadata": {},
   "outputs": [
    {
     "data": {
      "text/plain": [
       "0.10703801087483726"
      ]
     },
     "execution_count": 70,
     "metadata": {},
     "output_type": "execute_result"
    }
   ],
   "source": [
    "# Look for question mark ?\n",
    "df.content.str.contains(\"\\?\").mean()"
   ]
  },
  {
   "cell_type": "code",
   "execution_count": 72,
   "metadata": {},
   "outputs": [
    {
     "data": {
      "text/plain": [
       "neutral       0.253041\n",
       "worry         0.247317\n",
       "surprise      0.102313\n",
       "sadness       0.101359\n",
       "happiness     0.093728\n",
       "love          0.068686\n",
       "fun           0.047699\n",
       "hate          0.029573\n",
       "relief        0.025996\n",
       "enthusiasm    0.022180\n",
       "anger         0.004531\n",
       "boredom       0.003577\n",
       "Name: sentiment, dtype: float64"
      ]
     },
     "execution_count": 72,
     "metadata": {},
     "output_type": "execute_result"
    }
   ],
   "source": [
    "# Value counts for ?\n",
    "df[df.content.str.contains(\"\\?\")].sentiment.value_counts(normalize=True)"
   ]
  },
  {
   "cell_type": "code",
   "execution_count": 83,
   "metadata": {},
   "outputs": [],
   "source": [
    "# Create a new column \"qu_mark\"\n",
    "df['qu_mark'] = df.content.str.contains(\"\\?\")*1"
   ]
  },
  {
   "cell_type": "markdown",
   "metadata": {},
   "source": [
    "**...**"
   ]
  },
  {
   "cell_type": "code",
   "execution_count": 77,
   "metadata": {},
   "outputs": [
    {
     "data": {
      "text/plain": [
       "0.18331503841931943"
      ]
     },
     "execution_count": 77,
     "metadata": {},
     "output_type": "execute_result"
    }
   ],
   "source": [
    "# Look for ..\n",
    "df.content.str.contains(\"\\.\\.+\").mean()"
   ]
  },
  {
   "cell_type": "code",
   "execution_count": 78,
   "metadata": {},
   "outputs": [
    {
     "data": {
      "text/html": [
       "<div>\n",
       "<style scoped>\n",
       "    .dataframe tbody tr th:only-of-type {\n",
       "        vertical-align: middle;\n",
       "    }\n",
       "\n",
       "    .dataframe tbody tr th {\n",
       "        vertical-align: top;\n",
       "    }\n",
       "\n",
       "    .dataframe thead th {\n",
       "        text-align: right;\n",
       "    }\n",
       "</style>\n",
       "<table border=\"1\" class=\"dataframe\">\n",
       "  <thead>\n",
       "    <tr style=\"text-align: right;\">\n",
       "      <th></th>\n",
       "      <th>sentiment</th>\n",
       "      <th>author</th>\n",
       "      <th>content</th>\n",
       "    </tr>\n",
       "  </thead>\n",
       "  <tbody>\n",
       "    <tr>\n",
       "      <th>1</th>\n",
       "      <td>sadness</td>\n",
       "      <td>wannamama</td>\n",
       "      <td>Layin n bed with a headache  ughhhh...waitin on your call...</td>\n",
       "    </tr>\n",
       "    <tr>\n",
       "      <th>2</th>\n",
       "      <td>sadness</td>\n",
       "      <td>coolfunky</td>\n",
       "      <td>Funeral ceremony...gloomy friday...</td>\n",
       "    </tr>\n",
       "    <tr>\n",
       "      <th>19</th>\n",
       "      <td>sadness</td>\n",
       "      <td>cleepow</td>\n",
       "      <td>How are YOU convinced that I have always wanted you? What signals did I give off...damn I think I just lost another friend</td>\n",
       "    </tr>\n",
       "    <tr>\n",
       "      <th>21</th>\n",
       "      <td>fun</td>\n",
       "      <td>schiz0phren1c</td>\n",
       "      <td>Wondering why I'm awake at 7am,writing a new song,plotting my evil secret plots muahahaha...oh damn it,not secret anymore</td>\n",
       "    </tr>\n",
       "    <tr>\n",
       "      <th>23</th>\n",
       "      <td>worry</td>\n",
       "      <td>sweet8181</td>\n",
       "      <td>I ate Something I don't know what it is... Why do I keep Telling things about food</td>\n",
       "    </tr>\n",
       "  </tbody>\n",
       "</table>\n",
       "</div>"
      ],
      "text/plain": [
       "   sentiment         author  \\\n",
       "1    sadness      wannamama   \n",
       "2    sadness      coolfunky   \n",
       "19   sadness        cleepow   \n",
       "21       fun  schiz0phren1c   \n",
       "23     worry      sweet8181   \n",
       "\n",
       "                                                                                                                       content  \n",
       "1                                                                 Layin n bed with a headache  ughhhh...waitin on your call...  \n",
       "2                                                                                          Funeral ceremony...gloomy friday...  \n",
       "19  How are YOU convinced that I have always wanted you? What signals did I give off...damn I think I just lost another friend  \n",
       "21   Wondering why I'm awake at 7am,writing a new song,plotting my evil secret plots muahahaha...oh damn it,not secret anymore  \n",
       "23                                          I ate Something I don't know what it is... Why do I keep Telling things about food  "
      ]
     },
     "execution_count": 78,
     "metadata": {},
     "output_type": "execute_result"
    }
   ],
   "source": [
    "df[df.content.str.contains(r\"\\.\\.\")].head()"
   ]
  },
  {
   "cell_type": "markdown",
   "metadata": {},
   "source": [
    "It is also interesting that more almost 1/5 of the tweets contain multiple periods (.. or ... or .... etc)"
   ]
  },
  {
   "cell_type": "code",
   "execution_count": 79,
   "metadata": {},
   "outputs": [
    {
     "data": {
      "text/plain": [
       "worry         0.242585\n",
       "neutral       0.181312\n",
       "sadness       0.160980\n",
       "happiness     0.119482\n",
       "love          0.086617\n",
       "surprise      0.058905\n",
       "fun           0.045815\n",
       "relief        0.042055\n",
       "hate          0.036207\n",
       "enthusiasm    0.017825\n",
       "boredom       0.005570\n",
       "anger         0.002646\n",
       "Name: sentiment, dtype: float64"
      ]
     },
     "execution_count": 79,
     "metadata": {},
     "output_type": "execute_result"
    }
   ],
   "source": [
    "df[df.content.str.contains(\"\\.\\.+\")].sentiment.value_counts(normalize=True)"
   ]
  },
  {
   "cell_type": "markdown",
   "metadata": {},
   "source": [
    "Multiple periods represent more \"worry\" sentiment."
   ]
  },
  {
   "cell_type": "code",
   "execution_count": 81,
   "metadata": {},
   "outputs": [
    {
     "data": {
      "text/plain": [
       "sentiment\n",
       "neutral       0.150729\n",
       "love          0.161895\n",
       "happiness     0.164715\n",
       "enthusiasm    0.168643\n",
       "anger         0.172727\n",
       "fun           0.185248\n",
       "surprise      0.193416\n",
       "hate          0.196523\n",
       "relief        0.197903\n",
       "worry         0.205935\n",
       "boredom       0.223464\n",
       "sadness       0.223814\n",
       "Name: content, dtype: float64"
      ]
     },
     "execution_count": 81,
     "metadata": {},
     "output_type": "execute_result"
    }
   ],
   "source": [
    "# Distribution of ! among emotions\n",
    "df.groupby('sentiment').content.apply(lambda x: x.str.contains(\"\\.\\.+\").mean()).sort_values()"
   ]
  },
  {
   "cell_type": "code",
   "execution_count": 85,
   "metadata": {},
   "outputs": [],
   "source": [
    "# Create a new column \"multi_period\"\n",
    "df['multi_period'] = df.content.str.contains(\"\\.\\.+\")*1"
   ]
  },
  {
   "cell_type": "markdown",
   "metadata": {},
   "source": [
    "#### Preprocessing Function"
   ]
  },
  {
   "cell_type": "code",
   "execution_count": 96,
   "metadata": {},
   "outputs": [],
   "source": [
    "def preprocess_tweet(tweet):\n",
    "    \n",
    "    # To lowercase (not good for VADER)\n",
    "    tweet = tweet.lower()\n",
    "    \n",
    "    # Remove HTML special entities (e.g. &amp;)\n",
    "    tweet = re.sub(r'\\&\\w*;', '', tweet)\n",
    "    \n",
    "    #Convert @username to \"@user\"\n",
    "    tweet = re.sub('@[^\\s]+','@user',tweet)\n",
    "    \n",
    "    # Remove whitespace (including new line characters)\n",
    "    tweet = re.sub(r'\\s\\s+', ' ', tweet)\n",
    "    \n",
    "    # Remove single space remaining at the front of the tweet.\n",
    "    tweet = tweet.lstrip(' ')\n",
    "    \n",
    "    # Remove characters beyond Basic Multilingual Plane (BMP) of Unicode:\n",
    "    tweet = ''.join(c for c in tweet if c <= '\\uFFFF')\n",
    "    \n",
    "    # Convert hyperlinks ->>>> For now just replace with http\n",
    "    tweet = re.sub(r'https?:\\/\\/.*\\/\\w*', 'http', tweet)\n",
    "\n",
    "#     #Remove @user\n",
    "#     tweet = re.sub('@[^\\s]+','',tweet)\n",
    "    \n",
    "#     # Remove tickers such as USD ($)\n",
    "#     tweet = re.sub(r'\\$\\w*', '', tweet)\n",
    "    \n",
    "#     # Remove hashtags (not good for VADER)\n",
    "#     tweet = re.sub(r'#\\w*', '', tweet)\n",
    "    \n",
    "#     # Remove Punctuation and split 's, 't, 've with a space for filter\n",
    "#     tweet = re.sub(r'[' + punctuation.replace('@', '') + ']+', ' ', tweet)\n",
    "    \n",
    "#     # Remove words with 2 or fewer letters\n",
    "#     tweet = re.sub(r'\\b\\w{1,2}\\b', '', tweet)\n",
    "\n",
    "    return tweet\n",
    "\n",
    "# Preprocess \"content\"\n",
    "df['content'] = df.content.apply(preprocess_tweet)"
   ]
  },
  {
   "cell_type": "markdown",
   "metadata": {
    "toc-hr-collapsed": true
   },
   "source": [
    "#### Detect Language"
   ]
  },
  {
   "cell_type": "markdown",
   "metadata": {},
   "source": [
    "##### TextBlob"
   ]
  },
  {
   "cell_type": "code",
   "execution_count": 37,
   "metadata": {},
   "outputs": [],
   "source": [
    "# from textblob import TextBlob\n",
    "# # b = TextBlob(\"merhaba\")\n",
    "# # b.detect_language()\n",
    "\n",
    "# from time import sleep\n",
    "\n",
    "# def detect_lan(tweet):\n",
    "\n",
    "#     sleep(.01)\n",
    "#     try:\n",
    "#         return TextBlob(tweet).detect_language()\n",
    "#     except:\n",
    "#         return np.nan\n",
    "\n",
    "# df['language'] = df.content.apply(detect_lan)"
   ]
  },
  {
   "cell_type": "code",
   "execution_count": 38,
   "metadata": {},
   "outputs": [],
   "source": [
    "# df['language'] = df.content.apply(lambda tweet: TextBlob(tweet).detect_language())"
   ]
  },
  {
   "cell_type": "markdown",
   "metadata": {},
   "source": [
    "TextBlob's language detection function uses Google translate API. It gives an error to high number of queries."
   ]
  },
  {
   "cell_type": "markdown",
   "metadata": {},
   "source": [
    "##### langdetect"
   ]
  },
  {
   "cell_type": "code",
   "execution_count": 39,
   "metadata": {},
   "outputs": [],
   "source": [
    "# from langdetect import detect\n",
    "# df['language'] = df.content.apply(lambda tweet: detect(tweet))\n",
    "\n",
    "# # Print detected languages\n",
    "# df['language'].value_counts()"
   ]
  },
  {
   "cell_type": "code",
   "execution_count": 40,
   "metadata": {},
   "outputs": [],
   "source": [
    "# df[df['language']!='en'].sample(10)"
   ]
  },
  {
   "cell_type": "markdown",
   "metadata": {},
   "source": [
    "It seems that most of the tweets that are detected as non-English have mistakes in the words, such as missing a letter or having extra characters, or they have mentions. Let's see the results w/o mentions."
   ]
  },
  {
   "cell_type": "code",
   "execution_count": 115,
   "metadata": {},
   "outputs": [],
   "source": [
    "# def detect_language(tweet):\n",
    "#     try:\n",
    "#         return detect(tweet)\n",
    "#     except:\n",
    "#         return \"unknown\""
   ]
  },
  {
   "cell_type": "code",
   "execution_count": 63,
   "metadata": {},
   "outputs": [],
   "source": [
    "# # Detect language of tweets without mentions\n",
    "# df['language'] = df.content.str.replace(\"@\\w+\", \"\").apply(detect_language)"
   ]
  },
  {
   "cell_type": "code",
   "execution_count": 41,
   "metadata": {},
   "outputs": [],
   "source": [
    "# df['language'].value_counts()"
   ]
  },
  {
   "cell_type": "markdown",
   "metadata": {},
   "source": [
    "The number of \"en\"s is decreased. We may need to perform tokenization and preprocessing in order to get legit results from text detection."
   ]
  },
  {
   "cell_type": "markdown",
   "metadata": {},
   "source": [
    "Whether these tweets are really non-English or incorrect written sentences, they may be dropped for the quality of the analysis.\n",
    "\n",
    "> NEEDS FURTHER INVESTIGATION"
   ]
  },
  {
   "cell_type": "markdown",
   "metadata": {},
   "source": [
    "##### FastText (by Facebook)\n",
    "\n",
    "FastText performed better than `TextBlob` and `langdetect` for the language detection. Therefore, I'll use it for final detection."
   ]
  },
  {
   "cell_type": "code",
   "execution_count": 49,
   "metadata": {},
   "outputs": [],
   "source": [
    "#!pip install fasttext\n",
    "\n",
    "# Model link: https://dl.fbaipublicfiles.com/fasttext/supervised-models/lid.176.bin"
   ]
  },
  {
   "cell_type": "code",
   "execution_count": 97,
   "metadata": {},
   "outputs": [
    {
     "name": "stderr",
     "output_type": "stream",
     "text": [
      "\n"
     ]
    }
   ],
   "source": [
    "# import fasttext\n",
    "\n",
    "language_model = fasttext.load_model('data/lid.176.bin')\n",
    "\n",
    "def detect_fasttext(tweet):\n",
    "    prediction = language_model.predict(tweet)\n",
    "    label = prediction[0][0].split(\"__label__\")[1]\n",
    "    return label\n",
    "\n",
    "df['language'] = df.content.apply(detect_fasttext)"
   ]
  },
  {
   "cell_type": "code",
   "execution_count": 98,
   "metadata": {},
   "outputs": [
    {
     "data": {
      "text/plain": [
       "en     39367\n",
       "de       118\n",
       "ja        88\n",
       "es        81\n",
       "pt        53\n",
       "fr        52\n",
       "nl        25\n",
       "it        19\n",
       "tl        15\n",
       "ro        14\n",
       "zh        13\n",
       "fi        13\n",
       "no        12\n",
       "id        11\n",
       "hu         9\n",
       "ca         8\n",
       "tr         8\n",
       "ru         7\n",
       "cs         7\n",
       "sv         7\n",
       "ms         5\n",
       "eo         4\n",
       "et         4\n",
       "pl         4\n",
       "ceb        3\n",
       "ia         3\n",
       "la         2\n",
       "da         2\n",
       "vi         2\n",
       "gl         2\n",
       "si         2\n",
       "uz         2\n",
       "lb         2\n",
       "sq         2\n",
       "cy         2\n",
       "nds        2\n",
       "nn         2\n",
       "hr         2\n",
       "ilo        1\n",
       "sw         1\n",
       "ta         1\n",
       "dv         1\n",
       "sa         1\n",
       "eu         1\n",
       "gu         1\n",
       "ga         1\n",
       "qu         1\n",
       "hy         1\n",
       "az         1\n",
       "fy         1\n",
       "ast        1\n",
       "jbo        1\n",
       "io         1\n",
       "uk         1\n",
       "km         1\n",
       "kk         1\n",
       "ba         1\n",
       "el         1\n",
       "kw         1\n",
       "ko         1\n",
       "Name: language, dtype: int64"
      ]
     },
     "execution_count": 98,
     "metadata": {},
     "output_type": "execute_result"
    }
   ],
   "source": [
    "df.language.value_counts()"
   ]
  },
  {
   "cell_type": "markdown",
   "metadata": {},
   "source": [
    "Accuracy is clearly higher with FastText language identifier."
   ]
  },
  {
   "cell_type": "code",
   "execution_count": 101,
   "metadata": {},
   "outputs": [
    {
     "data": {
      "text/plain": [
       "0.9842734273427343"
      ]
     },
     "execution_count": 101,
     "metadata": {},
     "output_type": "execute_result"
    }
   ],
   "source": [
    "# Average # of english tweets (detected by fasttext)\n",
    "(df.language==\"en\").mean()"
   ]
  },
  {
   "cell_type": "code",
   "execution_count": 102,
   "metadata": {},
   "outputs": [
    {
     "data": {
      "text/plain": [
       "629"
      ]
     },
     "execution_count": 102,
     "metadata": {},
     "output_type": "execute_result"
    }
   ],
   "source": [
    "# Total # of non-English tweets (detected by fasttext)\n",
    "(df.language!=\"en\").sum()"
   ]
  },
  {
   "cell_type": "code",
   "execution_count": 99,
   "metadata": {},
   "outputs": [
    {
     "data": {
      "text/html": [
       "<div>\n",
       "<style scoped>\n",
       "    .dataframe tbody tr th:only-of-type {\n",
       "        vertical-align: middle;\n",
       "    }\n",
       "\n",
       "    .dataframe tbody tr th {\n",
       "        vertical-align: top;\n",
       "    }\n",
       "\n",
       "    .dataframe thead th {\n",
       "        text-align: right;\n",
       "    }\n",
       "</style>\n",
       "<table border=\"1\" class=\"dataframe\">\n",
       "  <thead>\n",
       "    <tr style=\"text-align: right;\">\n",
       "      <th></th>\n",
       "      <th>sentiment</th>\n",
       "      <th>author</th>\n",
       "      <th>content</th>\n",
       "      <th>polarity</th>\n",
       "      <th>mention_count</th>\n",
       "      <th>hashtag_count</th>\n",
       "      <th>char_count</th>\n",
       "      <th>has_link</th>\n",
       "      <th>word_count</th>\n",
       "      <th>language</th>\n",
       "    </tr>\n",
       "  </thead>\n",
       "  <tbody>\n",
       "    <tr>\n",
       "      <th>10380</th>\n",
       "      <td>neutral</td>\n",
       "      <td>LuzGiussani</td>\n",
       "      <td>@user Hi jonas brothers you came to argentina la otra vez</td>\n",
       "      <td>neutral</td>\n",
       "      <td>1</td>\n",
       "      <td>0</td>\n",
       "      <td>68</td>\n",
       "      <td>0</td>\n",
       "      <td>11</td>\n",
       "      <td>es</td>\n",
       "    </tr>\n",
       "    <tr>\n",
       "      <th>23979</th>\n",
       "      <td>neutral</td>\n",
       "      <td>DeSchlang</td>\n",
       "      <td>Thx, Robban http</td>\n",
       "      <td>neutral</td>\n",
       "      <td>0</td>\n",
       "      <td>0</td>\n",
       "      <td>49</td>\n",
       "      <td>1</td>\n",
       "      <td>3</td>\n",
       "      <td>fr</td>\n",
       "    </tr>\n",
       "    <tr>\n",
       "      <th>31167</th>\n",
       "      <td>neutral</td>\n",
       "      <td>vicalexanderrr</td>\n",
       "      <td>Going Outro... Peace.</td>\n",
       "      <td>neutral</td>\n",
       "      <td>0</td>\n",
       "      <td>0</td>\n",
       "      <td>21</td>\n",
       "      <td>0</td>\n",
       "      <td>3</td>\n",
       "      <td>pt</td>\n",
       "    </tr>\n",
       "    <tr>\n",
       "      <th>32425</th>\n",
       "      <td>happiness</td>\n",
       "      <td>caityoh</td>\n",
       "      <td>making german apple slice nom nom nom</td>\n",
       "      <td>positive</td>\n",
       "      <td>0</td>\n",
       "      <td>0</td>\n",
       "      <td>38</td>\n",
       "      <td>0</td>\n",
       "      <td>7</td>\n",
       "      <td>fr</td>\n",
       "    </tr>\n",
       "    <tr>\n",
       "      <th>31346</th>\n",
       "      <td>neutral</td>\n",
       "      <td>VLightning</td>\n",
       "      <td>Om Nom Nom RICE PUDDING!</td>\n",
       "      <td>neutral</td>\n",
       "      <td>0</td>\n",
       "      <td>0</td>\n",
       "      <td>24</td>\n",
       "      <td>0</td>\n",
       "      <td>5</td>\n",
       "      <td>ca</td>\n",
       "    </tr>\n",
       "    <tr>\n",
       "      <th>21631</th>\n",
       "      <td>love</td>\n",
       "      <td>vomitandcheese</td>\n",
       "      <td>MY AUNTIE FROM QUEENSLAND IS DOWN TO STAY THE NIGHT! YAYA.</td>\n",
       "      <td>positive</td>\n",
       "      <td>0</td>\n",
       "      <td>0</td>\n",
       "      <td>58</td>\n",
       "      <td>0</td>\n",
       "      <td>11</td>\n",
       "      <td>ja</td>\n",
       "    </tr>\n",
       "    <tr>\n",
       "      <th>28429</th>\n",
       "      <td>neutral</td>\n",
       "      <td>AngelikSweet</td>\n",
       "      <td>Morning!! ... ^-^ escuchando el Soundtrack de Twilight que Gaby me trajoooooo! la adoro ...(muse, paramore, perry farrell...)</td>\n",
       "      <td>neutral</td>\n",
       "      <td>0</td>\n",
       "      <td>0</td>\n",
       "      <td>127</td>\n",
       "      <td>0</td>\n",
       "      <td>18</td>\n",
       "      <td>es</td>\n",
       "    </tr>\n",
       "    <tr>\n",
       "      <th>11492</th>\n",
       "      <td>sadness</td>\n",
       "      <td>Blackbarbie1988</td>\n",
       "      <td>so im super sick w/ a fever</td>\n",
       "      <td>negative</td>\n",
       "      <td>0</td>\n",
       "      <td>0</td>\n",
       "      <td>27</td>\n",
       "      <td>0</td>\n",
       "      <td>7</td>\n",
       "      <td>de</td>\n",
       "    </tr>\n",
       "    <tr>\n",
       "      <th>33234</th>\n",
       "      <td>love</td>\n",
       "      <td>jensinspired</td>\n",
       "      <td>@user yay!</td>\n",
       "      <td>positive</td>\n",
       "      <td>1</td>\n",
       "      <td>0</td>\n",
       "      <td>17</td>\n",
       "      <td>0</td>\n",
       "      <td>2</td>\n",
       "      <td>tr</td>\n",
       "    </tr>\n",
       "    <tr>\n",
       "      <th>19664</th>\n",
       "      <td>sadness</td>\n",
       "      <td>TFA2431</td>\n",
       "      <td>@user so now im bored..untill i go out</td>\n",
       "      <td>negative</td>\n",
       "      <td>1</td>\n",
       "      <td>0</td>\n",
       "      <td>47</td>\n",
       "      <td>0</td>\n",
       "      <td>8</td>\n",
       "      <td>de</td>\n",
       "    </tr>\n",
       "  </tbody>\n",
       "</table>\n",
       "</div>"
      ],
      "text/plain": [
       "       sentiment           author  \\\n",
       "10380    neutral      LuzGiussani   \n",
       "23979    neutral        DeSchlang   \n",
       "31167    neutral   vicalexanderrr   \n",
       "32425  happiness          caityoh   \n",
       "31346    neutral       VLightning   \n",
       "21631       love   vomitandcheese   \n",
       "28429    neutral     AngelikSweet   \n",
       "11492    sadness  Blackbarbie1988   \n",
       "33234       love     jensinspired   \n",
       "19664    sadness          TFA2431   \n",
       "\n",
       "                                                                                                                             content  \\\n",
       "10380                                                                      @user Hi jonas brothers you came to argentina la otra vez   \n",
       "23979                                                                                                               Thx, Robban http   \n",
       "31167                                                                                                          Going Outro... Peace.   \n",
       "32425                                                                                          making german apple slice nom nom nom   \n",
       "31346                                                                                                       Om Nom Nom RICE PUDDING!   \n",
       "21631                                                                     MY AUNTIE FROM QUEENSLAND IS DOWN TO STAY THE NIGHT! YAYA.   \n",
       "28429  Morning!! ... ^-^ escuchando el Soundtrack de Twilight que Gaby me trajoooooo! la adoro ...(muse, paramore, perry farrell...)   \n",
       "11492                                                                                                    so im super sick w/ a fever   \n",
       "33234                                                                                                                     @user yay!   \n",
       "19664                                                                                         @user so now im bored..untill i go out   \n",
       "\n",
       "       polarity  mention_count  hashtag_count  char_count  has_link  \\\n",
       "10380   neutral              1              0          68         0   \n",
       "23979   neutral              0              0          49         1   \n",
       "31167   neutral              0              0          21         0   \n",
       "32425  positive              0              0          38         0   \n",
       "31346   neutral              0              0          24         0   \n",
       "21631  positive              0              0          58         0   \n",
       "28429   neutral              0              0         127         0   \n",
       "11492  negative              0              0          27         0   \n",
       "33234  positive              1              0          17         0   \n",
       "19664  negative              1              0          47         0   \n",
       "\n",
       "       word_count language  \n",
       "10380          11       es  \n",
       "23979           3       fr  \n",
       "31167           3       pt  \n",
       "32425           7       fr  \n",
       "31346           5       ca  \n",
       "21631          11       ja  \n",
       "28429          18       es  \n",
       "11492           7       de  \n",
       "33234           2       tr  \n",
       "19664           8       de  "
      ]
     },
     "execution_count": 99,
     "metadata": {},
     "output_type": "execute_result"
    }
   ],
   "source": [
    "df[df['language'] != 'en'].sample(10)"
   ]
  },
  {
   "cell_type": "markdown",
   "metadata": {},
   "source": [
    "Almost all the tweets that are labeled as \"non-English\" contain mistakes or non-English words. We can therefore drop such rows from the dataset."
   ]
  },
  {
   "cell_type": "code",
   "execution_count": 103,
   "metadata": {},
   "outputs": [],
   "source": [
    "# Create a DataFrame only with english text\n",
    "df = df[df['language'] == 'en']\n",
    "\n",
    "# Drop the language column\n",
    "df.drop('language', axis=1, inplace=True)"
   ]
  },
  {
   "cell_type": "markdown",
   "metadata": {},
   "source": [
    "#### Extracting Other Features"
   ]
  },
  {
   "cell_type": "markdown",
   "metadata": {},
   "source": [
    "##### Proper Nouns"
   ]
  },
  {
   "cell_type": "code",
   "execution_count": 112,
   "metadata": {},
   "outputs": [],
   "source": [
    "# Load model\n",
    "nlp = spacy.load(\"en_core_web_sm\", disable=[\"parser\", \"ner\", \"textcat\"])"
   ]
  },
  {
   "cell_type": "code",
   "execution_count": 113,
   "metadata": {},
   "outputs": [],
   "source": [
    "# Returns number of proper nouns\n",
    "def num_proper_nouns(text, model=nlp):\n",
    "    # Create doc object\n",
    "    doc = model(text)\n",
    "    # Generate list of POS tags\n",
    "    pos = [token.pos_ for token in doc]\n",
    "    \n",
    "    # Return number of proper nouns\n",
    "    return pos.count(\"PROPN\")\n",
    "\n",
    "# Create a new column \"propn_count\"\n",
    "df['propn_count'] = df['content'].apply(num_proper_nouns)"
   ]
  },
  {
   "cell_type": "code",
   "execution_count": 114,
   "metadata": {},
   "outputs": [
    {
     "data": {
      "text/plain": [
       "<matplotlib.axes._subplots.AxesSubplot at 0x1a317384a8>"
      ]
     },
     "execution_count": 114,
     "metadata": {},
     "output_type": "execute_result"
    },
    {
     "data": {
      "image/png": "[encoded data removed]",
      "text/plain": [
       "<Figure size 432x288 with 1 Axes>"
      ]
     },
     "metadata": {
      "needs_background": "light"
     },
     "output_type": "display_data"
    }
   ],
   "source": [
    "df.propn_count.hist()"
   ]
  },
  {
   "cell_type": "code",
   "execution_count": 115,
   "metadata": {},
   "outputs": [
    {
     "data": {
      "text/plain": [
       "sentiment\n",
       "boredom       1.201149\n",
       "worry         1.261249\n",
       "relief        1.291831\n",
       "hate          1.295195\n",
       "sadness       1.296609\n",
       "anger         1.333333\n",
       "empty         1.339670\n",
       "neutral       1.429113\n",
       "enthusiasm    1.569519\n",
       "surprise      1.569714\n",
       "happiness     1.701420\n",
       "fun           1.778157\n",
       "love          1.821058\n",
       "Name: propn_count, dtype: float64"
      ]
     },
     "execution_count": 115,
     "metadata": {},
     "output_type": "execute_result"
    }
   ],
   "source": [
    "df.groupby('sentiment').propn_count.mean().sort_values()"
   ]
  },
  {
   "cell_type": "markdown",
   "metadata": {},
   "source": [
    "It appears to me that people tend to use proper nouns less often when they express negative sentiment. This might be a feature as well."
   ]
  },
  {
   "cell_type": "markdown",
   "metadata": {},
   "source": [
    "#### Polarity with VADER"
   ]
  },
  {
   "cell_type": "code",
   "execution_count": 51,
   "metadata": {},
   "outputs": [],
   "source": [
    "# Load SentimentIntensityAnalyzer\n",
    "from nltk.sentiment.vader import SentimentIntensityAnalyzer\n",
    "#from vaderSentiment.vaderSentiment import SentimentIntensityAnalyzer\n",
    "\n",
    "# Instantiate new SentimentIntensityAnalyzer\n",
    "analyzer = SentimentIntensityAnalyzer()\n",
    "\n",
    "def sentiment_analyzer(tweet):\n",
    "    '''\n",
    "    Evaluates polarity of a given sentence and returns the result.\n",
    "    '''\n",
    "    score = analyzer.polarity_scores(tweet)['compound']\n",
    "    if score > 0.05:\n",
    "        polarity = \"positive\"\n",
    "    elif score < -0.05:\n",
    "        polarity = \"negative\"\n",
    "    else:\n",
    "        polarity = \"neutral\"\n",
    "    \n",
    "    return polarity\n",
    "    \n",
    "df['polarity_vader'] = df.processed.apply(sentiment_analyzer)"
   ]
  },
  {
   "cell_type": "code",
   "execution_count": 54,
   "metadata": {},
   "outputs": [
    {
     "data": {
      "text/html": [
       "<div>\n",
       "<style scoped>\n",
       "    .dataframe tbody tr th:only-of-type {\n",
       "        vertical-align: middle;\n",
       "    }\n",
       "\n",
       "    .dataframe tbody tr th {\n",
       "        vertical-align: top;\n",
       "    }\n",
       "\n",
       "    .dataframe thead th {\n",
       "        text-align: right;\n",
       "    }\n",
       "</style>\n",
       "<table border=\"1\" class=\"dataframe\">\n",
       "  <thead>\n",
       "    <tr style=\"text-align: right;\">\n",
       "      <th></th>\n",
       "      <th>polarity</th>\n",
       "      <th>polarity_vader</th>\n",
       "    </tr>\n",
       "  </thead>\n",
       "  <tbody>\n",
       "    <tr>\n",
       "      <th>0</th>\n",
       "      <td>neutral</td>\n",
       "      <td>negative</td>\n",
       "    </tr>\n",
       "    <tr>\n",
       "      <th>1</th>\n",
       "      <td>negative</td>\n",
       "      <td>neutral</td>\n",
       "    </tr>\n",
       "    <tr>\n",
       "      <th>2</th>\n",
       "      <td>negative</td>\n",
       "      <td>negative</td>\n",
       "    </tr>\n",
       "    <tr>\n",
       "      <th>3</th>\n",
       "      <td>positive</td>\n",
       "      <td>positive</td>\n",
       "    </tr>\n",
       "    <tr>\n",
       "      <th>4</th>\n",
       "      <td>neutral</td>\n",
       "      <td>negative</td>\n",
       "    </tr>\n",
       "  </tbody>\n",
       "</table>\n",
       "</div>"
      ],
      "text/plain": [
       "   polarity polarity_vader\n",
       "0   neutral       negative\n",
       "1  negative        neutral\n",
       "2  negative       negative\n",
       "3  positive       positive\n",
       "4   neutral       negative"
      ]
     },
     "execution_count": 54,
     "metadata": {},
     "output_type": "execute_result"
    }
   ],
   "source": [
    "df[['polarity', 'polarity_vader']].head()"
   ]
  },
  {
   "cell_type": "code",
   "execution_count": 55,
   "metadata": {},
   "outputs": [
    {
     "data": {
      "text/plain": [
       "0.5432793279327933"
      ]
     },
     "execution_count": 55,
     "metadata": {},
     "output_type": "execute_result"
    }
   ],
   "source": [
    "(df.polarity == df.polarity_vader).mean()"
   ]
  },
  {
   "cell_type": "code",
   "execution_count": 58,
   "metadata": {},
   "outputs": [
    {
     "data": {
      "text/html": [
       "<div>\n",
       "<style scoped>\n",
       "    .dataframe tbody tr th:only-of-type {\n",
       "        vertical-align: middle;\n",
       "    }\n",
       "\n",
       "    .dataframe tbody tr th {\n",
       "        vertical-align: top;\n",
       "    }\n",
       "\n",
       "    .dataframe thead th {\n",
       "        text-align: right;\n",
       "    }\n",
       "</style>\n",
       "<table border=\"1\" class=\"dataframe\">\n",
       "  <thead>\n",
       "    <tr style=\"text-align: right;\">\n",
       "      <th></th>\n",
       "      <th>processed</th>\n",
       "      <th>polarity</th>\n",
       "      <th>polarity_vader</th>\n",
       "    </tr>\n",
       "  </thead>\n",
       "  <tbody>\n",
       "    <tr>\n",
       "      <th>21802</th>\n",
       "      <td>Another water leak in my appartement. The good side is that I get to meet the girls previous next floors</td>\n",
       "      <td>negative</td>\n",
       "      <td>positive</td>\n",
       "    </tr>\n",
       "    <tr>\n",
       "      <th>28351</th>\n",
       "      <td>And i ain't happy go lucky, its just today... The world don't feel ugly</td>\n",
       "      <td>neutral</td>\n",
       "      <td>negative</td>\n",
       "    </tr>\n",
       "    <tr>\n",
       "      <th>18678</th>\n",
       "      <td>@user or with any at all boo. suits and grey hair.</td>\n",
       "      <td>neutral</td>\n",
       "      <td>positive</td>\n",
       "    </tr>\n",
       "    <tr>\n",
       "      <th>2544</th>\n",
       "      <td>I didn't catch the Jonas Brothers Facebook Webcast... It already ended when I logged in to my Facebook account...</td>\n",
       "      <td>negative</td>\n",
       "      <td>neutral</td>\n",
       "    </tr>\n",
       "    <tr>\n",
       "      <th>11126</th>\n",
       "      <td>I really wanted that job</td>\n",
       "      <td>negative</td>\n",
       "      <td>neutral</td>\n",
       "    </tr>\n",
       "  </tbody>\n",
       "</table>\n",
       "</div>"
      ],
      "text/plain": [
       "                                                                                                               processed  \\\n",
       "21802           Another water leak in my appartement. The good side is that I get to meet the girls previous next floors   \n",
       "28351                                            And i ain't happy go lucky, its just today... The world don't feel ugly   \n",
       "18678                                                                 @user or with any at all boo. suits and grey hair.   \n",
       "2544   I didn't catch the Jonas Brothers Facebook Webcast... It already ended when I logged in to my Facebook account...   \n",
       "11126                                                                                           I really wanted that job   \n",
       "\n",
       "       polarity polarity_vader  \n",
       "21802  negative       positive  \n",
       "28351   neutral       negative  \n",
       "18678   neutral       positive  \n",
       "2544   negative        neutral  \n",
       "11126  negative        neutral  "
      ]
     },
     "execution_count": 58,
     "metadata": {},
     "output_type": "execute_result"
    }
   ],
   "source": [
    "df[df.polarity != df.polarity_vader][['processed', 'polarity', 'polarity_vader']].sample(5)"
   ]
  },
  {
   "cell_type": "markdown",
   "metadata": {},
   "source": [
    "The results of VADER does not seem to be very accurate, assuming that the emotions are correctly  categorized."
   ]
  }
 ],
 "metadata": {
  "kernelspec": {
   "display_name": "Python 3",
   "language": "python",
   "name": "python3"
  },
  "language_info": {
   "codemirror_mode": {
    "name": "ipython",
    "version": 3
   },
   "file_extension": ".py",
   "mimetype": "text/x-python",
   "name": "python",
   "nbconvert_exporter": "python",
   "pygments_lexer": "ipython3",
   "version": "3.7.3"
  },
  "toc-autonumbering": false
 },
 "nbformat": 4,
 "nbformat_minor": 4
}
