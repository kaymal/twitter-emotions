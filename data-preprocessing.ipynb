{
 "cells": [
  {
   "cell_type": "markdown",
   "metadata": {},
   "source": [
    "# Classifying Tweet Emotions"
   ]
  },
  {
   "cell_type": "markdown",
   "metadata": {},
   "source": [
    "## Data Preprocessing"
   ]
  },
  {
   "cell_type": "code",
   "execution_count": 6,
   "metadata": {},
   "outputs": [],
   "source": [
    "# Import necessary modules\n",
    "import pandas as pd\n",
    "import numpy as np\n",
    "import re\n",
    "import fasttext"
   ]
  },
  {
   "cell_type": "code",
   "execution_count": 23,
   "metadata": {},
   "outputs": [],
   "source": [
    "# Read data\n",
    "df = pd.read_csv('data/text_emotion.csv', usecols=list(range(1,4)))"
   ]
  },
  {
   "cell_type": "markdown",
   "metadata": {},
   "source": [
    "### Data Cleansing"
   ]
  },
  {
   "cell_type": "code",
   "execution_count": 24,
   "metadata": {},
   "outputs": [],
   "source": [
    "def preprocess_tweet(tweet):\n",
    "    \n",
    "    # To lowercase (not good for VADER)\n",
    "    tweet = tweet.lower()\n",
    "    \n",
    "    # Remove HTML special entities (e.g. &amp;)\n",
    "    tweet = re.sub(r'\\&\\w*;', '', tweet)\n",
    "    \n",
    "    #Convert @username to \"@user\"\n",
    "    tweet = re.sub('@[^\\s]+','@user',tweet)\n",
    "    \n",
    "    # Remove whitespace (including new line characters)\n",
    "    tweet = re.sub(r'\\s\\s+', ' ', tweet)\n",
    "    \n",
    "    # Remove single space remaining at the front of the tweet.\n",
    "    tweet = tweet.lstrip(' ')\n",
    "    \n",
    "    # Remove characters beyond Basic Multilingual Plane (BMP) of Unicode:\n",
    "    tweet = ''.join(c for c in tweet if c <= '\\uFFFF')\n",
    "    \n",
    "    # Convert hyperlinks ->>>> For now just replace with http\n",
    "    tweet = re.sub(r'https?:\\/\\/.*\\/\\w*', 'http', tweet)\n",
    "\n",
    "#     #Remove @user\n",
    "#     tweet = re.sub('@[^\\s]+','',tweet)\n",
    "    \n",
    "#     # Remove tickers such as USD ($)\n",
    "#     tweet = re.sub(r'\\$\\w*', '', tweet)\n",
    "    \n",
    "#     # Remove hashtags (not good for VADER)\n",
    "#     tweet = re.sub(r'#\\w*', '', tweet)\n",
    "    \n",
    "#     # Remove Punctuation and split 's, 't, 've with a space for filter\n",
    "#     tweet = re.sub(r'[' + punctuation.replace('@', '') + ']+', ' ', tweet)\n",
    "    \n",
    "#     # Remove words with 2 or fewer letters\n",
    "#     tweet = re.sub(r'\\b\\w{1,2}\\b', '', tweet)\n",
    "\n",
    "    return tweet\n",
    "\n",
    "# Preprocess \"content\"\n",
    "df['content'] = df.content.apply(preprocess_tweet)"
   ]
  },
  {
   "cell_type": "code",
   "execution_count": 25,
   "metadata": {},
   "outputs": [],
   "source": [
    "# Drop rows with sentiment \"empty\"\n",
    "df = df[df.sentiment != 'empty']\n",
    "\n",
    "# Drop rows with one or less characters in the tweet\n",
    "df.drop(df[df.content.str.len()<2].index, inplace=True)\n",
    "\n",
    "# Change sentiment of the tweets with only mentions to \"neutral\"\n",
    "df.loc[df.content.str.replace(\"@[^\\s]+\", \"\").str.len()<3, 'sentiment'] = \"neutral\""
   ]
  },
  {
   "cell_type": "markdown",
   "metadata": {},
   "source": [
    "### Feature Engineering"
   ]
  },
  {
   "cell_type": "code",
   "execution_count": 26,
   "metadata": {},
   "outputs": [],
   "source": [
    "# Create a sentiment dictionary to map EMOTIONS to SENTIMENTS.\n",
    "sentiment_dict = {'boredom': 'negative',\n",
    "                  'hate': 'negative',\n",
    "                  'sadness': 'negative',\n",
    "                  'anger': 'negative',\n",
    "                  'worry': 'negative',\n",
    "                  'relief': 'positive',\n",
    "                # 'empty': 'neutral',\n",
    "                  'happiness': 'positive',\n",
    "                  'love': 'positive',\n",
    "                  'enthusiasm': 'positive',\n",
    "                  'neutral': 'neutral',\n",
    "                  'surprise':'positive',\n",
    "                  'fun': 'positive'\n",
    "                 }\n",
    "\n",
    "# Create a feature \"polarity\"\n",
    "df['polarity'] = df.sentiment.map(sentiment_dict)"
   ]
  },
  {
   "cell_type": "code",
   "execution_count": 27,
   "metadata": {},
   "outputs": [],
   "source": [
    "def count_mentions(text):\n",
    "    '''Returns number of mentions in a string.'''\n",
    "    \n",
    "    # Split the string into words\n",
    "    words = text.split()\n",
    "    \n",
    "    # Create a list of words that are mentions\n",
    "    mentions = [word for word in words if word.startswith(\"@\")]\n",
    "    \n",
    "    # Return number of mentions\n",
    "    return(len(mentions))\n",
    "\n",
    "# Create a feature \"mention_count\"\n",
    "df['mention_count'] = df['content'].apply(count_mentions)"
   ]
  },
  {
   "cell_type": "code",
   "execution_count": 28,
   "metadata": {},
   "outputs": [],
   "source": [
    "def count_hashtags(text):\n",
    "    '''Returns number of hashtags in a text.'''\n",
    "    \n",
    "    # Split the string into words\n",
    "    words = text.split()\n",
    "    \n",
    "    # Create a list of words that are hashtags\n",
    "    hashtags = [word for word in words if word.startswith(\"#\")]\n",
    "    \n",
    "    # Return number of hashtags\n",
    "    return(len(hashtags))\n",
    "\n",
    "# Create a feature \"hashtag_count\"\n",
    "df['hashtag_count'] = df['content'].apply(count_hashtags)"
   ]
  },
  {
   "cell_type": "code",
   "execution_count": 29,
   "metadata": {},
   "outputs": [],
   "source": [
    "# Create a feature char_count\n",
    "df['char_count'] = df['content'].apply(len)\n",
    "\n",
    "# Create a new column \"has_link\"\n",
    "df['has_link'] = df.content.str.contains(\"http\")*1"
   ]
  },
  {
   "cell_type": "code",
   "execution_count": 30,
   "metadata": {},
   "outputs": [
    {
     "name": "stderr",
     "output_type": "stream",
     "text": [
      "\n"
     ]
    }
   ],
   "source": [
    "# Load pretrained language model\n",
    "language_model = fasttext.load_model('data/lid.176.bin')\n",
    "\n",
    "def detect_fasttext(tweet):\n",
    "    # Predict language\n",
    "    prediction = language_model.predict(tweet)\n",
    "    label = prediction[0][0].split(\"__label__\")[1]\n",
    "    return label\n",
    "\n",
    "# Create a feature \"language\"\n",
    "df['language'] = df.content.apply(detect_fasttext)"
   ]
  },
  {
   "cell_type": "code",
   "execution_count": 31,
   "metadata": {},
   "outputs": [],
   "source": [
    "# Create a DataFrame only with english text\n",
    "df = df[df['language'] == 'en']\n",
    "\n",
    "# Drop the language column\n",
    "df.drop('language', axis=1, inplace=True)"
   ]
  },
  {
   "cell_type": "code",
   "execution_count": 32,
   "metadata": {},
   "outputs": [
    {
     "data": {
      "text/plain": [
       "(38619, 8)"
      ]
     },
     "execution_count": 32,
     "metadata": {},
     "output_type": "execute_result"
    }
   ],
   "source": [
    "df.shape"
   ]
  },
  {
   "cell_type": "code",
   "execution_count": 33,
   "metadata": {},
   "outputs": [
    {
     "data": {
      "text/html": [
       "<div>\n",
       "<style scoped>\n",
       "    .dataframe tbody tr th:only-of-type {\n",
       "        vertical-align: middle;\n",
       "    }\n",
       "\n",
       "    .dataframe tbody tr th {\n",
       "        vertical-align: top;\n",
       "    }\n",
       "\n",
       "    .dataframe thead th {\n",
       "        text-align: right;\n",
       "    }\n",
       "</style>\n",
       "<table border=\"1\" class=\"dataframe\">\n",
       "  <thead>\n",
       "    <tr style=\"text-align: right;\">\n",
       "      <th></th>\n",
       "      <th>sentiment</th>\n",
       "      <th>author</th>\n",
       "      <th>content</th>\n",
       "      <th>polarity</th>\n",
       "      <th>mention_count</th>\n",
       "      <th>hashtag_count</th>\n",
       "      <th>char_count</th>\n",
       "      <th>has_link</th>\n",
       "    </tr>\n",
       "  </thead>\n",
       "  <tbody>\n",
       "    <tr>\n",
       "      <th>1</th>\n",
       "      <td>sadness</td>\n",
       "      <td>wannamama</td>\n",
       "      <td>layin n bed with a headache ughhhh...waitin on your call...</td>\n",
       "      <td>negative</td>\n",
       "      <td>0</td>\n",
       "      <td>0</td>\n",
       "      <td>59</td>\n",
       "      <td>0</td>\n",
       "    </tr>\n",
       "    <tr>\n",
       "      <th>2</th>\n",
       "      <td>sadness</td>\n",
       "      <td>coolfunky</td>\n",
       "      <td>funeral ceremony...gloomy friday...</td>\n",
       "      <td>negative</td>\n",
       "      <td>0</td>\n",
       "      <td>0</td>\n",
       "      <td>35</td>\n",
       "      <td>0</td>\n",
       "    </tr>\n",
       "    <tr>\n",
       "      <th>3</th>\n",
       "      <td>enthusiasm</td>\n",
       "      <td>czareaquino</td>\n",
       "      <td>wants to hang out with friends soon!</td>\n",
       "      <td>positive</td>\n",
       "      <td>0</td>\n",
       "      <td>0</td>\n",
       "      <td>36</td>\n",
       "      <td>0</td>\n",
       "    </tr>\n",
       "    <tr>\n",
       "      <th>4</th>\n",
       "      <td>neutral</td>\n",
       "      <td>xkilljoyx</td>\n",
       "      <td>@user we want to trade with someone who has houston tickets, but no one will.</td>\n",
       "      <td>neutral</td>\n",
       "      <td>1</td>\n",
       "      <td>0</td>\n",
       "      <td>77</td>\n",
       "      <td>0</td>\n",
       "    </tr>\n",
       "    <tr>\n",
       "      <th>5</th>\n",
       "      <td>worry</td>\n",
       "      <td>xxxPEACHESxxx</td>\n",
       "      <td>re-pinging @user why didn't you go to prom? bc my bf didn't like my friends</td>\n",
       "      <td>negative</td>\n",
       "      <td>1</td>\n",
       "      <td>0</td>\n",
       "      <td>75</td>\n",
       "      <td>0</td>\n",
       "    </tr>\n",
       "  </tbody>\n",
       "</table>\n",
       "</div>"
      ],
      "text/plain": [
       "    sentiment         author  \\\n",
       "1     sadness      wannamama   \n",
       "2     sadness      coolfunky   \n",
       "3  enthusiasm    czareaquino   \n",
       "4     neutral      xkilljoyx   \n",
       "5       worry  xxxPEACHESxxx   \n",
       "\n",
       "                                                                         content  \\\n",
       "1                    layin n bed with a headache ughhhh...waitin on your call...   \n",
       "2                                            funeral ceremony...gloomy friday...   \n",
       "3                                           wants to hang out with friends soon!   \n",
       "4  @user we want to trade with someone who has houston tickets, but no one will.   \n",
       "5    re-pinging @user why didn't you go to prom? bc my bf didn't like my friends   \n",
       "\n",
       "   polarity  mention_count  hashtag_count  char_count  has_link  \n",
       "1  negative              0              0          59         0  \n",
       "2  negative              0              0          35         0  \n",
       "3  positive              0              0          36         0  \n",
       "4   neutral              1              0          77         0  \n",
       "5  negative              1              0          75         0  "
      ]
     },
     "execution_count": 33,
     "metadata": {},
     "output_type": "execute_result"
    }
   ],
   "source": [
    "df.head()"
   ]
  },
  {
   "cell_type": "markdown",
   "metadata": {},
   "source": [
    "### Feature Selection"
   ]
  },
  {
   "cell_type": "code",
   "execution_count": 36,
   "metadata": {},
   "outputs": [],
   "source": [
    "# Drop unnecessary columns\n",
    "df.drop('author', axis=1, inplace=True)"
   ]
  },
  {
   "cell_type": "markdown",
   "metadata": {},
   "source": [
    "## Save Engineered Data"
   ]
  },
  {
   "cell_type": "code",
   "execution_count": 37,
   "metadata": {},
   "outputs": [],
   "source": [
    "df.to_pickle(\"data/emotions_preprocessed.pkl\")"
   ]
  },
  {
   "cell_type": "code",
   "execution_count": null,
   "metadata": {},
   "outputs": [],
   "source": []
  }
 ],
 "metadata": {
  "kernelspec": {
   "display_name": "Python 3",
   "language": "python",
   "name": "python3"
  },
  "language_info": {
   "codemirror_mode": {
    "name": "ipython",
    "version": 3
   },
   "file_extension": ".py",
   "mimetype": "text/x-python",
   "name": "python",
   "nbconvert_exporter": "python",
   "pygments_lexer": "ipython3",
   "version": "3.7.3"
  }
 },
 "nbformat": 4,
 "nbformat_minor": 4
}
